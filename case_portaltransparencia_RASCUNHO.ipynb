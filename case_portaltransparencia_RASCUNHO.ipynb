{
  "nbformat": 4,
  "nbformat_minor": 0,
  "metadata": {
    "colab": {
      "provenance": []
    },
    "kernelspec": {
      "name": "python3",
      "display_name": "Python 3"
    },
    "language_info": {
      "name": "python"
    }
  },
  "cells": [
    {
      "cell_type": "markdown",
      "source": [
        "CASE – Engenheiro de Analytics\n",
        " \n",
        "Desenvolva uma solução de BI com dados abertos disponíveis no Portal da Transparência do Governo Federal.\n",
        "Utilize como base, os dados disponíveis das seguintes sessões do portal da transparência: \n",
        "\n",
        "Despesas Pública\n",
        "•\tExecução da despesa\n",
        " \n",
        "Receitas Públicas\n",
        "•\tExecução da receita\n",
        "\n"
      ],
      "metadata": {
        "id": "pQHVTljAokEF"
      }
    },
    {
      "cell_type": "markdown",
      "source": [
        "- As receitas públicas são o montante total em recursos recolhidos pelo Tesouro Nacional e que serão incorporados ao patrimônio do Estado. Essas receitas servem para custear as despesas públicas e as necessidades de investimentos públicos. \n",
        "-  As despesas públicas, fixadas na LOA, representam os gastos autorizados para o governo nas diversas atividades e programas que compõe o orçamento público. Nesse conjunto estão as despesas com pessoal, educação, saúde, transporte, segurança, etc."
      ],
      "metadata": {
        "id": "uH4wY_iLxZDh"
      }
    },
    {
      "cell_type": "markdown",
      "source": [
        "**Análise descritiva dos dados importados**"
      ],
      "metadata": {
        "id": "xRactjODoqAg"
      }
    },
    {
      "cell_type": "markdown",
      "source": [
        "Os dados escolhido são o de Execução da Receita, do Portal da transparência, referente ao ano de 2022.\n",
        "\n",
        "**Obtendo dados para realizar a análise:**\n"
      ],
      "metadata": {
        "id": "DHBjVnvyovl_"
      }
    },
    {
      "cell_type": "code",
      "execution_count": null,
      "metadata": {
        "id": "hGfxRrIU0OEB"
      },
      "outputs": [],
      "source": [
        "import numpy as np\n",
        "import pandas as pd\n",
        "import matplotlib.pyplot as plt\n",
        "import seaborn as sns"
      ]
    },
    {
      "cell_type": "markdown",
      "source": [
        "# **Receitas**"
      ],
      "metadata": {
        "id": "rDuAyVrpD2Ew"
      }
    },
    {
      "cell_type": "code",
      "source": [
        "receita = pd.read_csv ('/content/2022_Receitas.csv', sep=';')"
      ],
      "metadata": {
        "colab": {
          "base_uri": "https://localhost:8080/"
        },
        "id": "t6X_A8ZZ0jnp",
        "outputId": "a9901952-3578-4c72-8c22-38e02f5d4754"
      },
      "execution_count": null,
      "outputs": [
        {
          "output_type": "stream",
          "name": "stderr",
          "text": [
            "/usr/local/lib/python3.7/dist-packages/IPython/core/interactiveshell.py:3326: DtypeWarning: Columns (10) have mixed types.Specify dtype option on import or set low_memory=False.\n",
            "  exec(code_obj, self.user_global_ns, self.user_ns)\n"
          ]
        }
      ]
    },
    {
      "cell_type": "code",
      "source": [
        "#importando biblioteca para fazer gráficos do tipo waffle\n",
        "!pip install pywaffle"
      ],
      "metadata": {
        "colab": {
          "base_uri": "https://localhost:8080/"
        },
        "id": "T0oIpg1KEPAl",
        "outputId": "6357d16e-d12f-4b7a-dbc5-c89c5b328f43"
      },
      "execution_count": null,
      "outputs": [
        {
          "output_type": "stream",
          "name": "stdout",
          "text": [
            "Looking in indexes: https://pypi.org/simple, https://us-python.pkg.dev/colab-wheels/public/simple/\n",
            "Collecting pywaffle\n",
            "  Downloading pywaffle-1.1.0-py2.py3-none-any.whl (30 kB)\n",
            "Collecting fontawesomefree\n",
            "  Downloading fontawesomefree-6.2.1-py3-none-any.whl (25.1 MB)\n",
            "\u001b[K     |████████████████████████████████| 25.1 MB 1.2 MB/s \n",
            "\u001b[?25hRequirement already satisfied: matplotlib in /usr/local/lib/python3.7/dist-packages (from pywaffle) (3.2.2)\n",
            "Requirement already satisfied: python-dateutil>=2.1 in /usr/local/lib/python3.7/dist-packages (from matplotlib->pywaffle) (2.8.2)\n",
            "Requirement already satisfied: pyparsing!=2.0.4,!=2.1.2,!=2.1.6,>=2.0.1 in /usr/local/lib/python3.7/dist-packages (from matplotlib->pywaffle) (3.0.9)\n",
            "Requirement already satisfied: kiwisolver>=1.0.1 in /usr/local/lib/python3.7/dist-packages (from matplotlib->pywaffle) (1.4.4)\n",
            "Requirement already satisfied: cycler>=0.10 in /usr/local/lib/python3.7/dist-packages (from matplotlib->pywaffle) (0.11.0)\n",
            "Requirement already satisfied: numpy>=1.11 in /usr/local/lib/python3.7/dist-packages (from matplotlib->pywaffle) (1.21.6)\n",
            "Requirement already satisfied: typing-extensions in /usr/local/lib/python3.7/dist-packages (from kiwisolver>=1.0.1->matplotlib->pywaffle) (4.1.1)\n",
            "Requirement already satisfied: six>=1.5 in /usr/local/lib/python3.7/dist-packages (from python-dateutil>=2.1->matplotlib->pywaffle) (1.15.0)\n",
            "Installing collected packages: fontawesomefree, pywaffle\n",
            "Successfully installed fontawesomefree-6.2.1 pywaffle-1.1.0\n"
          ]
        }
      ]
    },
    {
      "cell_type": "markdown",
      "source": [
        "**Estrutura dos dados:** "
      ],
      "metadata": {
        "id": "R6EKal1YpARn"
      }
    },
    {
      "cell_type": "code",
      "source": [
        "receita.head()"
      ],
      "metadata": {
        "colab": {
          "base_uri": "https://localhost:8080/",
          "height": 739
        },
        "id": "TLLYCOLLpUT6",
        "outputId": "ac980d16-fad7-44c5-b558-acc5d4aca8eb"
      },
      "execution_count": null,
      "outputs": [
        {
          "output_type": "execute_result",
          "data": {
            "text/plain": [
              "   CÓDIGO ÓRGÃO SUPERIOR                            NOME ÓRGÃO SUPERIOR  \\\n",
              "0                  25201  Banco Central do Brasil - Orçamento Fiscal e    \n",
              "1                  25201  Banco Central do Brasil - Orçamento Fiscal e    \n",
              "2                  25201  Banco Central do Brasil - Orçamento Fiscal e    \n",
              "3                  25201  Banco Central do Brasil - Orçamento Fiscal e    \n",
              "4                  25201  Banco Central do Brasil - Orçamento Fiscal e    \n",
              "\n",
              "   CÓDIGO ÓRGÃO                                         NOME ÓRGÃO  \\\n",
              "0         25201  Banco Central do Brasil - Orçamento Fiscal e S...   \n",
              "1         25201  Banco Central do Brasil - Orçamento Fiscal e S...   \n",
              "2         25201  Banco Central do Brasil - Orçamento Fiscal e S...   \n",
              "3         25201  Banco Central do Brasil - Orçamento Fiscal e S...   \n",
              "4         25201  Banco Central do Brasil - Orçamento Fiscal e S...   \n",
              "\n",
              "   CÓDIGO UNIDADE GESTORA     NOME UNIDADE GESTORA CATEGORIA ECONÔMICA  \\\n",
              "0                  173057  BANCO CENTRAL DO BRASIL  Receitas Correntes   \n",
              "1                  173057  BANCO CENTRAL DO BRASIL  Receitas Correntes   \n",
              "2                  173057  BANCO CENTRAL DO BRASIL  Receitas Correntes   \n",
              "3                  173057  BANCO CENTRAL DO BRASIL  Receitas Correntes   \n",
              "4                  173057  BANCO CENTRAL DO BRASIL  Receitas Correntes   \n",
              "\n",
              "        ORIGEM RECEITA                               ESPÉCIE RECEITA  \\\n",
              "0  Receita de Serviços  Serviços Administrativos e Comerciais Gerais   \n",
              "1  Receita de Serviços  Serviços Administrativos e Comerciais Gerais   \n",
              "2  Receita de Serviços  Serviços Administrativos e Comerciais Gerais   \n",
              "3  Receita de Serviços  Serviços Administrativos e Comerciais Gerais   \n",
              "4  Receita de Serviços  Serviços Administrativos e Comerciais Gerais   \n",
              "\n",
              "                                  DETALHAMENTO VALOR PREVISTO ATUALIZADO  \\\n",
              "0  SERV.ADMINISTRAT.E COMERCIAIS GERAIS-PRINC.                         0   \n",
              "1  SERV.ADMINISTRAT.E COMERCIAIS GERAIS-PRINC.                         0   \n",
              "2  SERV.ADMINISTRAT.E COMERCIAIS GERAIS-PRINC.                         0   \n",
              "3  SERV.ADMINISTRAT.E COMERCIAIS GERAIS-PRINC.                         0   \n",
              "4  SERV.ADMINISTRAT.E COMERCIAIS GERAIS-PRINC.                         0   \n",
              "\n",
              "  VALOR LANÇADO VALOR REALIZADO  PERCENTUAL REALIZADO DATA LANÇAMENTO  \\\n",
              "0             0          596146                     0      08/08/2022   \n",
              "1             0          572111                     0      26/01/2022   \n",
              "2             0             575                     0      01/09/2022   \n",
              "3             0              64                     0      21/09/2022   \n",
              "4             0          537960                     0      26/10/2022   \n",
              "\n",
              "   ANO EXERCÍCIO  \n",
              "0           2022  \n",
              "1           2022  \n",
              "2           2022  \n",
              "3           2022  \n",
              "4           2022  "
            ],
            "text/html": [
              "\n",
              "  <div id=\"df-061f6100-8b1d-4fd2-a5d2-2e5372cec112\">\n",
              "    <div class=\"colab-df-container\">\n",
              "      <div>\n",
              "<style scoped>\n",
              "    .dataframe tbody tr th:only-of-type {\n",
              "        vertical-align: middle;\n",
              "    }\n",
              "\n",
              "    .dataframe tbody tr th {\n",
              "        vertical-align: top;\n",
              "    }\n",
              "\n",
              "    .dataframe thead th {\n",
              "        text-align: right;\n",
              "    }\n",
              "</style>\n",
              "<table border=\"1\" class=\"dataframe\">\n",
              "  <thead>\n",
              "    <tr style=\"text-align: right;\">\n",
              "      <th></th>\n",
              "      <th>CÓDIGO ÓRGÃO SUPERIOR</th>\n",
              "      <th>NOME ÓRGÃO SUPERIOR</th>\n",
              "      <th>CÓDIGO ÓRGÃO</th>\n",
              "      <th>NOME ÓRGÃO</th>\n",
              "      <th>CÓDIGO UNIDADE GESTORA</th>\n",
              "      <th>NOME UNIDADE GESTORA</th>\n",
              "      <th>CATEGORIA ECONÔMICA</th>\n",
              "      <th>ORIGEM RECEITA</th>\n",
              "      <th>ESPÉCIE RECEITA</th>\n",
              "      <th>DETALHAMENTO</th>\n",
              "      <th>VALOR PREVISTO ATUALIZADO</th>\n",
              "      <th>VALOR LANÇADO</th>\n",
              "      <th>VALOR REALIZADO</th>\n",
              "      <th>PERCENTUAL REALIZADO</th>\n",
              "      <th>DATA LANÇAMENTO</th>\n",
              "      <th>ANO EXERCÍCIO</th>\n",
              "    </tr>\n",
              "  </thead>\n",
              "  <tbody>\n",
              "    <tr>\n",
              "      <th>0</th>\n",
              "      <td>25201</td>\n",
              "      <td>Banco Central do Brasil - Orçamento Fiscal e</td>\n",
              "      <td>25201</td>\n",
              "      <td>Banco Central do Brasil - Orçamento Fiscal e S...</td>\n",
              "      <td>173057</td>\n",
              "      <td>BANCO CENTRAL DO BRASIL</td>\n",
              "      <td>Receitas Correntes</td>\n",
              "      <td>Receita de Serviços</td>\n",
              "      <td>Serviços Administrativos e Comerciais Gerais</td>\n",
              "      <td>SERV.ADMINISTRAT.E COMERCIAIS GERAIS-PRINC.</td>\n",
              "      <td>0</td>\n",
              "      <td>0</td>\n",
              "      <td>596146</td>\n",
              "      <td>0</td>\n",
              "      <td>08/08/2022</td>\n",
              "      <td>2022</td>\n",
              "    </tr>\n",
              "    <tr>\n",
              "      <th>1</th>\n",
              "      <td>25201</td>\n",
              "      <td>Banco Central do Brasil - Orçamento Fiscal e</td>\n",
              "      <td>25201</td>\n",
              "      <td>Banco Central do Brasil - Orçamento Fiscal e S...</td>\n",
              "      <td>173057</td>\n",
              "      <td>BANCO CENTRAL DO BRASIL</td>\n",
              "      <td>Receitas Correntes</td>\n",
              "      <td>Receita de Serviços</td>\n",
              "      <td>Serviços Administrativos e Comerciais Gerais</td>\n",
              "      <td>SERV.ADMINISTRAT.E COMERCIAIS GERAIS-PRINC.</td>\n",
              "      <td>0</td>\n",
              "      <td>0</td>\n",
              "      <td>572111</td>\n",
              "      <td>0</td>\n",
              "      <td>26/01/2022</td>\n",
              "      <td>2022</td>\n",
              "    </tr>\n",
              "    <tr>\n",
              "      <th>2</th>\n",
              "      <td>25201</td>\n",
              "      <td>Banco Central do Brasil - Orçamento Fiscal e</td>\n",
              "      <td>25201</td>\n",
              "      <td>Banco Central do Brasil - Orçamento Fiscal e S...</td>\n",
              "      <td>173057</td>\n",
              "      <td>BANCO CENTRAL DO BRASIL</td>\n",
              "      <td>Receitas Correntes</td>\n",
              "      <td>Receita de Serviços</td>\n",
              "      <td>Serviços Administrativos e Comerciais Gerais</td>\n",
              "      <td>SERV.ADMINISTRAT.E COMERCIAIS GERAIS-PRINC.</td>\n",
              "      <td>0</td>\n",
              "      <td>0</td>\n",
              "      <td>575</td>\n",
              "      <td>0</td>\n",
              "      <td>01/09/2022</td>\n",
              "      <td>2022</td>\n",
              "    </tr>\n",
              "    <tr>\n",
              "      <th>3</th>\n",
              "      <td>25201</td>\n",
              "      <td>Banco Central do Brasil - Orçamento Fiscal e</td>\n",
              "      <td>25201</td>\n",
              "      <td>Banco Central do Brasil - Orçamento Fiscal e S...</td>\n",
              "      <td>173057</td>\n",
              "      <td>BANCO CENTRAL DO BRASIL</td>\n",
              "      <td>Receitas Correntes</td>\n",
              "      <td>Receita de Serviços</td>\n",
              "      <td>Serviços Administrativos e Comerciais Gerais</td>\n",
              "      <td>SERV.ADMINISTRAT.E COMERCIAIS GERAIS-PRINC.</td>\n",
              "      <td>0</td>\n",
              "      <td>0</td>\n",
              "      <td>64</td>\n",
              "      <td>0</td>\n",
              "      <td>21/09/2022</td>\n",
              "      <td>2022</td>\n",
              "    </tr>\n",
              "    <tr>\n",
              "      <th>4</th>\n",
              "      <td>25201</td>\n",
              "      <td>Banco Central do Brasil - Orçamento Fiscal e</td>\n",
              "      <td>25201</td>\n",
              "      <td>Banco Central do Brasil - Orçamento Fiscal e S...</td>\n",
              "      <td>173057</td>\n",
              "      <td>BANCO CENTRAL DO BRASIL</td>\n",
              "      <td>Receitas Correntes</td>\n",
              "      <td>Receita de Serviços</td>\n",
              "      <td>Serviços Administrativos e Comerciais Gerais</td>\n",
              "      <td>SERV.ADMINISTRAT.E COMERCIAIS GERAIS-PRINC.</td>\n",
              "      <td>0</td>\n",
              "      <td>0</td>\n",
              "      <td>537960</td>\n",
              "      <td>0</td>\n",
              "      <td>26/10/2022</td>\n",
              "      <td>2022</td>\n",
              "    </tr>\n",
              "  </tbody>\n",
              "</table>\n",
              "</div>\n",
              "      <button class=\"colab-df-convert\" onclick=\"convertToInteractive('df-061f6100-8b1d-4fd2-a5d2-2e5372cec112')\"\n",
              "              title=\"Convert this dataframe to an interactive table.\"\n",
              "              style=\"display:none;\">\n",
              "        \n",
              "  <svg xmlns=\"http://www.w3.org/2000/svg\" height=\"24px\"viewBox=\"0 0 24 24\"\n",
              "       width=\"24px\">\n",
              "    <path d=\"M0 0h24v24H0V0z\" fill=\"none\"/>\n",
              "    <path d=\"M18.56 5.44l.94 2.06.94-2.06 2.06-.94-2.06-.94-.94-2.06-.94 2.06-2.06.94zm-11 1L8.5 8.5l.94-2.06 2.06-.94-2.06-.94L8.5 2.5l-.94 2.06-2.06.94zm10 10l.94 2.06.94-2.06 2.06-.94-2.06-.94-.94-2.06-.94 2.06-2.06.94z\"/><path d=\"M17.41 7.96l-1.37-1.37c-.4-.4-.92-.59-1.43-.59-.52 0-1.04.2-1.43.59L10.3 9.45l-7.72 7.72c-.78.78-.78 2.05 0 2.83L4 21.41c.39.39.9.59 1.41.59.51 0 1.02-.2 1.41-.59l7.78-7.78 2.81-2.81c.8-.78.8-2.07 0-2.86zM5.41 20L4 18.59l7.72-7.72 1.47 1.35L5.41 20z\"/>\n",
              "  </svg>\n",
              "      </button>\n",
              "      \n",
              "  <style>\n",
              "    .colab-df-container {\n",
              "      display:flex;\n",
              "      flex-wrap:wrap;\n",
              "      gap: 12px;\n",
              "    }\n",
              "\n",
              "    .colab-df-convert {\n",
              "      background-color: #E8F0FE;\n",
              "      border: none;\n",
              "      border-radius: 50%;\n",
              "      cursor: pointer;\n",
              "      display: none;\n",
              "      fill: #1967D2;\n",
              "      height: 32px;\n",
              "      padding: 0 0 0 0;\n",
              "      width: 32px;\n",
              "    }\n",
              "\n",
              "    .colab-df-convert:hover {\n",
              "      background-color: #E2EBFA;\n",
              "      box-shadow: 0px 1px 2px rgba(60, 64, 67, 0.3), 0px 1px 3px 1px rgba(60, 64, 67, 0.15);\n",
              "      fill: #174EA6;\n",
              "    }\n",
              "\n",
              "    [theme=dark] .colab-df-convert {\n",
              "      background-color: #3B4455;\n",
              "      fill: #D2E3FC;\n",
              "    }\n",
              "\n",
              "    [theme=dark] .colab-df-convert:hover {\n",
              "      background-color: #434B5C;\n",
              "      box-shadow: 0px 1px 3px 1px rgba(0, 0, 0, 0.15);\n",
              "      filter: drop-shadow(0px 1px 2px rgba(0, 0, 0, 0.3));\n",
              "      fill: #FFFFFF;\n",
              "    }\n",
              "  </style>\n",
              "\n",
              "      <script>\n",
              "        const buttonEl =\n",
              "          document.querySelector('#df-061f6100-8b1d-4fd2-a5d2-2e5372cec112 button.colab-df-convert');\n",
              "        buttonEl.style.display =\n",
              "          google.colab.kernel.accessAllowed ? 'block' : 'none';\n",
              "\n",
              "        async function convertToInteractive(key) {\n",
              "          const element = document.querySelector('#df-061f6100-8b1d-4fd2-a5d2-2e5372cec112');\n",
              "          const dataTable =\n",
              "            await google.colab.kernel.invokeFunction('convertToInteractive',\n",
              "                                                     [key], {});\n",
              "          if (!dataTable) return;\n",
              "\n",
              "          const docLinkHtml = 'Like what you see? Visit the ' +\n",
              "            '<a target=\"_blank\" href=https://colab.research.google.com/notebooks/data_table.ipynb>data table notebook</a>'\n",
              "            + ' to learn more about interactive tables.';\n",
              "          element.innerHTML = '';\n",
              "          dataTable['output_type'] = 'display_data';\n",
              "          await google.colab.output.renderOutput(dataTable, element);\n",
              "          const docLink = document.createElement('div');\n",
              "          docLink.innerHTML = docLinkHtml;\n",
              "          element.appendChild(docLink);\n",
              "        }\n",
              "      </script>\n",
              "    </div>\n",
              "  </div>\n",
              "  "
            ]
          },
          "metadata": {},
          "execution_count": 14
        }
      ]
    },
    {
      "cell_type": "markdown",
      "source": [
        "coluna valor realizado: maior gasto é em R$584.956.046,8 para Banco Central do Brasil - Orçamento Fiscal e Seguridade Social - Unidades com vínculo direto.\n"
      ],
      "metadata": {
        "id": "56e5Zc_u3LIH"
      }
    },
    {
      "cell_type": "code",
      "source": [
        "receita.describe()"
      ],
      "metadata": {
        "colab": {
          "base_uri": "https://localhost:8080/",
          "height": 300
        },
        "id": "7RmyKjcOx6gq",
        "outputId": "217e90a6-0c6b-4444-a131-c23e7a1bb738"
      },
      "execution_count": null,
      "outputs": [
        {
          "output_type": "execute_result",
          "data": {
            "text/plain": [
              "       CÓDIGO ÓRGÃO SUPERIOR   CÓDIGO ÓRGÃO  CÓDIGO UNIDADE GESTORA  \\\n",
              "count          140017.000000  140017.000000           140017.000000   \n",
              "mean            32199.238114   31220.407515           230455.019969   \n",
              "std             10237.184099   10038.572322           139504.438305   \n",
              "min             20000.000000   20101.000000           110005.000000   \n",
              "25%             25000.000000   25000.000000           154042.000000   \n",
              "50%             26000.000000   26294.000000           170013.000000   \n",
              "75%             39000.000000   34902.000000           242160.000000   \n",
              "max             81000.000000   90000.000000           873001.000000   \n",
              "\n",
              "       PERCENTUAL REALIZADO  ANO EXERCÍCIO  \n",
              "count         140017.000000       140017.0  \n",
              "mean               0.269696         2022.0  \n",
              "std               99.380147            0.0  \n",
              "min                0.000000         2022.0  \n",
              "25%                0.000000         2022.0  \n",
              "50%                0.000000         2022.0  \n",
              "75%                0.000000         2022.0  \n",
              "max            37186.000000         2022.0  "
            ],
            "text/html": [
              "\n",
              "  <div id=\"df-8d90006e-0ba7-4bc2-9257-4fe3b92aa87d\">\n",
              "    <div class=\"colab-df-container\">\n",
              "      <div>\n",
              "<style scoped>\n",
              "    .dataframe tbody tr th:only-of-type {\n",
              "        vertical-align: middle;\n",
              "    }\n",
              "\n",
              "    .dataframe tbody tr th {\n",
              "        vertical-align: top;\n",
              "    }\n",
              "\n",
              "    .dataframe thead th {\n",
              "        text-align: right;\n",
              "    }\n",
              "</style>\n",
              "<table border=\"1\" class=\"dataframe\">\n",
              "  <thead>\n",
              "    <tr style=\"text-align: right;\">\n",
              "      <th></th>\n",
              "      <th>CÓDIGO ÓRGÃO SUPERIOR</th>\n",
              "      <th>CÓDIGO ÓRGÃO</th>\n",
              "      <th>CÓDIGO UNIDADE GESTORA</th>\n",
              "      <th>PERCENTUAL REALIZADO</th>\n",
              "      <th>ANO EXERCÍCIO</th>\n",
              "    </tr>\n",
              "  </thead>\n",
              "  <tbody>\n",
              "    <tr>\n",
              "      <th>count</th>\n",
              "      <td>140017.000000</td>\n",
              "      <td>140017.000000</td>\n",
              "      <td>140017.000000</td>\n",
              "      <td>140017.000000</td>\n",
              "      <td>140017.0</td>\n",
              "    </tr>\n",
              "    <tr>\n",
              "      <th>mean</th>\n",
              "      <td>32199.238114</td>\n",
              "      <td>31220.407515</td>\n",
              "      <td>230455.019969</td>\n",
              "      <td>0.269696</td>\n",
              "      <td>2022.0</td>\n",
              "    </tr>\n",
              "    <tr>\n",
              "      <th>std</th>\n",
              "      <td>10237.184099</td>\n",
              "      <td>10038.572322</td>\n",
              "      <td>139504.438305</td>\n",
              "      <td>99.380147</td>\n",
              "      <td>0.0</td>\n",
              "    </tr>\n",
              "    <tr>\n",
              "      <th>min</th>\n",
              "      <td>20000.000000</td>\n",
              "      <td>20101.000000</td>\n",
              "      <td>110005.000000</td>\n",
              "      <td>0.000000</td>\n",
              "      <td>2022.0</td>\n",
              "    </tr>\n",
              "    <tr>\n",
              "      <th>25%</th>\n",
              "      <td>25000.000000</td>\n",
              "      <td>25000.000000</td>\n",
              "      <td>154042.000000</td>\n",
              "      <td>0.000000</td>\n",
              "      <td>2022.0</td>\n",
              "    </tr>\n",
              "    <tr>\n",
              "      <th>50%</th>\n",
              "      <td>26000.000000</td>\n",
              "      <td>26294.000000</td>\n",
              "      <td>170013.000000</td>\n",
              "      <td>0.000000</td>\n",
              "      <td>2022.0</td>\n",
              "    </tr>\n",
              "    <tr>\n",
              "      <th>75%</th>\n",
              "      <td>39000.000000</td>\n",
              "      <td>34902.000000</td>\n",
              "      <td>242160.000000</td>\n",
              "      <td>0.000000</td>\n",
              "      <td>2022.0</td>\n",
              "    </tr>\n",
              "    <tr>\n",
              "      <th>max</th>\n",
              "      <td>81000.000000</td>\n",
              "      <td>90000.000000</td>\n",
              "      <td>873001.000000</td>\n",
              "      <td>37186.000000</td>\n",
              "      <td>2022.0</td>\n",
              "    </tr>\n",
              "  </tbody>\n",
              "</table>\n",
              "</div>\n",
              "      <button class=\"colab-df-convert\" onclick=\"convertToInteractive('df-8d90006e-0ba7-4bc2-9257-4fe3b92aa87d')\"\n",
              "              title=\"Convert this dataframe to an interactive table.\"\n",
              "              style=\"display:none;\">\n",
              "        \n",
              "  <svg xmlns=\"http://www.w3.org/2000/svg\" height=\"24px\"viewBox=\"0 0 24 24\"\n",
              "       width=\"24px\">\n",
              "    <path d=\"M0 0h24v24H0V0z\" fill=\"none\"/>\n",
              "    <path d=\"M18.56 5.44l.94 2.06.94-2.06 2.06-.94-2.06-.94-.94-2.06-.94 2.06-2.06.94zm-11 1L8.5 8.5l.94-2.06 2.06-.94-2.06-.94L8.5 2.5l-.94 2.06-2.06.94zm10 10l.94 2.06.94-2.06 2.06-.94-2.06-.94-.94-2.06-.94 2.06-2.06.94z\"/><path d=\"M17.41 7.96l-1.37-1.37c-.4-.4-.92-.59-1.43-.59-.52 0-1.04.2-1.43.59L10.3 9.45l-7.72 7.72c-.78.78-.78 2.05 0 2.83L4 21.41c.39.39.9.59 1.41.59.51 0 1.02-.2 1.41-.59l7.78-7.78 2.81-2.81c.8-.78.8-2.07 0-2.86zM5.41 20L4 18.59l7.72-7.72 1.47 1.35L5.41 20z\"/>\n",
              "  </svg>\n",
              "      </button>\n",
              "      \n",
              "  <style>\n",
              "    .colab-df-container {\n",
              "      display:flex;\n",
              "      flex-wrap:wrap;\n",
              "      gap: 12px;\n",
              "    }\n",
              "\n",
              "    .colab-df-convert {\n",
              "      background-color: #E8F0FE;\n",
              "      border: none;\n",
              "      border-radius: 50%;\n",
              "      cursor: pointer;\n",
              "      display: none;\n",
              "      fill: #1967D2;\n",
              "      height: 32px;\n",
              "      padding: 0 0 0 0;\n",
              "      width: 32px;\n",
              "    }\n",
              "\n",
              "    .colab-df-convert:hover {\n",
              "      background-color: #E2EBFA;\n",
              "      box-shadow: 0px 1px 2px rgba(60, 64, 67, 0.3), 0px 1px 3px 1px rgba(60, 64, 67, 0.15);\n",
              "      fill: #174EA6;\n",
              "    }\n",
              "\n",
              "    [theme=dark] .colab-df-convert {\n",
              "      background-color: #3B4455;\n",
              "      fill: #D2E3FC;\n",
              "    }\n",
              "\n",
              "    [theme=dark] .colab-df-convert:hover {\n",
              "      background-color: #434B5C;\n",
              "      box-shadow: 0px 1px 3px 1px rgba(0, 0, 0, 0.15);\n",
              "      filter: drop-shadow(0px 1px 2px rgba(0, 0, 0, 0.3));\n",
              "      fill: #FFFFFF;\n",
              "    }\n",
              "  </style>\n",
              "\n",
              "      <script>\n",
              "        const buttonEl =\n",
              "          document.querySelector('#df-8d90006e-0ba7-4bc2-9257-4fe3b92aa87d button.colab-df-convert');\n",
              "        buttonEl.style.display =\n",
              "          google.colab.kernel.accessAllowed ? 'block' : 'none';\n",
              "\n",
              "        async function convertToInteractive(key) {\n",
              "          const element = document.querySelector('#df-8d90006e-0ba7-4bc2-9257-4fe3b92aa87d');\n",
              "          const dataTable =\n",
              "            await google.colab.kernel.invokeFunction('convertToInteractive',\n",
              "                                                     [key], {});\n",
              "          if (!dataTable) return;\n",
              "\n",
              "          const docLinkHtml = 'Like what you see? Visit the ' +\n",
              "            '<a target=\"_blank\" href=https://colab.research.google.com/notebooks/data_table.ipynb>data table notebook</a>'\n",
              "            + ' to learn more about interactive tables.';\n",
              "          element.innerHTML = '';\n",
              "          dataTable['output_type'] = 'display_data';\n",
              "          await google.colab.output.renderOutput(dataTable, element);\n",
              "          const docLink = document.createElement('div');\n",
              "          docLink.innerHTML = docLinkHtml;\n",
              "          element.appendChild(docLink);\n",
              "        }\n",
              "      </script>\n",
              "    </div>\n",
              "  </div>\n",
              "  "
            ]
          },
          "metadata": {},
          "execution_count": 15
        }
      ]
    },
    {
      "cell_type": "code",
      "source": [
        "receita.shape\n",
        "print('O dataset possui',receita.shape[0], 'linhas e', receita.shape[1], 'colunas.')"
      ],
      "metadata": {
        "colab": {
          "base_uri": "https://localhost:8080/"
        },
        "id": "JbBqj0mLqp7r",
        "outputId": "251d5e21-5717-4e3a-c717-9a00321ff762"
      },
      "execution_count": null,
      "outputs": [
        {
          "output_type": "stream",
          "name": "stdout",
          "text": [
            "O dataset possui 1048575 linhas e 6 colunas.\n"
          ]
        }
      ]
    },
    {
      "cell_type": "code",
      "source": [
        "#colunas do dataset:\n",
        "receita.columns"
      ],
      "metadata": {
        "colab": {
          "base_uri": "https://localhost:8080/"
        },
        "id": "tP1bFHlg110q",
        "outputId": "c540c809-a594-4b71-bab2-aca6deaabf85"
      },
      "execution_count": null,
      "outputs": [
        {
          "output_type": "execute_result",
          "data": {
            "text/plain": [
              "Index(['CÓDIGO ÓRGÃO SUPERIOR', 'NOME ÓRGÃO SUPERIOR', 'CÓDIGO ÓRGÃO',\n",
              "       'NOME ÓRGÃO', 'CÓDIGO UNIDADE GESTORA', 'NOME UNIDADE GESTORA',\n",
              "       'CATEGORIA ECONÔMICA', 'ORIGEM RECEITA', 'ESPÉCIE RECEITA',\n",
              "       'DETALHAMENTO', 'VALOR PREVISTO ATUALIZADO', 'VALOR LANÇADO',\n",
              "       'VALOR REALIZADO', 'PERCENTUAL REALIZADO', 'DATA LANÇAMENTO',\n",
              "       'ANO EXERCÍCIO'],\n",
              "      dtype='object')"
            ]
          },
          "metadata": {},
          "execution_count": 16
        }
      ]
    },
    {
      "cell_type": "code",
      "source": [
        "#especificações sobre os dados:\n",
        "receita.info()"
      ],
      "metadata": {
        "id": "gD7UK3YJFb6U",
        "colab": {
          "base_uri": "https://localhost:8080/"
        },
        "outputId": "9805f2dd-7169-4e93-a06d-ae6e88d6806a"
      },
      "execution_count": null,
      "outputs": [
        {
          "output_type": "stream",
          "name": "stdout",
          "text": [
            "<class 'pandas.core.frame.DataFrame'>\n",
            "RangeIndex: 140017 entries, 0 to 140016\n",
            "Data columns (total 16 columns):\n",
            " #   Column                     Non-Null Count   Dtype \n",
            "---  ------                     --------------   ----- \n",
            " 0   CÓDIGO ÓRGÃO SUPERIOR      140017 non-null  int64 \n",
            " 1   NOME ÓRGÃO SUPERIOR        140017 non-null  object\n",
            " 2   CÓDIGO ÓRGÃO               140017 non-null  int64 \n",
            " 3   NOME ÓRGÃO                 140017 non-null  object\n",
            " 4   CÓDIGO UNIDADE GESTORA     140017 non-null  int64 \n",
            " 5   NOME UNIDADE GESTORA       140017 non-null  object\n",
            " 6   CATEGORIA ECONÔMICA        140017 non-null  object\n",
            " 7   ORIGEM RECEITA             140017 non-null  object\n",
            " 8   ESPÉCIE RECEITA            140017 non-null  object\n",
            " 9   DETALHAMENTO               140017 non-null  object\n",
            " 10  VALOR PREVISTO ATUALIZADO  140017 non-null  object\n",
            " 11  VALOR LANÇADO              140017 non-null  object\n",
            " 12  VALOR REALIZADO            140017 non-null  object\n",
            " 13  PERCENTUAL REALIZADO       140017 non-null  int64 \n",
            " 14  DATA LANÇAMENTO            139894 non-null  object\n",
            " 15  ANO EXERCÍCIO              140017 non-null  int64 \n",
            "dtypes: int64(5), object(11)\n",
            "memory usage: 17.1+ MB\n"
          ]
        }
      ]
    },
    {
      "cell_type": "code",
      "source": [
        "#selecionando apenas as colunas do tipo object:\n",
        "receita.select_dtypes(include='object')"
      ],
      "metadata": {
        "colab": {
          "base_uri": "https://localhost:8080/",
          "height": 1000
        },
        "id": "QEXQ1kINrMmX",
        "outputId": "f6001048-20f0-4ea2-c61e-36a5f0c4035a"
      },
      "execution_count": null,
      "outputs": [
        {
          "output_type": "execute_result",
          "data": {
            "text/plain": [
              "                                  NOME ÓRGÃO SUPERIOR  \\\n",
              "0       Banco Central do Brasil - Orçamento Fiscal e    \n",
              "1       Banco Central do Brasil - Orçamento Fiscal e    \n",
              "2       Banco Central do Brasil - Orçamento Fiscal e    \n",
              "3       Banco Central do Brasil - Orçamento Fiscal e    \n",
              "4       Banco Central do Brasil - Orçamento Fiscal e    \n",
              "...                                               ...   \n",
              "140012                       Presidência da República   \n",
              "140013                       Presidência da República   \n",
              "140014                       Presidência da República   \n",
              "140015                       Presidência da República   \n",
              "140016                       Presidência da República   \n",
              "\n",
              "                                               NOME ÓRGÃO  \\\n",
              "0       Banco Central do Brasil - Orçamento Fiscal e S...   \n",
              "1       Banco Central do Brasil - Orçamento Fiscal e S...   \n",
              "2       Banco Central do Brasil - Orçamento Fiscal e S...   \n",
              "3       Banco Central do Brasil - Orçamento Fiscal e S...   \n",
              "4       Banco Central do Brasil - Orçamento Fiscal e S...   \n",
              "...                                                   ...   \n",
              "140012     Instituto Nacional de Tecnologia da Informação   \n",
              "140013                         Fundo de Imprensa Nacional   \n",
              "140014                           Presidência da República   \n",
              "140015                           Presidência da República   \n",
              "140016                           Presidência da República   \n",
              "\n",
              "                                 NOME UNIDADE GESTORA  CATEGORIA ECONÔMICA  \\\n",
              "0                             BANCO CENTRAL DO BRASIL   Receitas Correntes   \n",
              "1                             BANCO CENTRAL DO BRASIL   Receitas Correntes   \n",
              "2                             BANCO CENTRAL DO BRASIL   Receitas Correntes   \n",
              "3                             BANCO CENTRAL DO BRASIL   Receitas Correntes   \n",
              "4                             BANCO CENTRAL DO BRASIL   Receitas Correntes   \n",
              "...                                               ...                  ...   \n",
              "140012  INSTITUTO NAC.DE TECNOLOGIA DA INFORMACAO ITI   Receitas Correntes   \n",
              "140013    FUNDO DE IMPRENSA NACIONAL/EXEC.ORC.FINANC.   Receitas Correntes   \n",
              "140014  SECRETARIA DE ADMINISTRACAO-SET.ORC.E FIN./PR  Receitas de Capital   \n",
              "140015  SECRETARIA DE ADMINISTRACAO-SET.ORC.E FIN./PR  Receitas de Capital   \n",
              "140016  SECRETARIA DE ADMINISTRACAO-SET.ORC.E FIN./PR   Receitas Correntes   \n",
              "\n",
              "             ORIGEM RECEITA                               ESPÉCIE RECEITA  \\\n",
              "0       Receita de Serviços  Serviços Administrativos e Comerciais Gerais   \n",
              "1       Receita de Serviços  Serviços Administrativos e Comerciais Gerais   \n",
              "2       Receita de Serviços  Serviços Administrativos e Comerciais Gerais   \n",
              "3       Receita de Serviços  Serviços Administrativos e Comerciais Gerais   \n",
              "4       Receita de Serviços  Serviços Administrativos e Comerciais Gerais   \n",
              "...                     ...                                           ...   \n",
              "140012  Receita de Serviços  Serviços Administrativos e Comerciais Gerais   \n",
              "140013   Receita Industrial        Receita da indústria extrativa mineral   \n",
              "140014    Alienação de Bens                      Alienação de bens móveis   \n",
              "140015    Alienação de Bens                      Alienação de bens móveis   \n",
              "140016  Receita Patrimonial               Exploração de recursos naturais   \n",
              "\n",
              "                                         DETALHAMENTO  \\\n",
              "0         SERV.ADMINISTRAT.E COMERCIAIS GERAIS-PRINC.   \n",
              "1         SERV.ADMINISTRAT.E COMERCIAIS GERAIS-PRINC.   \n",
              "2         SERV.ADMINISTRAT.E COMERCIAIS GERAIS-PRINC.   \n",
              "3         SERV.ADMINISTRAT.E COMERCIAIS GERAIS-PRINC.   \n",
              "4         SERV.ADMINISTRAT.E COMERCIAIS GERAIS-PRINC.   \n",
              "...                                               ...   \n",
              "140012   SERV.DE REGIST.,CERTIF.E FISCALIZ.-PRINCIPAL   \n",
              "140013              RECEITA INDUSTRIAL-MULTAS E JUROS   \n",
              "140014   ALIENACAO DE BENS MOVEIS E SEMOVENTES-PRINC.   \n",
              "140015   ALIENACAO DE BENS MOVEIS E SEMOVENTES-PRINC.   \n",
              "140016  ROY.EXC.PETRO.PLAT-CM.ANT.3/12/12-P.SAL-PRINC   \n",
              "\n",
              "       VALOR PREVISTO ATUALIZADO VALOR LANÇADO VALOR REALIZADO DATA LANÇAMENTO  \n",
              "0                              0             0          596146      08/08/2022  \n",
              "1                              0             0          572111      26/01/2022  \n",
              "2                              0             0             575      01/09/2022  \n",
              "3                              0             0              64      21/09/2022  \n",
              "4                              0             0          537960      26/10/2022  \n",
              "...                          ...           ...             ...             ...  \n",
              "140012                         0             0          200000      19/04/2022  \n",
              "140013                         0             0          456,26      19/08/2022  \n",
              "140014                         0             0          250532      23/03/2022  \n",
              "140015                         0             0        67599,41      29/09/2022  \n",
              "140016                1223787109             0               0      24/01/2022  \n",
              "\n",
              "[140017 rows x 11 columns]"
            ],
            "text/html": [
              "\n",
              "  <div id=\"df-c6588704-2a99-4729-b54d-f862ea078d36\">\n",
              "    <div class=\"colab-df-container\">\n",
              "      <div>\n",
              "<style scoped>\n",
              "    .dataframe tbody tr th:only-of-type {\n",
              "        vertical-align: middle;\n",
              "    }\n",
              "\n",
              "    .dataframe tbody tr th {\n",
              "        vertical-align: top;\n",
              "    }\n",
              "\n",
              "    .dataframe thead th {\n",
              "        text-align: right;\n",
              "    }\n",
              "</style>\n",
              "<table border=\"1\" class=\"dataframe\">\n",
              "  <thead>\n",
              "    <tr style=\"text-align: right;\">\n",
              "      <th></th>\n",
              "      <th>NOME ÓRGÃO SUPERIOR</th>\n",
              "      <th>NOME ÓRGÃO</th>\n",
              "      <th>NOME UNIDADE GESTORA</th>\n",
              "      <th>CATEGORIA ECONÔMICA</th>\n",
              "      <th>ORIGEM RECEITA</th>\n",
              "      <th>ESPÉCIE RECEITA</th>\n",
              "      <th>DETALHAMENTO</th>\n",
              "      <th>VALOR PREVISTO ATUALIZADO</th>\n",
              "      <th>VALOR LANÇADO</th>\n",
              "      <th>VALOR REALIZADO</th>\n",
              "      <th>DATA LANÇAMENTO</th>\n",
              "    </tr>\n",
              "  </thead>\n",
              "  <tbody>\n",
              "    <tr>\n",
              "      <th>0</th>\n",
              "      <td>Banco Central do Brasil - Orçamento Fiscal e</td>\n",
              "      <td>Banco Central do Brasil - Orçamento Fiscal e S...</td>\n",
              "      <td>BANCO CENTRAL DO BRASIL</td>\n",
              "      <td>Receitas Correntes</td>\n",
              "      <td>Receita de Serviços</td>\n",
              "      <td>Serviços Administrativos e Comerciais Gerais</td>\n",
              "      <td>SERV.ADMINISTRAT.E COMERCIAIS GERAIS-PRINC.</td>\n",
              "      <td>0</td>\n",
              "      <td>0</td>\n",
              "      <td>596146</td>\n",
              "      <td>08/08/2022</td>\n",
              "    </tr>\n",
              "    <tr>\n",
              "      <th>1</th>\n",
              "      <td>Banco Central do Brasil - Orçamento Fiscal e</td>\n",
              "      <td>Banco Central do Brasil - Orçamento Fiscal e S...</td>\n",
              "      <td>BANCO CENTRAL DO BRASIL</td>\n",
              "      <td>Receitas Correntes</td>\n",
              "      <td>Receita de Serviços</td>\n",
              "      <td>Serviços Administrativos e Comerciais Gerais</td>\n",
              "      <td>SERV.ADMINISTRAT.E COMERCIAIS GERAIS-PRINC.</td>\n",
              "      <td>0</td>\n",
              "      <td>0</td>\n",
              "      <td>572111</td>\n",
              "      <td>26/01/2022</td>\n",
              "    </tr>\n",
              "    <tr>\n",
              "      <th>2</th>\n",
              "      <td>Banco Central do Brasil - Orçamento Fiscal e</td>\n",
              "      <td>Banco Central do Brasil - Orçamento Fiscal e S...</td>\n",
              "      <td>BANCO CENTRAL DO BRASIL</td>\n",
              "      <td>Receitas Correntes</td>\n",
              "      <td>Receita de Serviços</td>\n",
              "      <td>Serviços Administrativos e Comerciais Gerais</td>\n",
              "      <td>SERV.ADMINISTRAT.E COMERCIAIS GERAIS-PRINC.</td>\n",
              "      <td>0</td>\n",
              "      <td>0</td>\n",
              "      <td>575</td>\n",
              "      <td>01/09/2022</td>\n",
              "    </tr>\n",
              "    <tr>\n",
              "      <th>3</th>\n",
              "      <td>Banco Central do Brasil - Orçamento Fiscal e</td>\n",
              "      <td>Banco Central do Brasil - Orçamento Fiscal e S...</td>\n",
              "      <td>BANCO CENTRAL DO BRASIL</td>\n",
              "      <td>Receitas Correntes</td>\n",
              "      <td>Receita de Serviços</td>\n",
              "      <td>Serviços Administrativos e Comerciais Gerais</td>\n",
              "      <td>SERV.ADMINISTRAT.E COMERCIAIS GERAIS-PRINC.</td>\n",
              "      <td>0</td>\n",
              "      <td>0</td>\n",
              "      <td>64</td>\n",
              "      <td>21/09/2022</td>\n",
              "    </tr>\n",
              "    <tr>\n",
              "      <th>4</th>\n",
              "      <td>Banco Central do Brasil - Orçamento Fiscal e</td>\n",
              "      <td>Banco Central do Brasil - Orçamento Fiscal e S...</td>\n",
              "      <td>BANCO CENTRAL DO BRASIL</td>\n",
              "      <td>Receitas Correntes</td>\n",
              "      <td>Receita de Serviços</td>\n",
              "      <td>Serviços Administrativos e Comerciais Gerais</td>\n",
              "      <td>SERV.ADMINISTRAT.E COMERCIAIS GERAIS-PRINC.</td>\n",
              "      <td>0</td>\n",
              "      <td>0</td>\n",
              "      <td>537960</td>\n",
              "      <td>26/10/2022</td>\n",
              "    </tr>\n",
              "    <tr>\n",
              "      <th>...</th>\n",
              "      <td>...</td>\n",
              "      <td>...</td>\n",
              "      <td>...</td>\n",
              "      <td>...</td>\n",
              "      <td>...</td>\n",
              "      <td>...</td>\n",
              "      <td>...</td>\n",
              "      <td>...</td>\n",
              "      <td>...</td>\n",
              "      <td>...</td>\n",
              "      <td>...</td>\n",
              "    </tr>\n",
              "    <tr>\n",
              "      <th>140012</th>\n",
              "      <td>Presidência da República</td>\n",
              "      <td>Instituto Nacional de Tecnologia da Informação</td>\n",
              "      <td>INSTITUTO NAC.DE TECNOLOGIA DA INFORMACAO ITI</td>\n",
              "      <td>Receitas Correntes</td>\n",
              "      <td>Receita de Serviços</td>\n",
              "      <td>Serviços Administrativos e Comerciais Gerais</td>\n",
              "      <td>SERV.DE REGIST.,CERTIF.E FISCALIZ.-PRINCIPAL</td>\n",
              "      <td>0</td>\n",
              "      <td>0</td>\n",
              "      <td>200000</td>\n",
              "      <td>19/04/2022</td>\n",
              "    </tr>\n",
              "    <tr>\n",
              "      <th>140013</th>\n",
              "      <td>Presidência da República</td>\n",
              "      <td>Fundo de Imprensa Nacional</td>\n",
              "      <td>FUNDO DE IMPRENSA NACIONAL/EXEC.ORC.FINANC.</td>\n",
              "      <td>Receitas Correntes</td>\n",
              "      <td>Receita Industrial</td>\n",
              "      <td>Receita da indústria extrativa mineral</td>\n",
              "      <td>RECEITA INDUSTRIAL-MULTAS E JUROS</td>\n",
              "      <td>0</td>\n",
              "      <td>0</td>\n",
              "      <td>456,26</td>\n",
              "      <td>19/08/2022</td>\n",
              "    </tr>\n",
              "    <tr>\n",
              "      <th>140014</th>\n",
              "      <td>Presidência da República</td>\n",
              "      <td>Presidência da República</td>\n",
              "      <td>SECRETARIA DE ADMINISTRACAO-SET.ORC.E FIN./PR</td>\n",
              "      <td>Receitas de Capital</td>\n",
              "      <td>Alienação de Bens</td>\n",
              "      <td>Alienação de bens móveis</td>\n",
              "      <td>ALIENACAO DE BENS MOVEIS E SEMOVENTES-PRINC.</td>\n",
              "      <td>0</td>\n",
              "      <td>0</td>\n",
              "      <td>250532</td>\n",
              "      <td>23/03/2022</td>\n",
              "    </tr>\n",
              "    <tr>\n",
              "      <th>140015</th>\n",
              "      <td>Presidência da República</td>\n",
              "      <td>Presidência da República</td>\n",
              "      <td>SECRETARIA DE ADMINISTRACAO-SET.ORC.E FIN./PR</td>\n",
              "      <td>Receitas de Capital</td>\n",
              "      <td>Alienação de Bens</td>\n",
              "      <td>Alienação de bens móveis</td>\n",
              "      <td>ALIENACAO DE BENS MOVEIS E SEMOVENTES-PRINC.</td>\n",
              "      <td>0</td>\n",
              "      <td>0</td>\n",
              "      <td>67599,41</td>\n",
              "      <td>29/09/2022</td>\n",
              "    </tr>\n",
              "    <tr>\n",
              "      <th>140016</th>\n",
              "      <td>Presidência da República</td>\n",
              "      <td>Presidência da República</td>\n",
              "      <td>SECRETARIA DE ADMINISTRACAO-SET.ORC.E FIN./PR</td>\n",
              "      <td>Receitas Correntes</td>\n",
              "      <td>Receita Patrimonial</td>\n",
              "      <td>Exploração de recursos naturais</td>\n",
              "      <td>ROY.EXC.PETRO.PLAT-CM.ANT.3/12/12-P.SAL-PRINC</td>\n",
              "      <td>1223787109</td>\n",
              "      <td>0</td>\n",
              "      <td>0</td>\n",
              "      <td>24/01/2022</td>\n",
              "    </tr>\n",
              "  </tbody>\n",
              "</table>\n",
              "<p>140017 rows × 11 columns</p>\n",
              "</div>\n",
              "      <button class=\"colab-df-convert\" onclick=\"convertToInteractive('df-c6588704-2a99-4729-b54d-f862ea078d36')\"\n",
              "              title=\"Convert this dataframe to an interactive table.\"\n",
              "              style=\"display:none;\">\n",
              "        \n",
              "  <svg xmlns=\"http://www.w3.org/2000/svg\" height=\"24px\"viewBox=\"0 0 24 24\"\n",
              "       width=\"24px\">\n",
              "    <path d=\"M0 0h24v24H0V0z\" fill=\"none\"/>\n",
              "    <path d=\"M18.56 5.44l.94 2.06.94-2.06 2.06-.94-2.06-.94-.94-2.06-.94 2.06-2.06.94zm-11 1L8.5 8.5l.94-2.06 2.06-.94-2.06-.94L8.5 2.5l-.94 2.06-2.06.94zm10 10l.94 2.06.94-2.06 2.06-.94-2.06-.94-.94-2.06-.94 2.06-2.06.94z\"/><path d=\"M17.41 7.96l-1.37-1.37c-.4-.4-.92-.59-1.43-.59-.52 0-1.04.2-1.43.59L10.3 9.45l-7.72 7.72c-.78.78-.78 2.05 0 2.83L4 21.41c.39.39.9.59 1.41.59.51 0 1.02-.2 1.41-.59l7.78-7.78 2.81-2.81c.8-.78.8-2.07 0-2.86zM5.41 20L4 18.59l7.72-7.72 1.47 1.35L5.41 20z\"/>\n",
              "  </svg>\n",
              "      </button>\n",
              "      \n",
              "  <style>\n",
              "    .colab-df-container {\n",
              "      display:flex;\n",
              "      flex-wrap:wrap;\n",
              "      gap: 12px;\n",
              "    }\n",
              "\n",
              "    .colab-df-convert {\n",
              "      background-color: #E8F0FE;\n",
              "      border: none;\n",
              "      border-radius: 50%;\n",
              "      cursor: pointer;\n",
              "      display: none;\n",
              "      fill: #1967D2;\n",
              "      height: 32px;\n",
              "      padding: 0 0 0 0;\n",
              "      width: 32px;\n",
              "    }\n",
              "\n",
              "    .colab-df-convert:hover {\n",
              "      background-color: #E2EBFA;\n",
              "      box-shadow: 0px 1px 2px rgba(60, 64, 67, 0.3), 0px 1px 3px 1px rgba(60, 64, 67, 0.15);\n",
              "      fill: #174EA6;\n",
              "    }\n",
              "\n",
              "    [theme=dark] .colab-df-convert {\n",
              "      background-color: #3B4455;\n",
              "      fill: #D2E3FC;\n",
              "    }\n",
              "\n",
              "    [theme=dark] .colab-df-convert:hover {\n",
              "      background-color: #434B5C;\n",
              "      box-shadow: 0px 1px 3px 1px rgba(0, 0, 0, 0.15);\n",
              "      filter: drop-shadow(0px 1px 2px rgba(0, 0, 0, 0.3));\n",
              "      fill: #FFFFFF;\n",
              "    }\n",
              "  </style>\n",
              "\n",
              "      <script>\n",
              "        const buttonEl =\n",
              "          document.querySelector('#df-c6588704-2a99-4729-b54d-f862ea078d36 button.colab-df-convert');\n",
              "        buttonEl.style.display =\n",
              "          google.colab.kernel.accessAllowed ? 'block' : 'none';\n",
              "\n",
              "        async function convertToInteractive(key) {\n",
              "          const element = document.querySelector('#df-c6588704-2a99-4729-b54d-f862ea078d36');\n",
              "          const dataTable =\n",
              "            await google.colab.kernel.invokeFunction('convertToInteractive',\n",
              "                                                     [key], {});\n",
              "          if (!dataTable) return;\n",
              "\n",
              "          const docLinkHtml = 'Like what you see? Visit the ' +\n",
              "            '<a target=\"_blank\" href=https://colab.research.google.com/notebooks/data_table.ipynb>data table notebook</a>'\n",
              "            + ' to learn more about interactive tables.';\n",
              "          element.innerHTML = '';\n",
              "          dataTable['output_type'] = 'display_data';\n",
              "          await google.colab.output.renderOutput(dataTable, element);\n",
              "          const docLink = document.createElement('div');\n",
              "          docLink.innerHTML = docLinkHtml;\n",
              "          element.appendChild(docLink);\n",
              "        }\n",
              "      </script>\n",
              "    </div>\n",
              "  </div>\n",
              "  "
            ]
          },
          "metadata": {},
          "execution_count": 18
        }
      ]
    },
    {
      "cell_type": "code",
      "source": [
        "#valores ausentes\n",
        "receita.isnull().sum()"
      ],
      "metadata": {
        "colab": {
          "base_uri": "https://localhost:8080/"
        },
        "id": "mej28VPcq_nT",
        "outputId": "443cbc88-62ef-47a2-ea2b-d24eba7932e3"
      },
      "execution_count": null,
      "outputs": [
        {
          "output_type": "execute_result",
          "data": {
            "text/plain": [
              "CÓDIGO ÓRGÃO SUPERIOR          0\n",
              "NOME ÓRGÃO SUPERIOR            0\n",
              "CÓDIGO ÓRGÃO                   0\n",
              "NOME ÓRGÃO                     0\n",
              "CÓDIGO UNIDADE GESTORA         0\n",
              "NOME UNIDADE GESTORA           0\n",
              "CATEGORIA ECONÔMICA            0\n",
              "ORIGEM RECEITA                 0\n",
              "ESPÉCIE RECEITA                0\n",
              "DETALHAMENTO                   0\n",
              "VALOR PREVISTO ATUALIZADO      0\n",
              "VALOR LANÇADO                  0\n",
              "VALOR REALIZADO                0\n",
              "PERCENTUAL REALIZADO           0\n",
              "DATA LANÇAMENTO              123\n",
              "ANO EXERCÍCIO                  0\n",
              "dtype: int64"
            ]
          },
          "metadata": {},
          "execution_count": 19
        }
      ]
    },
    {
      "cell_type": "code",
      "source": [
        "#quantidade de registros únicos em cada coluna\n",
        "receita.nunique()"
      ],
      "metadata": {
        "colab": {
          "base_uri": "https://localhost:8080/"
        },
        "id": "58hJVouirDt5",
        "outputId": "d3190f15-e4a8-44b3-a0ab-d1f99bcad804"
      },
      "execution_count": null,
      "outputs": [
        {
          "output_type": "execute_result",
          "data": {
            "text/plain": [
              "CÓDIGO ÓRGÃO SUPERIOR            21\n",
              "NOME ÓRGÃO SUPERIOR              21\n",
              "CÓDIGO ÓRGÃO                    250\n",
              "NOME ÓRGÃO                      249\n",
              "CÓDIGO UNIDADE GESTORA          263\n",
              "NOME UNIDADE GESTORA            261\n",
              "CATEGORIA ECONÔMICA               5\n",
              "ORIGEM RECEITA                   15\n",
              "ESPÉCIE RECEITA                  45\n",
              "DETALHAMENTO                    649\n",
              "VALOR PREVISTO ATUALIZADO      1707\n",
              "VALOR LANÇADO                  1203\n",
              "VALOR REALIZADO              101257\n",
              "PERCENTUAL REALIZADO             13\n",
              "DATA LANÇAMENTO                 319\n",
              "ANO EXERCÍCIO                     1\n",
              "dtype: int64"
            ]
          },
          "metadata": {},
          "execution_count": 20
        }
      ]
    },
    {
      "cell_type": "markdown",
      "source": [
        "value_counts\n",
        "Esta função retorna o valor da contagem para cada item exclusivo presente na coluna."
      ],
      "metadata": {
        "id": "4k3VQQtMDOwh"
      }
    },
    {
      "cell_type": "markdown",
      "source": [
        "**Qual foi o órgão superior que trouxe mais receita até o momento?**\n",
        "\n",
        "Para responder essa pergunta, contei a quantidade de vezes que cada valor apareceu em cada coluna.\n",
        "Os que mais apareceram são os que mais se destacam."
      ],
      "metadata": {
        "id": "L1o9Y1HptrDN"
      }
    },
    {
      "cell_type": "code",
      "source": [
        "#Contando os valores únicos em algumas colunas:\n",
        "receita ['NOME ÓRGÃO SUPERIOR'].value_counts()"
      ],
      "metadata": {
        "colab": {
          "base_uri": "https://localhost:8080/"
        },
        "id": "O8JUhONpUQyd",
        "outputId": "29cb22fe-4d5a-430b-cdb3-c7fbac0a10fc"
      },
      "execution_count": null,
      "outputs": [
        {
          "output_type": "execute_result",
          "data": {
            "text/plain": [
              "Ministério da Educação                           47182\n",
              "Ministério da Economia                           26219\n",
              "Ministério da Defesa                             12428\n",
              "Ministério da Infraestrutura                      6571\n",
              "Ministério da Justiça e Segurança Pública         5947\n",
              "Ministério da Agricultura, Pecuária e Abastec     5858\n",
              "Ministério do Trabalho                            4655\n",
              "Ministério de Minas e Energia                     4491\n",
              "Ministério da Ciência, Tecnologia, Inovações      4425\n",
              "Ministério da Saúde                               4296\n",
              "Ministério do Desenvolvimento Regional            4196\n",
              "Ministério do Meio Ambiente                       3840\n",
              "Ministério das Comunicações                       3809\n",
              "Ministério do Turismo                             3173\n",
              "Banco Central do Brasil - Orçamento Fiscal e      1123\n",
              "Ministério das Relações Exteriores                 614\n",
              "Ministério da Cidadania                            592\n",
              "Presidência da República                           373\n",
              "Ministério da Mulher, Família e Direitos Huma      195\n",
              "Controladoria-Geral da União                        26\n",
              "Ministério das Mulheres, Igualdade Racial, da        4\n",
              "Name: NOME ÓRGÃO SUPERIOR, dtype: int64"
            ]
          },
          "metadata": {},
          "execution_count": 21
        }
      ]
    },
    {
      "cell_type": "markdown",
      "source": [
        "Gráfico para ilustrar a distribuição dos principais órgaos que contribuem para a receita pública."
      ],
      "metadata": {
        "id": "1dlAeLyuyGP7"
      }
    },
    {
      "cell_type": "code",
      "source": [
        "from pywaffle import Waffle\n",
        "\n",
        "# \n",
        "fig = plt.figure(\n",
        "                FigureClass=Waffle,\n",
        "                rows=4,\n",
        "                columns=10,\n",
        "                values={'Ministério da Educação': 47152,\n",
        "                        'Ministério da Economia': 25994,\n",
        "                        'Ministério da Defesa':  12402,\n",
        "                        'Ministério da Infraestrutura':6571,\n",
        "                        'Ministério da Justiça e Segurança Pública':5947,\n",
        "                        'Ministério da Agricultura, Pecuária': 5858\n",
        "                        },\n",
        "                legend={'loc': 'upper left',\n",
        "                        'bbox_to_anchor': (1.1, 1)}\n",
        "                )\n",
        "\n",
        "fig.set_tight_layout(False)\n",
        "plt.show()"
      ],
      "metadata": {
        "colab": {
          "base_uri": "https://localhost:8080/",
          "height": 161
        },
        "id": "Gn18JdJsw9r9",
        "outputId": "821c320a-f5e5-4773-fd28-9d4837f88c33"
      },
      "execution_count": null,
      "outputs": [
        {
          "output_type": "display_data",
          "data": {
            "text/plain": [
              "<Waffle size 432x288 with 1 Axes>"
            ],
            "image/png": "[encoded data removed]"
          },
          "metadata": {
            "needs_background": "light"
          }
        }
      ]
    },
    {
      "cell_type": "code",
      "source": [
        "receita ['NOME ÓRGÃO'].value_counts()"
      ],
      "metadata": {
        "colab": {
          "base_uri": "https://localhost:8080/"
        },
        "id": "9TXpUwbBUquq",
        "outputId": "f4962692-df45-4cea-8bf9-0e17a1925a80"
      },
      "execution_count": null,
      "outputs": [
        {
          "output_type": "execute_result",
          "data": {
            "text/plain": [
              "Ministério da Economia - Unidades com vínculo direto                              20884\n",
              "Fundo do Exército                                                                  3515\n",
              "Comando da Marinha - Fundo Naval                                                   3417\n",
              "Fundo do Regime Geral da Previdência Social                                        2209\n",
              "Fundo Nacional de Cultura                                                          1953\n",
              "                                                                                  ...  \n",
              "Instituto Nacional de Tecnologia da Informação                                        4\n",
              "Centro Nacional de Tecnologia Eletrônica Avançada S.A.                                3\n",
              "Ministério do Meio Ambiente - Unidades com vínculo direto                             2\n",
              "Ministério da Mulher, Família e Direitos Humanos - Unidades com vínculo direto        1\n",
              "Reserva de Contingência                                                               1\n",
              "Name: NOME ÓRGÃO, Length: 249, dtype: int64"
            ]
          },
          "metadata": {},
          "execution_count": 23
        }
      ]
    },
    {
      "cell_type": "markdown",
      "source": [
        "**Quais setores dentro dos órgãos que tem mais receita**"
      ],
      "metadata": {
        "id": "YkmOJLRlFHSh"
      }
    },
    {
      "cell_type": "code",
      "source": [
        "receita ['NOME UNIDADE GESTORA'].value_counts()"
      ],
      "metadata": {
        "colab": {
          "base_uri": "https://localhost:8080/"
        },
        "id": "vwqSsxjfUz9c",
        "outputId": "b00f24b7-b779-4901-d35c-0669bb1c64c6"
      },
      "execution_count": null,
      "outputs": [
        {
          "output_type": "execute_result",
          "data": {
            "text/plain": [
              "SETORIAL ORCAMENTARIA E FINANCEIRA / ME         19694\n",
              "FUNDO DO EXERCITO                                3515\n",
              "DIRETORIA DE FINANCAS-SISTEMA PARA O PAIS/MM     3448\n",
              "COORDENACAO DE ORCAMENTO E FINANCAS DO FRGPS     2209\n",
              "FUNDO NACIONAL DA CULTURA - FNC                  1953\n",
              "                                                ...  \n",
              "FUNDACAO NACIONAL DE SAUDE - MT                     1\n",
              "FUNDACAO NACIONAL DE SAUDE - PA                     1\n",
              "RESERVA DE CONTINGENCIA/MEFP                        1\n",
              "INST.FED. FLUMINENSE/CAMPUS CAMPOS-CENTRO           1\n",
              "FUNDACAO NACIONAL DE SAUDE - PB                     1\n",
              "Name: NOME UNIDADE GESTORA, Length: 261, dtype: int64"
            ]
          },
          "metadata": {},
          "execution_count": 24
        }
      ]
    },
    {
      "cell_type": "markdown",
      "source": [
        "**Quais são as categorias econômicas que mais tem receita?**\n",
        "\n",
        "\n",
        "- A Classificação por categoria econômica visa classificar as receitas e despesas em operações correntes ou de capital, objetivando propiciar elementos para uma avaliação do efeito econômico das transações do setor público."
      ],
      "metadata": {
        "id": "jS8mR6vRFKyv"
      }
    },
    {
      "cell_type": "code",
      "source": [
        "receita ['CATEGORIA ECONÔMICA'].value_counts()"
      ],
      "metadata": {
        "colab": {
          "base_uri": "https://localhost:8080/"
        },
        "id": "wqQfujd0eBVf",
        "outputId": "3ee84299-a945-4e21-a529-562393a87103"
      },
      "execution_count": null,
      "outputs": [
        {
          "output_type": "execute_result",
          "data": {
            "text/plain": [
              "Receitas Correntes                           134576\n",
              "Receitas de Capital                            3384\n",
              "Receitas Correntes - intra-orçamentárias       2029\n",
              "Sem informação                                   15\n",
              "Receitas de Capital - intra-orçamentárias        13\n",
              "Name: CATEGORIA ECONÔMICA, dtype: int64"
            ]
          },
          "metadata": {},
          "execution_count": 25
        }
      ]
    },
    {
      "cell_type": "markdown",
      "source": [
        "**Quais as principais fontes de receita?**"
      ],
      "metadata": {
        "id": "YJnKePd5zfXo"
      }
    },
    {
      "cell_type": "code",
      "source": [
        "receita ['ORIGEM RECEITA'].value_counts()"
      ],
      "metadata": {
        "colab": {
          "base_uri": "https://localhost:8080/"
        },
        "id": "4KD_ASBiVCps",
        "outputId": "bba04e60-e6e5-4b66-e829-9dd5fba0ff11"
      },
      "execution_count": null,
      "outputs": [
        {
          "output_type": "execute_result",
          "data": {
            "text/plain": [
              "Receita de Serviços                            43912\n",
              "Outras Receitas Correntes                      40389\n",
              "Receita Patrimonial                            22785\n",
              "Impostos, Taxas e Contribuições de Melhoria    13584\n",
              "Contribuições                                  11166\n",
              "Receita Industrial                              2118\n",
              "Receita Agropecuária                            1964\n",
              "Amortizações de Empréstimos                     1618\n",
              "Alienação de Bens                               1088\n",
              "Transferências Correntes                         575\n",
              "Operações de Crédito                             499\n",
              "Outras Receitas de Capital                       148\n",
              "Receitas Correntes - a classificar               112\n",
              "Transferências de Capital                         44\n",
              "Sem informação                                    15\n",
              "Name: ORIGEM RECEITA, dtype: int64"
            ]
          },
          "metadata": {},
          "execution_count": 26
        }
      ]
    },
    {
      "cell_type": "markdown",
      "source": [
        "- Receita de Serviços: é o ingresso proveniente da prestação de serviços de atividades comerciais, financeiras, de transporte, de saúde, de comunicação, de armazenagem, e serviços científicos e tecnológicos de metrologia e outros serviços. \n",
        "- Receita Patrimonial: é o ingresso proveniente da fruição do patrimônio, seja decorrente de bens imobiliários ou mobiliários, ou seja, de participação societária. "
      ],
      "metadata": {
        "id": "0bZKdEWkNu8h"
      }
    },
    {
      "cell_type": "markdown",
      "source": [
        "**Gráfico para exemplificar as principais fontes de receita:**\n"
      ],
      "metadata": {
        "id": "3jWgzhfYFn19"
      }
    },
    {
      "cell_type": "code",
      "source": [
        "figura = plt.figure()\n",
        "ax = figura.add_axes([0,0,1.5,1])\n",
        "ORIGEM_RECEITA = [\"Receita de Serviços\", \"Receita Patrimonial\", \"Impostos, Taxas\", \"Receita Industrial\",\n",
        "                  \"Amortizações de Empréstimos\"]\n",
        "pontos = [43878, 22740, 13506, 2115, 1612]\n",
        "ax.bar(ORIGEM_RECEITA, pontos, color = \"purple\")\n",
        "ax.set_title(\"Origem da Receita 2022\", fontsize=16)\n",
        "ax.set_xlabel(\"tipo de receita\", fontsize=15)\n",
        "ax.set_ylabel(\"quantidade de vezes que apareceu\", fontsize=15)\n",
        "plt.show()\n",
        "\n",
        "\n",
        "                          "
      ],
      "metadata": {
        "colab": {
          "base_uri": "https://localhost:8080/",
          "height": 373
        },
        "id": "51IuLFid2pAw",
        "outputId": "3b4bd73f-d8db-451c-f926-6edc80a11d85"
      },
      "execution_count": null,
      "outputs": [
        {
          "output_type": "display_data",
          "data": {
            "text/plain": [
              "<Figure size 432x288 with 1 Axes>"
            ],
            "image/png": "[encoded data removed]"
          },
          "metadata": {
            "needs_background": "light"
          }
        }
      ]
    },
    {
      "cell_type": "markdown",
      "source": [
        "A Receita Pública pode ser classificada de acordo com os seguintes aspectos: Quanto à natureza: orçamentária ou extra-orçamentária. Quanto à categoria econômica: correntes e de capital. Quanto ao poder de tributar: federal, estadual ou municipal.\n",
        "\n",
        "O tributo é outro ponto importante que você precisa levar em consideração. Ela é a receita derivada instituída pelas entidades de direito público, que compreende\n",
        "\n",
        "Impostos;\n",
        "Taxas;\n",
        "Contribuições de Melhoria;\n",
        "Empréstimos Compulsórios; e\n",
        "Contribuições Especiais."
      ],
      "metadata": {
        "id": "jB8QBra64gZy"
      }
    },
    {
      "cell_type": "markdown",
      "source": [
        "**Receita no ano de 2021:**"
      ],
      "metadata": {
        "id": "ptFIkrchFZEi"
      }
    },
    {
      "cell_type": "code",
      "source": [
        "receita_2021 = pd.read_csv ('/content/2021_Receitas.csv', sep=';')"
      ],
      "metadata": {
        "colab": {
          "base_uri": "https://localhost:8080/"
        },
        "id": "fblsdZvoFYXY",
        "outputId": "389c64cd-df26-496e-c1ba-b7789f1ba87c"
      },
      "execution_count": null,
      "outputs": [
        {
          "output_type": "stream",
          "name": "stderr",
          "text": [
            "/usr/local/lib/python3.7/dist-packages/IPython/core/interactiveshell.py:3326: DtypeWarning: Columns (10) have mixed types.Specify dtype option on import or set low_memory=False.\n",
            "  exec(code_obj, self.user_global_ns, self.user_ns)\n"
          ]
        }
      ]
    },
    {
      "cell_type": "code",
      "source": [
        "receita_2021.head()"
      ],
      "metadata": {
        "id": "AYkkEtwSuni_",
        "colab": {
          "base_uri": "https://localhost:8080/",
          "height": 774
        },
        "outputId": "de3b38bd-4757-4eea-fc07-d1db5308e00d"
      },
      "execution_count": null,
      "outputs": [
        {
          "output_type": "execute_result",
          "data": {
            "text/plain": [
              "   CÓDIGO ÓRGÃO SUPERIOR                            NOME ÓRGÃO SUPERIOR  \\\n",
              "0                  63000                       Advocacia-Geral da União   \n",
              "1                  63000                       Advocacia-Geral da União   \n",
              "2                  25201  Banco Central do Brasil - Orçamento Fiscal e    \n",
              "3                  25201  Banco Central do Brasil - Orçamento Fiscal e    \n",
              "4                  25201  Banco Central do Brasil - Orçamento Fiscal e    \n",
              "\n",
              "   CÓDIGO ÓRGÃO                                         NOME ÓRGÃO  \\\n",
              "0         63000  Advocacia-Geral da União - Unidades com víncul...   \n",
              "1         63000  Advocacia-Geral da União - Unidades com víncul...   \n",
              "2         25201  Banco Central do Brasil - Orçamento Fiscal e S...   \n",
              "3         25201  Banco Central do Brasil - Orçamento Fiscal e S...   \n",
              "4         25201  Banco Central do Brasil - Orçamento Fiscal e S...   \n",
              "\n",
              "   CÓDIGO UNIDADE GESTORA                           NOME UNIDADE GESTORA  \\\n",
              "0                  110060  COORD. GERAL DE ORC. FIN. E ANAL. CONT. - AGU   \n",
              "1                  110060  COORD. GERAL DE ORC. FIN. E ANAL. CONT. - AGU   \n",
              "2                  173057                        BANCO CENTRAL DO BRASIL   \n",
              "3                  173057                        BANCO CENTRAL DO BRASIL   \n",
              "4                  173057                        BANCO CENTRAL DO BRASIL   \n",
              "\n",
              "   CATEGORIA ECONÔMICA                      ORIGEM RECEITA  \\\n",
              "0  Receitas de Capital                Operações de Crédito   \n",
              "1   Receitas Correntes  Receitas Correntes - a classificar   \n",
              "2   Receitas Correntes                 Receita de Serviços   \n",
              "3   Receitas Correntes                 Receita de Serviços   \n",
              "4   Receitas Correntes                 Receita de Serviços   \n",
              "\n",
              "                                ESPÉCIE RECEITA  \\\n",
              "0        Operações de crédito - mercado interno   \n",
              "1            Receitas Correntes - a classificar   \n",
              "2  Serviços Administrativos e Comerciais Gerais   \n",
              "3  Serviços Administrativos e Comerciais Gerais   \n",
              "4  Serviços Administrativos e Comerciais Gerais   \n",
              "\n",
              "                                    DETALHAMENTO VALOR PREVISTO ATUALIZADO  \\\n",
              "0   TITULOS DE RESPONS.TES.NAC.-MERC.INT.-PRINC.                2224034904   \n",
              "1             Receitas Correntes - a classificar                         0   \n",
              "2  SERVICOS DE INFORMACAO E TECNOLOGIA-PRINCIPAL                         0   \n",
              "3  SERVICOS DE INFORMACAO E TECNOLOGIA-PRINCIPAL                         0   \n",
              "4  SERVICOS DE INFORMACAO E TECNOLOGIA-PRINCIPAL                         0   \n",
              "\n",
              "  VALOR LANÇADO VALOR REALIZADO  PERCENTUAL REALIZADO DATA LANÇAMENTO  \\\n",
              "0             0               0                     0      23/04/2021   \n",
              "1             0               0                     0      16/04/2021   \n",
              "2             0          7250,2                     0      10/08/2021   \n",
              "3             0        10679,27                     0      18/03/2021   \n",
              "4             0       209703,66                     0      29/10/2021   \n",
              "\n",
              "   ANO EXERCÍCIO  \n",
              "0           2021  \n",
              "1           2021  \n",
              "2           2021  \n",
              "3           2021  \n",
              "4           2021  "
            ],
            "text/html": [
              "\n",
              "  <div id=\"df-f64dcb5f-f5d3-4626-9d6f-da4892b7b903\">\n",
              "    <div class=\"colab-df-container\">\n",
              "      <div>\n",
              "<style scoped>\n",
              "    .dataframe tbody tr th:only-of-type {\n",
              "        vertical-align: middle;\n",
              "    }\n",
              "\n",
              "    .dataframe tbody tr th {\n",
              "        vertical-align: top;\n",
              "    }\n",
              "\n",
              "    .dataframe thead th {\n",
              "        text-align: right;\n",
              "    }\n",
              "</style>\n",
              "<table border=\"1\" class=\"dataframe\">\n",
              "  <thead>\n",
              "    <tr style=\"text-align: right;\">\n",
              "      <th></th>\n",
              "      <th>CÓDIGO ÓRGÃO SUPERIOR</th>\n",
              "      <th>NOME ÓRGÃO SUPERIOR</th>\n",
              "      <th>CÓDIGO ÓRGÃO</th>\n",
              "      <th>NOME ÓRGÃO</th>\n",
              "      <th>CÓDIGO UNIDADE GESTORA</th>\n",
              "      <th>NOME UNIDADE GESTORA</th>\n",
              "      <th>CATEGORIA ECONÔMICA</th>\n",
              "      <th>ORIGEM RECEITA</th>\n",
              "      <th>ESPÉCIE RECEITA</th>\n",
              "      <th>DETALHAMENTO</th>\n",
              "      <th>VALOR PREVISTO ATUALIZADO</th>\n",
              "      <th>VALOR LANÇADO</th>\n",
              "      <th>VALOR REALIZADO</th>\n",
              "      <th>PERCENTUAL REALIZADO</th>\n",
              "      <th>DATA LANÇAMENTO</th>\n",
              "      <th>ANO EXERCÍCIO</th>\n",
              "    </tr>\n",
              "  </thead>\n",
              "  <tbody>\n",
              "    <tr>\n",
              "      <th>0</th>\n",
              "      <td>63000</td>\n",
              "      <td>Advocacia-Geral da União</td>\n",
              "      <td>63000</td>\n",
              "      <td>Advocacia-Geral da União - Unidades com víncul...</td>\n",
              "      <td>110060</td>\n",
              "      <td>COORD. GERAL DE ORC. FIN. E ANAL. CONT. - AGU</td>\n",
              "      <td>Receitas de Capital</td>\n",
              "      <td>Operações de Crédito</td>\n",
              "      <td>Operações de crédito - mercado interno</td>\n",
              "      <td>TITULOS DE RESPONS.TES.NAC.-MERC.INT.-PRINC.</td>\n",
              "      <td>2224034904</td>\n",
              "      <td>0</td>\n",
              "      <td>0</td>\n",
              "      <td>0</td>\n",
              "      <td>23/04/2021</td>\n",
              "      <td>2021</td>\n",
              "    </tr>\n",
              "    <tr>\n",
              "      <th>1</th>\n",
              "      <td>63000</td>\n",
              "      <td>Advocacia-Geral da União</td>\n",
              "      <td>63000</td>\n",
              "      <td>Advocacia-Geral da União - Unidades com víncul...</td>\n",
              "      <td>110060</td>\n",
              "      <td>COORD. GERAL DE ORC. FIN. E ANAL. CONT. - AGU</td>\n",
              "      <td>Receitas Correntes</td>\n",
              "      <td>Receitas Correntes - a classificar</td>\n",
              "      <td>Receitas Correntes - a classificar</td>\n",
              "      <td>Receitas Correntes - a classificar</td>\n",
              "      <td>0</td>\n",
              "      <td>0</td>\n",
              "      <td>0</td>\n",
              "      <td>0</td>\n",
              "      <td>16/04/2021</td>\n",
              "      <td>2021</td>\n",
              "    </tr>\n",
              "    <tr>\n",
              "      <th>2</th>\n",
              "      <td>25201</td>\n",
              "      <td>Banco Central do Brasil - Orçamento Fiscal e</td>\n",
              "      <td>25201</td>\n",
              "      <td>Banco Central do Brasil - Orçamento Fiscal e S...</td>\n",
              "      <td>173057</td>\n",
              "      <td>BANCO CENTRAL DO BRASIL</td>\n",
              "      <td>Receitas Correntes</td>\n",
              "      <td>Receita de Serviços</td>\n",
              "      <td>Serviços Administrativos e Comerciais Gerais</td>\n",
              "      <td>SERVICOS DE INFORMACAO E TECNOLOGIA-PRINCIPAL</td>\n",
              "      <td>0</td>\n",
              "      <td>0</td>\n",
              "      <td>7250,2</td>\n",
              "      <td>0</td>\n",
              "      <td>10/08/2021</td>\n",
              "      <td>2021</td>\n",
              "    </tr>\n",
              "    <tr>\n",
              "      <th>3</th>\n",
              "      <td>25201</td>\n",
              "      <td>Banco Central do Brasil - Orçamento Fiscal e</td>\n",
              "      <td>25201</td>\n",
              "      <td>Banco Central do Brasil - Orçamento Fiscal e S...</td>\n",
              "      <td>173057</td>\n",
              "      <td>BANCO CENTRAL DO BRASIL</td>\n",
              "      <td>Receitas Correntes</td>\n",
              "      <td>Receita de Serviços</td>\n",
              "      <td>Serviços Administrativos e Comerciais Gerais</td>\n",
              "      <td>SERVICOS DE INFORMACAO E TECNOLOGIA-PRINCIPAL</td>\n",
              "      <td>0</td>\n",
              "      <td>0</td>\n",
              "      <td>10679,27</td>\n",
              "      <td>0</td>\n",
              "      <td>18/03/2021</td>\n",
              "      <td>2021</td>\n",
              "    </tr>\n",
              "    <tr>\n",
              "      <th>4</th>\n",
              "      <td>25201</td>\n",
              "      <td>Banco Central do Brasil - Orçamento Fiscal e</td>\n",
              "      <td>25201</td>\n",
              "      <td>Banco Central do Brasil - Orçamento Fiscal e S...</td>\n",
              "      <td>173057</td>\n",
              "      <td>BANCO CENTRAL DO BRASIL</td>\n",
              "      <td>Receitas Correntes</td>\n",
              "      <td>Receita de Serviços</td>\n",
              "      <td>Serviços Administrativos e Comerciais Gerais</td>\n",
              "      <td>SERVICOS DE INFORMACAO E TECNOLOGIA-PRINCIPAL</td>\n",
              "      <td>0</td>\n",
              "      <td>0</td>\n",
              "      <td>209703,66</td>\n",
              "      <td>0</td>\n",
              "      <td>29/10/2021</td>\n",
              "      <td>2021</td>\n",
              "    </tr>\n",
              "  </tbody>\n",
              "</table>\n",
              "</div>\n",
              "      <button class=\"colab-df-convert\" onclick=\"convertToInteractive('df-f64dcb5f-f5d3-4626-9d6f-da4892b7b903')\"\n",
              "              title=\"Convert this dataframe to an interactive table.\"\n",
              "              style=\"display:none;\">\n",
              "        \n",
              "  <svg xmlns=\"http://www.w3.org/2000/svg\" height=\"24px\"viewBox=\"0 0 24 24\"\n",
              "       width=\"24px\">\n",
              "    <path d=\"M0 0h24v24H0V0z\" fill=\"none\"/>\n",
              "    <path d=\"M18.56 5.44l.94 2.06.94-2.06 2.06-.94-2.06-.94-.94-2.06-.94 2.06-2.06.94zm-11 1L8.5 8.5l.94-2.06 2.06-.94-2.06-.94L8.5 2.5l-.94 2.06-2.06.94zm10 10l.94 2.06.94-2.06 2.06-.94-2.06-.94-.94-2.06-.94 2.06-2.06.94z\"/><path d=\"M17.41 7.96l-1.37-1.37c-.4-.4-.92-.59-1.43-.59-.52 0-1.04.2-1.43.59L10.3 9.45l-7.72 7.72c-.78.78-.78 2.05 0 2.83L4 21.41c.39.39.9.59 1.41.59.51 0 1.02-.2 1.41-.59l7.78-7.78 2.81-2.81c.8-.78.8-2.07 0-2.86zM5.41 20L4 18.59l7.72-7.72 1.47 1.35L5.41 20z\"/>\n",
              "  </svg>\n",
              "      </button>\n",
              "      \n",
              "  <style>\n",
              "    .colab-df-container {\n",
              "      display:flex;\n",
              "      flex-wrap:wrap;\n",
              "      gap: 12px;\n",
              "    }\n",
              "\n",
              "    .colab-df-convert {\n",
              "      background-color: #E8F0FE;\n",
              "      border: none;\n",
              "      border-radius: 50%;\n",
              "      cursor: pointer;\n",
              "      display: none;\n",
              "      fill: #1967D2;\n",
              "      height: 32px;\n",
              "      padding: 0 0 0 0;\n",
              "      width: 32px;\n",
              "    }\n",
              "\n",
              "    .colab-df-convert:hover {\n",
              "      background-color: #E2EBFA;\n",
              "      box-shadow: 0px 1px 2px rgba(60, 64, 67, 0.3), 0px 1px 3px 1px rgba(60, 64, 67, 0.15);\n",
              "      fill: #174EA6;\n",
              "    }\n",
              "\n",
              "    [theme=dark] .colab-df-convert {\n",
              "      background-color: #3B4455;\n",
              "      fill: #D2E3FC;\n",
              "    }\n",
              "\n",
              "    [theme=dark] .colab-df-convert:hover {\n",
              "      background-color: #434B5C;\n",
              "      box-shadow: 0px 1px 3px 1px rgba(0, 0, 0, 0.15);\n",
              "      filter: drop-shadow(0px 1px 2px rgba(0, 0, 0, 0.3));\n",
              "      fill: #FFFFFF;\n",
              "    }\n",
              "  </style>\n",
              "\n",
              "      <script>\n",
              "        const buttonEl =\n",
              "          document.querySelector('#df-f64dcb5f-f5d3-4626-9d6f-da4892b7b903 button.colab-df-convert');\n",
              "        buttonEl.style.display =\n",
              "          google.colab.kernel.accessAllowed ? 'block' : 'none';\n",
              "\n",
              "        async function convertToInteractive(key) {\n",
              "          const element = document.querySelector('#df-f64dcb5f-f5d3-4626-9d6f-da4892b7b903');\n",
              "          const dataTable =\n",
              "            await google.colab.kernel.invokeFunction('convertToInteractive',\n",
              "                                                     [key], {});\n",
              "          if (!dataTable) return;\n",
              "\n",
              "          const docLinkHtml = 'Like what you see? Visit the ' +\n",
              "            '<a target=\"_blank\" href=https://colab.research.google.com/notebooks/data_table.ipynb>data table notebook</a>'\n",
              "            + ' to learn more about interactive tables.';\n",
              "          element.innerHTML = '';\n",
              "          dataTable['output_type'] = 'display_data';\n",
              "          await google.colab.output.renderOutput(dataTable, element);\n",
              "          const docLink = document.createElement('div');\n",
              "          docLink.innerHTML = docLinkHtml;\n",
              "          element.appendChild(docLink);\n",
              "        }\n",
              "      </script>\n",
              "    </div>\n",
              "  </div>\n",
              "  "
            ]
          },
          "metadata": {},
          "execution_count": 30
        }
      ]
    },
    {
      "cell_type": "code",
      "source": [
        "receita_2021.nunique()"
      ],
      "metadata": {
        "id": "haJkD78Yunfp",
        "colab": {
          "base_uri": "https://localhost:8080/"
        },
        "outputId": "f429bc83-a327-4fcb-91b3-d03381e97185"
      },
      "execution_count": null,
      "outputs": [
        {
          "output_type": "execute_result",
          "data": {
            "text/plain": [
              "CÓDIGO ÓRGÃO SUPERIOR            22\n",
              "NOME ÓRGÃO SUPERIOR              22\n",
              "CÓDIGO ÓRGÃO                    257\n",
              "NOME ÓRGÃO                      256\n",
              "CÓDIGO UNIDADE GESTORA          271\n",
              "NOME UNIDADE GESTORA            268\n",
              "CATEGORIA ECONÔMICA               5\n",
              "ORIGEM RECEITA                   15\n",
              "ESPÉCIE RECEITA                  42\n",
              "DETALHAMENTO                    605\n",
              "VALOR PREVISTO ATUALIZADO      1811\n",
              "VALOR LANÇADO                  1291\n",
              "VALOR REALIZADO              107768\n",
              "PERCENTUAL REALIZADO             17\n",
              "DATA LANÇAMENTO                 364\n",
              "ANO EXERCÍCIO                     1\n",
              "dtype: int64"
            ]
          },
          "metadata": {},
          "execution_count": 31
        }
      ]
    },
    {
      "cell_type": "code",
      "source": [
        "receita_2021 ['NOME ÓRGÃO SUPERIOR'].value_counts()"
      ],
      "metadata": {
        "id": "1MjhKXyiundA",
        "colab": {
          "base_uri": "https://localhost:8080/"
        },
        "outputId": "cad7bec2-3bba-4981-fff0-9cf7356cc8b3"
      },
      "execution_count": null,
      "outputs": [
        {
          "output_type": "execute_result",
          "data": {
            "text/plain": [
              "Ministério da Educação                           43700\n",
              "Ministério da Economia                           29953\n",
              "Ministério da Defesa                             14764\n",
              "Ministério da Justiça e Segurança Pública         6492\n",
              "Ministério da Agricultura, Pecuária e Abastec     6377\n",
              "Ministério da Infraestrutura                      5776\n",
              "Ministério do Trabalho                            5280\n",
              "Ministério da Ciência, Tecnologia, Inovações      5210\n",
              "Ministério de Minas e Energia                     4984\n",
              "Ministério das Comunicações                       4521\n",
              "Ministério da Saúde                               4503\n",
              "Ministério do Desenvolvimento Regional            4407\n",
              "Ministério do Meio Ambiente                       4340\n",
              "Ministério do Turismo                             3511\n",
              "Banco Central do Brasil - Orçamento Fiscal e      1319\n",
              "Ministério das Relações Exteriores                 579\n",
              "Ministério da Cidadania                            571\n",
              "Presidência da República                           419\n",
              "Ministério da Mulher, Família e Direitos Huma      225\n",
              "Ministério das Mulheres, Igualdade Racial, da       10\n",
              "Controladoria-Geral da União                         2\n",
              "Advocacia-Geral da União                             2\n",
              "Name: NOME ÓRGÃO SUPERIOR, dtype: int64"
            ]
          },
          "metadata": {},
          "execution_count": 32
        }
      ]
    },
    {
      "cell_type": "code",
      "source": [
        "fig = plt.figure(\n",
        "                FigureClass=Waffle,\n",
        "                rows=4,\n",
        "                columns=10,\n",
        "                values={'Ministério da Educação': 43700,\n",
        "                        'Ministério da Economia': 29953,\n",
        "                        'Ministério da Defesa':  14764,\n",
        "                        'Ministério da Justiça e Segurança Pública':6492,\n",
        "                        'Ministério da Agricultura, Pecuária':6377,\n",
        "                        'Ministério da Infraestrutura':5776},\n",
        "                legend={'loc': 'upper left',\n",
        "                        'bbox_to_anchor': (1.1, 1)}\n",
        "                )\n",
        "\n",
        "fig.set_tight_layout(False)\n",
        "plt.show()"
      ],
      "metadata": {
        "colab": {
          "base_uri": "https://localhost:8080/",
          "height": 161
        },
        "id": "4lRV3bUFJL7T",
        "outputId": "99060363-1e7e-49fc-a5c4-809633a9ccdb"
      },
      "execution_count": null,
      "outputs": [
        {
          "output_type": "display_data",
          "data": {
            "text/plain": [
              "<Waffle size 432x288 with 1 Axes>"
            ],
            "image/png": "[encoded data removed]"
          },
          "metadata": {
            "needs_background": "light"
          }
        }
      ]
    },
    {
      "cell_type": "code",
      "source": [
        "receita_2021 ['ORIGEM RECEITA'].value_counts()"
      ],
      "metadata": {
        "colab": {
          "base_uri": "https://localhost:8080/"
        },
        "id": "4TuGOWtSIITv",
        "outputId": "3efeb4a9-fe6e-417f-e579-289d554db7fc"
      },
      "execution_count": null,
      "outputs": [
        {
          "output_type": "execute_result",
          "data": {
            "text/plain": [
              "Receita de Serviços                            43782\n",
              "Outras Receitas Correntes                      43071\n",
              "Receita Patrimonial                            22951\n",
              "Impostos, Taxas e Contribuições de Melhoria    14718\n",
              "Contribuições                                  12685\n",
              "Receita Industrial                              2051\n",
              "Receita Agropecuária                            2045\n",
              "Amortizações de Empréstimos                     1994\n",
              "Alienação de Bens                               1625\n",
              "Operações de Crédito                             901\n",
              "Transferências Correntes                         713\n",
              "Receitas Correntes - a classificar               187\n",
              "Outras Receitas de Capital                       167\n",
              "Transferências de Capital                         38\n",
              "Sem informação                                    17\n",
              "Name: ORIGEM RECEITA, dtype: int64"
            ]
          },
          "metadata": {},
          "execution_count": 34
        }
      ]
    },
    {
      "cell_type": "markdown",
      "source": [
        "Receita de Serviços: é o ingresso proveniente da prestação de serviços de atividades comerciais, financeiras, de transporte, de saúde, de comunicação, de armazenagem, e serviços científicos e tecnológicos de metrologia e outros serviços."
      ],
      "metadata": {
        "id": "KMs3x87pIocn"
      }
    },
    {
      "cell_type": "code",
      "source": [
        "figura = plt.figure()\n",
        "ax = figura.add_axes([0,0,1.5,1])\n",
        "ORIGEM_RECEITA = [\"Receita de Serviços\", \"Receita Patrimonial\", \"Impostos, Taxas\", \"Receita Industrial\",\n",
        "                  \"Amortizações de Empréstimos\"]\n",
        "pontos = [43782, 22951, 14718, 2051, 1994]\n",
        "ax.bar(ORIGEM_RECEITA, pontos, color = \"purple\")\n",
        "ax.set_title(\"Origem da Receita 2021\", fontsize=16)\n",
        "ax.set_xlabel(\"tipo de receita\", fontsize=15)\n",
        "ax.set_ylabel(\"quantidade de vezes que apareceu\", fontsize=15)\n",
        "plt.show()"
      ],
      "metadata": {
        "colab": {
          "base_uri": "https://localhost:8080/",
          "height": 373
        },
        "id": "xtYl04YAGqwF",
        "outputId": "ddae5818-1360-44ec-c1c1-1d0aac83fb8b"
      },
      "execution_count": null,
      "outputs": [
        {
          "output_type": "display_data",
          "data": {
            "text/plain": [
              "<Figure size 432x288 with 1 Axes>"
            ],
            "image/png": "[encoded data removed]"
          },
          "metadata": {
            "needs_background": "light"
          }
        }
      ]
    },
    {
      "cell_type": "markdown",
      "source": [
        "Pontos observados:\n",
        "- os ministérios da educação, economia e defesa foram os que mais trouxeram receita, tanto em 2021 como em 2022 até o momento.\n",
        "- a principal fonte de receita são os serviços.\n",
        "- patrimonios e taxas e impostos também possuem expressividade na arrecadação da receita."
      ],
      "metadata": {
        "id": "VMwnASswHpIB"
      }
    },
    {
      "cell_type": "markdown",
      "source": [],
      "metadata": {
        "id": "tKuiX3C7ORxX"
      }
    },
    {
      "cell_type": "markdown",
      "source": [],
      "metadata": {
        "id": "qruTi1dYHo6k"
      }
    },
    {
      "cell_type": "markdown",
      "source": [
        "# **Despesas**"
      ],
      "metadata": {
        "id": "48IAHTz_n-Hf"
      }
    },
    {
      "cell_type": "markdown",
      "source": [
        "Aqui irei analisar as despesas públicas referentes apenas ao mês de novembro de 2022. Algumas perguntas que serão respondidas:\n",
        "\n",
        "\n",
        "*   Qual órgão do governo teve as despesas mais altas neste mês?\n",
        "*   Quais unidades orçamentárias* tiveram as despesas mais altas? \n",
        "* Em quais modalidades ocorreram gastos?\n",
        "\n",
        "\n",
        "\n",
        "*Unidade orçamentária é o menor nível da classificação institucional. É a destinatária das dotações do orçamento da União. Corresponde a entidades da administração direta ou indireta na maioria dos casos, podendo servir também para identificar fundos especiais, transferências a Estados e Municípios, encargos financeiros da União, operações oficiais de crédito, refinanciamento da dívida pública mobiliária federal e reserva de contingência.\n",
        "\n"
      ],
      "metadata": {
        "id": "MspQwZXBu4Ui"
      }
    },
    {
      "cell_type": "markdown",
      "source": [
        "**Conhecendo os dados de despesas do mês 11/2022:**"
      ],
      "metadata": {
        "id": "eStFFWLeCWyX"
      }
    },
    {
      "cell_type": "code",
      "source": [
        "despesas = pd.read_csv ('/content/202211_Despesas.csv',sep=';')"
      ],
      "metadata": {
        "colab": {
          "base_uri": "https://localhost:8080/"
        },
        "id": "ALQh3HTBS8wm",
        "outputId": "3a000a36-3a48-4c89-dd38-d624874f9daf"
      },
      "execution_count": null,
      "outputs": [
        {
          "output_type": "stream",
          "name": "stderr",
          "text": [
            "/usr/local/lib/python3.7/dist-packages/IPython/core/interactiveshell.py:3326: DtypeWarning: Columns (21) have mixed types.Specify dtype option on import or set low_memory=False.\n",
            "  exec(code_obj, self.user_global_ns, self.user_ns)\n"
          ]
        }
      ]
    },
    {
      "cell_type": "code",
      "source": [
        "#quais são as colunas do dataset\n",
        "despesas.columns"
      ],
      "metadata": {
        "colab": {
          "base_uri": "https://localhost:8080/"
        },
        "id": "HTALSSGwi2zE",
        "outputId": "f1e9b365-9d96-466a-fd52-418708c5c696"
      },
      "execution_count": null,
      "outputs": [
        {
          "output_type": "execute_result",
          "data": {
            "text/plain": [
              "Index(['Ano e mês do lançamento', 'Código Órgão Superior',\n",
              "       'Nome Órgão Superior', 'Código Órgão Subordinado',\n",
              "       'Nome Órgão Subordinado', 'Código Unidade Gestora',\n",
              "       'Nome Unidade Gestora', 'Código Gestão', 'Nome Gestão',\n",
              "       'Código Unidade Orçamentária', 'Nome Unidade Orçamentária',\n",
              "       'Código Função', 'Nome Função', 'Código Subfução', 'Nome Subfunção',\n",
              "       'Código Programa Orçamentário', 'Nome Programa Orçamentário',\n",
              "       'Código Ação', 'Nome Ação', 'Código Plano Orçamentário',\n",
              "       'Plano Orçamentário', 'Código Programa Governo',\n",
              "       'Nome Programa Governo', 'UF', 'Município', 'Código Subtítulo',\n",
              "       'Nome Subtítulo', 'Código Localizador', 'Nome Localizador',\n",
              "       'Sigla Localizador', 'Descrição Complementar Localizador',\n",
              "       'Código Autor Emenda', 'Nome Autor Emenda',\n",
              "       'Código Categoria Econômica', 'Nome Categoria Econômica',\n",
              "       'Código Grupo de Despesa', 'Nome Grupo de Despesa',\n",
              "       'Código Elemento de Despesa', 'Nome Elemento de Despesa',\n",
              "       'Código Modalidade da Despesa', 'Modalidade da Despesa',\n",
              "       'Valor Empenhado (R$)', 'Valor Liquidado (R$)', 'Valor Pago (R$)',\n",
              "       'Valor Restos a Pagar Inscritos (R$)',\n",
              "       'Valor Restos a Pagar Cancelado (R$)',\n",
              "       'Valor Restos a Pagar Pagos (R$)'],\n",
              "      dtype='object')"
            ]
          },
          "metadata": {},
          "execution_count": 38
        }
      ]
    },
    {
      "cell_type": "code",
      "source": [
        "#como estão registrados os dados nessas colunas\n",
        "despesas.dtypes"
      ],
      "metadata": {
        "colab": {
          "base_uri": "https://localhost:8080/"
        },
        "id": "25f0PJctm5Nn",
        "outputId": "578578e5-c978-4450-f700-a0300e50f552"
      },
      "execution_count": null,
      "outputs": [
        {
          "output_type": "execute_result",
          "data": {
            "text/plain": [
              "Ano e mês do lançamento                 object\n",
              "Código Órgão Superior                    int64\n",
              "Nome Órgão Superior                     object\n",
              "Código Órgão Subordinado                 int64\n",
              "Nome Órgão Subordinado                  object\n",
              "Código Unidade Gestora                   int64\n",
              "Nome Unidade Gestora                    object\n",
              "Código Gestão                          float64\n",
              "Nome Gestão                             object\n",
              "Código Unidade Orçamentária              int64\n",
              "Nome Unidade Orçamentária               object\n",
              "Código Função                            int64\n",
              "Nome Função                             object\n",
              "Código Subfução                          int64\n",
              "Nome Subfunção                          object\n",
              "Código Programa Orçamentário             int64\n",
              "Nome Programa Orçamentário              object\n",
              "Código Ação                             object\n",
              "Nome Ação                               object\n",
              "Código Plano Orçamentário               object\n",
              "Plano Orçamentário                      object\n",
              "Código Programa Governo                 object\n",
              "Nome Programa Governo                   object\n",
              "UF                                      object\n",
              "Município                               object\n",
              "Código Subtítulo                        object\n",
              "Nome Subtítulo                          object\n",
              "Código Localizador                       int64\n",
              "Nome Localizador                        object\n",
              "Sigla Localizador                       object\n",
              "Descrição Complementar Localizador      object\n",
              "Código Autor Emenda                     object\n",
              "Nome Autor Emenda                       object\n",
              "Código Categoria Econômica               int64\n",
              "Nome Categoria Econômica                object\n",
              "Código Grupo de Despesa                  int64\n",
              "Nome Grupo de Despesa                   object\n",
              "Código Elemento de Despesa               int64\n",
              "Nome Elemento de Despesa                object\n",
              "Código Modalidade da Despesa             int64\n",
              "Modalidade da Despesa                   object\n",
              "Valor Empenhado (R$)                    object\n",
              "Valor Liquidado (R$)                    object\n",
              "Valor Pago (R$)                         object\n",
              "Valor Restos a Pagar Inscritos (R$)     object\n",
              "Valor Restos a Pagar Cancelado (R$)     object\n",
              "Valor Restos a Pagar Pagos (R$)         object\n",
              "dtype: object"
            ]
          },
          "metadata": {},
          "execution_count": 39
        }
      ]
    },
    {
      "cell_type": "code",
      "source": [
        "#somatório dos valores nulos em cada coluna:\n",
        "despesas.isnull().sum()"
      ],
      "metadata": {
        "colab": {
          "base_uri": "https://localhost:8080/"
        },
        "id": "p17f8kG4nB_C",
        "outputId": "e3407956-cbdc-413b-ccd2-858070674730"
      },
      "execution_count": null,
      "outputs": [
        {
          "output_type": "execute_result",
          "data": {
            "text/plain": [
              "Ano e mês do lançamento                    0\n",
              "Código Órgão Superior                      0\n",
              "Nome Órgão Superior                        0\n",
              "Código Órgão Subordinado                   0\n",
              "Nome Órgão Subordinado                     0\n",
              "Código Unidade Gestora                     0\n",
              "Nome Unidade Gestora                       0\n",
              "Código Gestão                            618\n",
              "Nome Gestão                              618\n",
              "Código Unidade Orçamentária                0\n",
              "Nome Unidade Orçamentária                  0\n",
              "Código Função                              0\n",
              "Nome Função                                0\n",
              "Código Subfução                            0\n",
              "Nome Subfunção                             0\n",
              "Código Programa Orçamentário               0\n",
              "Nome Programa Orçamentário                 0\n",
              "Código Ação                                0\n",
              "Nome Ação                                  0\n",
              "Código Plano Orçamentário                  0\n",
              "Plano Orçamentário                         0\n",
              "Código Programa Governo                    0\n",
              "Nome Programa Governo                      0\n",
              "UF                                     31610\n",
              "Município                              46285\n",
              "Código Subtítulo                           0\n",
              "Nome Subtítulo                             0\n",
              "Código Localizador                         0\n",
              "Nome Localizador                           0\n",
              "Sigla Localizador                      30014\n",
              "Descrição Complementar Localizador         0\n",
              "Código Autor Emenda                    44358\n",
              "Nome Autor Emenda                          0\n",
              "Código Categoria Econômica                 0\n",
              "Nome Categoria Econômica                   0\n",
              "Código Grupo de Despesa                    0\n",
              "Nome Grupo de Despesa                      0\n",
              "Código Elemento de Despesa                 0\n",
              "Nome Elemento de Despesa                   0\n",
              "Código Modalidade da Despesa               0\n",
              "Modalidade da Despesa                      0\n",
              "Valor Empenhado (R$)                       0\n",
              "Valor Liquidado (R$)                       0\n",
              "Valor Pago (R$)                            0\n",
              "Valor Restos a Pagar Inscritos (R$)        0\n",
              "Valor Restos a Pagar Cancelado (R$)        0\n",
              "Valor Restos a Pagar Pagos (R$)            0\n",
              "dtype: int64"
            ]
          },
          "metadata": {},
          "execution_count": 40
        }
      ]
    },
    {
      "cell_type": "code",
      "source": [
        "despesas.select_dtypes(include='object')"
      ],
      "metadata": {
        "colab": {
          "base_uri": "https://localhost:8080/",
          "height": 1000
        },
        "id": "4D91F-IzoE2B",
        "outputId": "36ae072e-44b2-40c9-dc22-589a23ed8606"
      },
      "execution_count": null,
      "outputs": [
        {
          "output_type": "execute_result",
          "data": {
            "text/plain": [
              "      Ano e mês do lançamento                            Nome Órgão Superior  \\\n",
              "0                     2022/11                         Ministério da Economia   \n",
              "1                     2022/11  Ministério da Agricultura, Pecuária e Abastec   \n",
              "2                     2022/11  Ministério da Agricultura, Pecuária e Abastec   \n",
              "3                     2022/11                         Ministério da Educação   \n",
              "4                     2022/11                         Ministério da Educação   \n",
              "...                       ...                                            ...   \n",
              "46644                 2022/11                       Presidência da República   \n",
              "46645                 2022/11                         Ministério da Educação   \n",
              "46646                 2022/11                         Ministério da Educação   \n",
              "46647                 2022/11                         Ministério da Educação   \n",
              "46648                 2022/11                         Ministério da Educação   \n",
              "\n",
              "                                  Nome Órgão Subordinado  \\\n",
              "0      Ministério da Economia - Unidades com vínculo ...   \n",
              "1      Ministério da Agricultura, Pecuária e Abasteci...   \n",
              "2      Ministério da Agricultura, Pecuária e Abasteci...   \n",
              "3      Fundação Universidade Federal de São João Del-Rei   \n",
              "4                           Instituto Federal Fluminense   \n",
              "...                                                  ...   \n",
              "46644                           Presidência da República   \n",
              "46645                         Instituto Federal do Ceará   \n",
              "46646        Empresa Brasileira de Serviços Hospitalares   \n",
              "46647        Fundação Universidade Federal de Uberlândia   \n",
              "46648        Empresa Brasileira de Serviços Hospitalares   \n",
              "\n",
              "                                Nome Unidade Gestora  \\\n",
              "0        DIVISAO DE PESSOAL EX-TERRITORIO DE RORAIMA   \n",
              "1      SUPERINT.FED.DE AGRIC.,PEC.E ABASTECIMENTO/MT   \n",
              "2      SECRET.DE INOVACAO,DESENV.SUSTENTAVEL E IRRIG   \n",
              "3       FUNDACAO UNIVERSIDADE FEDERAL DE S.J.DEL-REI   \n",
              "4              INST. FED. FLUMINENSE/CAMPUS QUISSAMA   \n",
              "...                                              ...   \n",
              "46644        SECRETARIA ESPECIAL DE ADMINISTRACAO/PR   \n",
              "46645                          CAMPUS ITAPIPOCA/IFCE   \n",
              "46646                 HOSPITAL UNIVERSITARIO DA UFSC   \n",
              "46647    FUNDACAO UNIVERSIDADE FEDERAL DE UBERLANDIA   \n",
              "46648            EBSERH COMPLEXO HOSPITALAR DO CEARA   \n",
              "\n",
              "                                        Nome Gestão  \\\n",
              "0                                  TESOURO NACIONAL   \n",
              "1                                  TESOURO NACIONAL   \n",
              "2                                               NaN   \n",
              "3      FUNDACAO UNIVERSIDADE FEDERAL DE S.J DEL-REI   \n",
              "4          INST.FED.DE EDUC.,CIENC.E TEC.FLUMINENSE   \n",
              "...                                             ...   \n",
              "46644                              TESOURO NACIONAL   \n",
              "46645        INST.FED.DE EDUC.,CIENC.E TEC.DO CEARA   \n",
              "46646   EMPRESA BRASILEIRA DE SERVICOS HOSPITALARES   \n",
              "46647   FUNDACAO UNIVERSIDADE FEDERAL DE UBERLANDIA   \n",
              "46648   EMPRESA BRASILEIRA DE SERVICOS HOSPITALARES   \n",
              "\n",
              "                           Nome Unidade Orçamentária    Nome Função  \\\n",
              "0             RECURSOS SOB SUPERVISAO DO ME - TRF.ME  Administração   \n",
              "1       MINISTERIO DA AGRIC.PECUARIA E ABASTECIMENTO    Agricultura   \n",
              "2       MINISTERIO DA AGRIC.PECUARIA E ABASTECIMENTO    Agricultura   \n",
              "3       FUNDACAO UNIVERSIDADE FEDERAL DE S.J.DEL-REI       Educação   \n",
              "4                             MINISTERIO DA EDUCACAO       Educação   \n",
              "...                                              ...            ...   \n",
              "46644  AUTORIDADE NACIONAL DE PROTECAO DE DADOS-ANPD  Administração   \n",
              "46645         INST.FED.DE EDUC.,CIENC.E TEC.DO CEARA       Educação   \n",
              "46646                        FUNDO NACIONAL DE SAUDE          Saúde   \n",
              "46647    FUNDACAO UNIVERSIDADE FEDERAL DE UBERLANDIA       Educação   \n",
              "46648   EMPRESA BRASIL.DE SERV.HOSPITALARES - EBSERH       Educação   \n",
              "\n",
              "                              Nome Subfunção  \\\n",
              "0                        Administração geral   \n",
              "1                Normatização e fiscalização   \n",
              "2          Promoção da produção agropecuária   \n",
              "3                            Ensino superior   \n",
              "4                        Ensino profissional   \n",
              "...                                      ...   \n",
              "46644            Normatização e fiscalização   \n",
              "46645                    Ensino profissional   \n",
              "46646  Assistência hospitalar e ambulatorial   \n",
              "46647                        Ensino superior   \n",
              "46648  Assistência hospitalar e ambulatorial   \n",
              "\n",
              "                              Nome Programa Orçamentário Código Ação  ...  \\\n",
              "0      PROGRAMA DE GESTAO E MANUTENCAO DO PODER EXECU...        218I  ...   \n",
              "1                                    DEFESA AGROPECUARIA        214W  ...   \n",
              "2                               AGROPECUARIA SUSTENTAVEL        20ZV  ...   \n",
              "3      EDUCACAO SUPERIOR - GRADUACAO, POS-GRADUACAO, ...        4002  ...   \n",
              "4                    EDUCACAO PROFISSIONAL E TECNOLOGICA        15R4  ...   \n",
              "...                                                  ...         ...  ...   \n",
              "46644                                   BRASIL MODERNIZA        21D5  ...   \n",
              "46645                EDUCACAO PROFISSIONAL E TECNOLOGICA        20RL  ...   \n",
              "46646                      ATENCAO ESPECIALIZADA A SAUDE        8585  ...   \n",
              "46647  EDUCACAO SUPERIOR - GRADUACAO, POS-GRADUACAO, ...        4002  ...   \n",
              "46648  EDUCACAO SUPERIOR - GRADUACAO, POS-GRADUACAO, ...        4086  ...   \n",
              "\n",
              "      Nome Categoria Econômica       Nome Grupo de Despesa  \\\n",
              "0           DESPESAS CORRENTES  Pessoal e Encargos Sociais   \n",
              "1           DESPESAS CORRENTES   Outras Despesas Correntes   \n",
              "2          DESPESAS DE CAPITAL               Investimentos   \n",
              "3           DESPESAS CORRENTES   Outras Despesas Correntes   \n",
              "4          DESPESAS DE CAPITAL               Investimentos   \n",
              "...                        ...                         ...   \n",
              "46644       DESPESAS CORRENTES   Outras Despesas Correntes   \n",
              "46645       DESPESAS CORRENTES   Outras Despesas Correntes   \n",
              "46646       DESPESAS CORRENTES   Outras Despesas Correntes   \n",
              "46647       DESPESAS CORRENTES   Outras Despesas Correntes   \n",
              "46648       DESPESAS CORRENTES   Outras Despesas Correntes   \n",
              "\n",
              "                            Nome Elemento de Despesa  \\\n",
              "0                               Obrigações Patronais   \n",
              "1      Outros Serviços de Terceiros - Pessoa Jurídic   \n",
              "2                                           Auxílios   \n",
              "3       Outros Serviços de Terceiros - Pessoa Física   \n",
              "4                 Equipamentos e Material Permanente   \n",
              "...                                              ...   \n",
              "46644  Outros Serviços de Terceiros - Pessoa Jurídic   \n",
              "46645                         Locação de Mão-de-Obra   \n",
              "46646                            Material de Consumo   \n",
              "46647             Passagens e Despesas com Locomoção   \n",
              "46648                            Material de Consumo   \n",
              "\n",
              "                                Modalidade da Despesa Valor Empenhado (R$)  \\\n",
              "0                             Reserva de Contingência                    0   \n",
              "1                             Reserva de Contingência                 0,83   \n",
              "2      Transferências a Estados e ao Distrito Federal                    0   \n",
              "3                             Reserva de Contingência                 5360   \n",
              "4                             Reserva de Contingência               131400   \n",
              "...                                               ...                  ...   \n",
              "46644                         Reserva de Contingência                    0   \n",
              "46645                         Reserva de Contingência                    0   \n",
              "46646                         Reserva de Contingência            268307,73   \n",
              "46647                         Reserva de Contingência                    0   \n",
              "46648                         Reserva de Contingência                    0   \n",
              "\n",
              "      Valor Liquidado (R$) Valor Pago (R$)  \\\n",
              "0                        0       295578,29   \n",
              "1                    97,48          311,56   \n",
              "2                        0               0   \n",
              "3                     2240          5411,2   \n",
              "4                        0               0   \n",
              "...                    ...             ...   \n",
              "46644               474,59          474,59   \n",
              "46645              5778,16        36155,86   \n",
              "46646            406179,38      1577771,15   \n",
              "46647                    0               0   \n",
              "46648                    0               0   \n",
              "\n",
              "      Valor Restos a Pagar Inscritos (R$) Valor Restos a Pagar Cancelado (R$)  \\\n",
              "0                                       0                                   0   \n",
              "1                                       0                                   0   \n",
              "2                                  238750                                   0   \n",
              "3                                       0                                   0   \n",
              "4                                       0                                   0   \n",
              "...                                   ...                                 ...   \n",
              "46644                                   0                                   0   \n",
              "46645                                   0                                   0   \n",
              "46646                                   0                                   0   \n",
              "46647                                   0                                   0   \n",
              "46648                                   0                              5289,5   \n",
              "\n",
              "      Valor Restos a Pagar Pagos (R$)  \n",
              "0                                   0  \n",
              "1                                   0  \n",
              "2                                   0  \n",
              "3                                   0  \n",
              "4                                   0  \n",
              "...                               ...  \n",
              "46644                               0  \n",
              "46645                               0  \n",
              "46646                            3508  \n",
              "46647                         29362,5  \n",
              "46648                               0  \n",
              "\n",
              "[46649 rows x 34 columns]"
            ],
            "text/html": [
              "\n",
              "  <div id=\"df-10475b6e-56ff-4ecb-94dc-d92862c1b973\">\n",
              "    <div class=\"colab-df-container\">\n",
              "      <div>\n",
              "<style scoped>\n",
              "    .dataframe tbody tr th:only-of-type {\n",
              "        vertical-align: middle;\n",
              "    }\n",
              "\n",
              "    .dataframe tbody tr th {\n",
              "        vertical-align: top;\n",
              "    }\n",
              "\n",
              "    .dataframe thead th {\n",
              "        text-align: right;\n",
              "    }\n",
              "</style>\n",
              "<table border=\"1\" class=\"dataframe\">\n",
              "  <thead>\n",
              "    <tr style=\"text-align: right;\">\n",
              "      <th></th>\n",
              "      <th>Ano e mês do lançamento</th>\n",
              "      <th>Nome Órgão Superior</th>\n",
              "      <th>Nome Órgão Subordinado</th>\n",
              "      <th>Nome Unidade Gestora</th>\n",
              "      <th>Nome Gestão</th>\n",
              "      <th>Nome Unidade Orçamentária</th>\n",
              "      <th>Nome Função</th>\n",
              "      <th>Nome Subfunção</th>\n",
              "      <th>Nome Programa Orçamentário</th>\n",
              "      <th>Código Ação</th>\n",
              "      <th>...</th>\n",
              "      <th>Nome Categoria Econômica</th>\n",
              "      <th>Nome Grupo de Despesa</th>\n",
              "      <th>Nome Elemento de Despesa</th>\n",
              "      <th>Modalidade da Despesa</th>\n",
              "      <th>Valor Empenhado (R$)</th>\n",
              "      <th>Valor Liquidado (R$)</th>\n",
              "      <th>Valor Pago (R$)</th>\n",
              "      <th>Valor Restos a Pagar Inscritos (R$)</th>\n",
              "      <th>Valor Restos a Pagar Cancelado (R$)</th>\n",
              "      <th>Valor Restos a Pagar Pagos (R$)</th>\n",
              "    </tr>\n",
              "  </thead>\n",
              "  <tbody>\n",
              "    <tr>\n",
              "      <th>0</th>\n",
              "      <td>2022/11</td>\n",
              "      <td>Ministério da Economia</td>\n",
              "      <td>Ministério da Economia - Unidades com vínculo ...</td>\n",
              "      <td>DIVISAO DE PESSOAL EX-TERRITORIO DE RORAIMA</td>\n",
              "      <td>TESOURO NACIONAL</td>\n",
              "      <td>RECURSOS SOB SUPERVISAO DO ME - TRF.ME</td>\n",
              "      <td>Administração</td>\n",
              "      <td>Administração geral</td>\n",
              "      <td>PROGRAMA DE GESTAO E MANUTENCAO DO PODER EXECU...</td>\n",
              "      <td>218I</td>\n",
              "      <td>...</td>\n",
              "      <td>DESPESAS CORRENTES</td>\n",
              "      <td>Pessoal e Encargos Sociais</td>\n",
              "      <td>Obrigações Patronais</td>\n",
              "      <td>Reserva de Contingência</td>\n",
              "      <td>0</td>\n",
              "      <td>0</td>\n",
              "      <td>295578,29</td>\n",
              "      <td>0</td>\n",
              "      <td>0</td>\n",
              "      <td>0</td>\n",
              "    </tr>\n",
              "    <tr>\n",
              "      <th>1</th>\n",
              "      <td>2022/11</td>\n",
              "      <td>Ministério da Agricultura, Pecuária e Abastec</td>\n",
              "      <td>Ministério da Agricultura, Pecuária e Abasteci...</td>\n",
              "      <td>SUPERINT.FED.DE AGRIC.,PEC.E ABASTECIMENTO/MT</td>\n",
              "      <td>TESOURO NACIONAL</td>\n",
              "      <td>MINISTERIO DA AGRIC.PECUARIA E ABASTECIMENTO</td>\n",
              "      <td>Agricultura</td>\n",
              "      <td>Normatização e fiscalização</td>\n",
              "      <td>DEFESA AGROPECUARIA</td>\n",
              "      <td>214W</td>\n",
              "      <td>...</td>\n",
              "      <td>DESPESAS CORRENTES</td>\n",
              "      <td>Outras Despesas Correntes</td>\n",
              "      <td>Outros Serviços de Terceiros - Pessoa Jurídic</td>\n",
              "      <td>Reserva de Contingência</td>\n",
              "      <td>0,83</td>\n",
              "      <td>97,48</td>\n",
              "      <td>311,56</td>\n",
              "      <td>0</td>\n",
              "      <td>0</td>\n",
              "      <td>0</td>\n",
              "    </tr>\n",
              "    <tr>\n",
              "      <th>2</th>\n",
              "      <td>2022/11</td>\n",
              "      <td>Ministério da Agricultura, Pecuária e Abastec</td>\n",
              "      <td>Ministério da Agricultura, Pecuária e Abasteci...</td>\n",
              "      <td>SECRET.DE INOVACAO,DESENV.SUSTENTAVEL E IRRIG</td>\n",
              "      <td>NaN</td>\n",
              "      <td>MINISTERIO DA AGRIC.PECUARIA E ABASTECIMENTO</td>\n",
              "      <td>Agricultura</td>\n",
              "      <td>Promoção da produção agropecuária</td>\n",
              "      <td>AGROPECUARIA SUSTENTAVEL</td>\n",
              "      <td>20ZV</td>\n",
              "      <td>...</td>\n",
              "      <td>DESPESAS DE CAPITAL</td>\n",
              "      <td>Investimentos</td>\n",
              "      <td>Auxílios</td>\n",
              "      <td>Transferências a Estados e ao Distrito Federal</td>\n",
              "      <td>0</td>\n",
              "      <td>0</td>\n",
              "      <td>0</td>\n",
              "      <td>238750</td>\n",
              "      <td>0</td>\n",
              "      <td>0</td>\n",
              "    </tr>\n",
              "    <tr>\n",
              "      <th>3</th>\n",
              "      <td>2022/11</td>\n",
              "      <td>Ministério da Educação</td>\n",
              "      <td>Fundação Universidade Federal de São João Del-Rei</td>\n",
              "      <td>FUNDACAO UNIVERSIDADE FEDERAL DE S.J.DEL-REI</td>\n",
              "      <td>FUNDACAO UNIVERSIDADE FEDERAL DE S.J DEL-REI</td>\n",
              "      <td>FUNDACAO UNIVERSIDADE FEDERAL DE S.J.DEL-REI</td>\n",
              "      <td>Educação</td>\n",
              "      <td>Ensino superior</td>\n",
              "      <td>EDUCACAO SUPERIOR - GRADUACAO, POS-GRADUACAO, ...</td>\n",
              "      <td>4002</td>\n",
              "      <td>...</td>\n",
              "      <td>DESPESAS CORRENTES</td>\n",
              "      <td>Outras Despesas Correntes</td>\n",
              "      <td>Outros Serviços de Terceiros - Pessoa Física</td>\n",
              "      <td>Reserva de Contingência</td>\n",
              "      <td>5360</td>\n",
              "      <td>2240</td>\n",
              "      <td>5411,2</td>\n",
              "      <td>0</td>\n",
              "      <td>0</td>\n",
              "      <td>0</td>\n",
              "    </tr>\n",
              "    <tr>\n",
              "      <th>4</th>\n",
              "      <td>2022/11</td>\n",
              "      <td>Ministério da Educação</td>\n",
              "      <td>Instituto Federal Fluminense</td>\n",
              "      <td>INST. FED. FLUMINENSE/CAMPUS QUISSAMA</td>\n",
              "      <td>INST.FED.DE EDUC.,CIENC.E TEC.FLUMINENSE</td>\n",
              "      <td>MINISTERIO DA EDUCACAO</td>\n",
              "      <td>Educação</td>\n",
              "      <td>Ensino profissional</td>\n",
              "      <td>EDUCACAO PROFISSIONAL E TECNOLOGICA</td>\n",
              "      <td>15R4</td>\n",
              "      <td>...</td>\n",
              "      <td>DESPESAS DE CAPITAL</td>\n",
              "      <td>Investimentos</td>\n",
              "      <td>Equipamentos e Material Permanente</td>\n",
              "      <td>Reserva de Contingência</td>\n",
              "      <td>131400</td>\n",
              "      <td>0</td>\n",
              "      <td>0</td>\n",
              "      <td>0</td>\n",
              "      <td>0</td>\n",
              "      <td>0</td>\n",
              "    </tr>\n",
              "    <tr>\n",
              "      <th>...</th>\n",
              "      <td>...</td>\n",
              "      <td>...</td>\n",
              "      <td>...</td>\n",
              "      <td>...</td>\n",
              "      <td>...</td>\n",
              "      <td>...</td>\n",
              "      <td>...</td>\n",
              "      <td>...</td>\n",
              "      <td>...</td>\n",
              "      <td>...</td>\n",
              "      <td>...</td>\n",
              "      <td>...</td>\n",
              "      <td>...</td>\n",
              "      <td>...</td>\n",
              "      <td>...</td>\n",
              "      <td>...</td>\n",
              "      <td>...</td>\n",
              "      <td>...</td>\n",
              "      <td>...</td>\n",
              "      <td>...</td>\n",
              "      <td>...</td>\n",
              "    </tr>\n",
              "    <tr>\n",
              "      <th>46644</th>\n",
              "      <td>2022/11</td>\n",
              "      <td>Presidência da República</td>\n",
              "      <td>Presidência da República</td>\n",
              "      <td>SECRETARIA ESPECIAL DE ADMINISTRACAO/PR</td>\n",
              "      <td>TESOURO NACIONAL</td>\n",
              "      <td>AUTORIDADE NACIONAL DE PROTECAO DE DADOS-ANPD</td>\n",
              "      <td>Administração</td>\n",
              "      <td>Normatização e fiscalização</td>\n",
              "      <td>BRASIL MODERNIZA</td>\n",
              "      <td>21D5</td>\n",
              "      <td>...</td>\n",
              "      <td>DESPESAS CORRENTES</td>\n",
              "      <td>Outras Despesas Correntes</td>\n",
              "      <td>Outros Serviços de Terceiros - Pessoa Jurídic</td>\n",
              "      <td>Reserva de Contingência</td>\n",
              "      <td>0</td>\n",
              "      <td>474,59</td>\n",
              "      <td>474,59</td>\n",
              "      <td>0</td>\n",
              "      <td>0</td>\n",
              "      <td>0</td>\n",
              "    </tr>\n",
              "    <tr>\n",
              "      <th>46645</th>\n",
              "      <td>2022/11</td>\n",
              "      <td>Ministério da Educação</td>\n",
              "      <td>Instituto Federal do Ceará</td>\n",
              "      <td>CAMPUS ITAPIPOCA/IFCE</td>\n",
              "      <td>INST.FED.DE EDUC.,CIENC.E TEC.DO CEARA</td>\n",
              "      <td>INST.FED.DE EDUC.,CIENC.E TEC.DO CEARA</td>\n",
              "      <td>Educação</td>\n",
              "      <td>Ensino profissional</td>\n",
              "      <td>EDUCACAO PROFISSIONAL E TECNOLOGICA</td>\n",
              "      <td>20RL</td>\n",
              "      <td>...</td>\n",
              "      <td>DESPESAS CORRENTES</td>\n",
              "      <td>Outras Despesas Correntes</td>\n",
              "      <td>Locação de Mão-de-Obra</td>\n",
              "      <td>Reserva de Contingência</td>\n",
              "      <td>0</td>\n",
              "      <td>5778,16</td>\n",
              "      <td>36155,86</td>\n",
              "      <td>0</td>\n",
              "      <td>0</td>\n",
              "      <td>0</td>\n",
              "    </tr>\n",
              "    <tr>\n",
              "      <th>46646</th>\n",
              "      <td>2022/11</td>\n",
              "      <td>Ministério da Educação</td>\n",
              "      <td>Empresa Brasileira de Serviços Hospitalares</td>\n",
              "      <td>HOSPITAL UNIVERSITARIO DA UFSC</td>\n",
              "      <td>EMPRESA BRASILEIRA DE SERVICOS HOSPITALARES</td>\n",
              "      <td>FUNDO NACIONAL DE SAUDE</td>\n",
              "      <td>Saúde</td>\n",
              "      <td>Assistência hospitalar e ambulatorial</td>\n",
              "      <td>ATENCAO ESPECIALIZADA A SAUDE</td>\n",
              "      <td>8585</td>\n",
              "      <td>...</td>\n",
              "      <td>DESPESAS CORRENTES</td>\n",
              "      <td>Outras Despesas Correntes</td>\n",
              "      <td>Material de Consumo</td>\n",
              "      <td>Reserva de Contingência</td>\n",
              "      <td>268307,73</td>\n",
              "      <td>406179,38</td>\n",
              "      <td>1577771,15</td>\n",
              "      <td>0</td>\n",
              "      <td>0</td>\n",
              "      <td>3508</td>\n",
              "    </tr>\n",
              "    <tr>\n",
              "      <th>46647</th>\n",
              "      <td>2022/11</td>\n",
              "      <td>Ministério da Educação</td>\n",
              "      <td>Fundação Universidade Federal de Uberlândia</td>\n",
              "      <td>FUNDACAO UNIVERSIDADE FEDERAL DE UBERLANDIA</td>\n",
              "      <td>FUNDACAO UNIVERSIDADE FEDERAL DE UBERLANDIA</td>\n",
              "      <td>FUNDACAO UNIVERSIDADE FEDERAL DE UBERLANDIA</td>\n",
              "      <td>Educação</td>\n",
              "      <td>Ensino superior</td>\n",
              "      <td>EDUCACAO SUPERIOR - GRADUACAO, POS-GRADUACAO, ...</td>\n",
              "      <td>4002</td>\n",
              "      <td>...</td>\n",
              "      <td>DESPESAS CORRENTES</td>\n",
              "      <td>Outras Despesas Correntes</td>\n",
              "      <td>Passagens e Despesas com Locomoção</td>\n",
              "      <td>Reserva de Contingência</td>\n",
              "      <td>0</td>\n",
              "      <td>0</td>\n",
              "      <td>0</td>\n",
              "      <td>0</td>\n",
              "      <td>0</td>\n",
              "      <td>29362,5</td>\n",
              "    </tr>\n",
              "    <tr>\n",
              "      <th>46648</th>\n",
              "      <td>2022/11</td>\n",
              "      <td>Ministério da Educação</td>\n",
              "      <td>Empresa Brasileira de Serviços Hospitalares</td>\n",
              "      <td>EBSERH COMPLEXO HOSPITALAR DO CEARA</td>\n",
              "      <td>EMPRESA BRASILEIRA DE SERVICOS HOSPITALARES</td>\n",
              "      <td>EMPRESA BRASIL.DE SERV.HOSPITALARES - EBSERH</td>\n",
              "      <td>Educação</td>\n",
              "      <td>Assistência hospitalar e ambulatorial</td>\n",
              "      <td>EDUCACAO SUPERIOR - GRADUACAO, POS-GRADUACAO, ...</td>\n",
              "      <td>4086</td>\n",
              "      <td>...</td>\n",
              "      <td>DESPESAS CORRENTES</td>\n",
              "      <td>Outras Despesas Correntes</td>\n",
              "      <td>Material de Consumo</td>\n",
              "      <td>Reserva de Contingência</td>\n",
              "      <td>0</td>\n",
              "      <td>0</td>\n",
              "      <td>0</td>\n",
              "      <td>0</td>\n",
              "      <td>5289,5</td>\n",
              "      <td>0</td>\n",
              "    </tr>\n",
              "  </tbody>\n",
              "</table>\n",
              "<p>46649 rows × 34 columns</p>\n",
              "</div>\n",
              "      <button class=\"colab-df-convert\" onclick=\"convertToInteractive('df-10475b6e-56ff-4ecb-94dc-d92862c1b973')\"\n",
              "              title=\"Convert this dataframe to an interactive table.\"\n",
              "              style=\"display:none;\">\n",
              "        \n",
              "  <svg xmlns=\"http://www.w3.org/2000/svg\" height=\"24px\"viewBox=\"0 0 24 24\"\n",
              "       width=\"24px\">\n",
              "    <path d=\"M0 0h24v24H0V0z\" fill=\"none\"/>\n",
              "    <path d=\"M18.56 5.44l.94 2.06.94-2.06 2.06-.94-2.06-.94-.94-2.06-.94 2.06-2.06.94zm-11 1L8.5 8.5l.94-2.06 2.06-.94-2.06-.94L8.5 2.5l-.94 2.06-2.06.94zm10 10l.94 2.06.94-2.06 2.06-.94-2.06-.94-.94-2.06-.94 2.06-2.06.94z\"/><path d=\"M17.41 7.96l-1.37-1.37c-.4-.4-.92-.59-1.43-.59-.52 0-1.04.2-1.43.59L10.3 9.45l-7.72 7.72c-.78.78-.78 2.05 0 2.83L4 21.41c.39.39.9.59 1.41.59.51 0 1.02-.2 1.41-.59l7.78-7.78 2.81-2.81c.8-.78.8-2.07 0-2.86zM5.41 20L4 18.59l7.72-7.72 1.47 1.35L5.41 20z\"/>\n",
              "  </svg>\n",
              "      </button>\n",
              "      \n",
              "  <style>\n",
              "    .colab-df-container {\n",
              "      display:flex;\n",
              "      flex-wrap:wrap;\n",
              "      gap: 12px;\n",
              "    }\n",
              "\n",
              "    .colab-df-convert {\n",
              "      background-color: #E8F0FE;\n",
              "      border: none;\n",
              "      border-radius: 50%;\n",
              "      cursor: pointer;\n",
              "      display: none;\n",
              "      fill: #1967D2;\n",
              "      height: 32px;\n",
              "      padding: 0 0 0 0;\n",
              "      width: 32px;\n",
              "    }\n",
              "\n",
              "    .colab-df-convert:hover {\n",
              "      background-color: #E2EBFA;\n",
              "      box-shadow: 0px 1px 2px rgba(60, 64, 67, 0.3), 0px 1px 3px 1px rgba(60, 64, 67, 0.15);\n",
              "      fill: #174EA6;\n",
              "    }\n",
              "\n",
              "    [theme=dark] .colab-df-convert {\n",
              "      background-color: #3B4455;\n",
              "      fill: #D2E3FC;\n",
              "    }\n",
              "\n",
              "    [theme=dark] .colab-df-convert:hover {\n",
              "      background-color: #434B5C;\n",
              "      box-shadow: 0px 1px 3px 1px rgba(0, 0, 0, 0.15);\n",
              "      filter: drop-shadow(0px 1px 2px rgba(0, 0, 0, 0.3));\n",
              "      fill: #FFFFFF;\n",
              "    }\n",
              "  </style>\n",
              "\n",
              "      <script>\n",
              "        const buttonEl =\n",
              "          document.querySelector('#df-10475b6e-56ff-4ecb-94dc-d92862c1b973 button.colab-df-convert');\n",
              "        buttonEl.style.display =\n",
              "          google.colab.kernel.accessAllowed ? 'block' : 'none';\n",
              "\n",
              "        async function convertToInteractive(key) {\n",
              "          const element = document.querySelector('#df-10475b6e-56ff-4ecb-94dc-d92862c1b973');\n",
              "          const dataTable =\n",
              "            await google.colab.kernel.invokeFunction('convertToInteractive',\n",
              "                                                     [key], {});\n",
              "          if (!dataTable) return;\n",
              "\n",
              "          const docLinkHtml = 'Like what you see? Visit the ' +\n",
              "            '<a target=\"_blank\" href=https://colab.research.google.com/notebooks/data_table.ipynb>data table notebook</a>'\n",
              "            + ' to learn more about interactive tables.';\n",
              "          element.innerHTML = '';\n",
              "          dataTable['output_type'] = 'display_data';\n",
              "          await google.colab.output.renderOutput(dataTable, element);\n",
              "          const docLink = document.createElement('div');\n",
              "          docLink.innerHTML = docLinkHtml;\n",
              "          element.appendChild(docLink);\n",
              "        }\n",
              "      </script>\n",
              "    </div>\n",
              "  </div>\n",
              "  "
            ]
          },
          "metadata": {},
          "execution_count": 41
        }
      ]
    },
    {
      "cell_type": "code",
      "source": [
        "#quantidade de registros únicos em cada coluna\n",
        "despesas.nunique()"
      ],
      "metadata": {
        "colab": {
          "base_uri": "https://localhost:8080/"
        },
        "id": "kc_yaOAUxeb5",
        "outputId": "3f861624-ca33-4a38-82b5-23474a5d2e7c"
      },
      "execution_count": null,
      "outputs": [
        {
          "output_type": "execute_result",
          "data": {
            "text/plain": [
              "Ano e mês do lançamento                    1\n",
              "Código Órgão Superior                     21\n",
              "Nome Órgão Superior                       21\n",
              "Código Órgão Subordinado                 235\n",
              "Nome Órgão Subordinado                   235\n",
              "Código Unidade Gestora                  3036\n",
              "Nome Unidade Gestora                    2630\n",
              "Código Gestão                            185\n",
              "Nome Gestão                              185\n",
              "Código Unidade Orçamentária              326\n",
              "Nome Unidade Orçamentária                322\n",
              "Código Função                             28\n",
              "Nome Função                               28\n",
              "Código Subfução                           95\n",
              "Nome Subfunção                            95\n",
              "Código Programa Orçamentário             130\n",
              "Nome Programa Orçamentário               118\n",
              "Código Ação                              850\n",
              "Nome Ação                                835\n",
              "Código Plano Orçamentário                159\n",
              "Plano Orçamentário                      1950\n",
              "Código Programa Governo                   10\n",
              "Nome Programa Governo                      8\n",
              "UF                                        27\n",
              "Município                                145\n",
              "Código Subtítulo                        2196\n",
              "Nome Subtítulo                          1995\n",
              "Código Localizador                       261\n",
              "Nome Localizador                          35\n",
              "Sigla Localizador                         34\n",
              "Descrição Complementar Localizador         1\n",
              "Código Autor Emenda                      182\n",
              "Nome Autor Emenda                       1477\n",
              "Código Categoria Econômica                 2\n",
              "Nome Categoria Econômica                   2\n",
              "Código Grupo de Despesa                    6\n",
              "Nome Grupo de Despesa                      6\n",
              "Código Elemento de Despesa                64\n",
              "Nome Elemento de Despesa                  64\n",
              "Código Modalidade da Despesa              15\n",
              "Modalidade da Despesa                     18\n",
              "Valor Empenhado (R$)                   15700\n",
              "Valor Liquidado (R$)                   23577\n",
              "Valor Pago (R$)                        29386\n",
              "Valor Restos a Pagar Inscritos (R$)      114\n",
              "Valor Restos a Pagar Cancelado (R$)      995\n",
              "Valor Restos a Pagar Pagos (R$)         4686\n",
              "dtype: int64"
            ]
          },
          "metadata": {},
          "execution_count": 42
        }
      ]
    },
    {
      "cell_type": "markdown",
      "source": [
        "soma do valor pago: R$1.382.570.810,3\n",
        "despesas 11/2022\n",
        "\n",
        "em nov/2021: R$1.911.441.100,0\n"
      ],
      "metadata": {
        "id": "e8vhYs-r-pDK"
      }
    },
    {
      "cell_type": "code",
      "source": [
        "#Olhando para algumas colunas específicas:\n",
        "despesas ['Nome Órgão Superior'].value_counts()"
      ],
      "metadata": {
        "colab": {
          "base_uri": "https://localhost:8080/"
        },
        "id": "7ZeO35G9VmEe",
        "outputId": "3e40c3a3-385d-4637-d6f9-f1edf3b3dd62"
      },
      "execution_count": null,
      "outputs": [
        {
          "output_type": "execute_result",
          "data": {
            "text/plain": [
              "Ministério da Defesa                             14262\n",
              "Ministério da Educação                           14119\n",
              "Ministério da Agricultura, Pecuária e Abastec     3297\n",
              "Ministério da Economia                            2614\n",
              "Ministério da Justiça e Segurança Pública         2308\n",
              "Ministério da Saúde                               2214\n",
              "Ministério das Relações Exteriores                1232\n",
              "Ministério de Minas e Energia                     1195\n",
              "Ministério do Desenvolvimento Regional            1106\n",
              "Ministério da Ciência, Tecnologia, Inovações       712\n",
              "Ministério da Infraestrutura                       698\n",
              "Ministério do Meio Ambiente                        631\n",
              "Ministério do Turismo                              550\n",
              "Ministério do Trabalho                             545\n",
              "Ministério da Cidadania                            349\n",
              "Ministério das Comunicações                        288\n",
              "Presidência da República                           156\n",
              "Ministério da Mulher, Família e Direitos Huma      120\n",
              "Advocacia-Geral da União                           100\n",
              "Banco Central do Brasil - Orçamento Fiscal e        91\n",
              "Controladoria-Geral da União                        62\n",
              "Name: Nome Órgão Superior, dtype: int64"
            ]
          },
          "metadata": {},
          "execution_count": 43
        }
      ]
    },
    {
      "cell_type": "code",
      "source": [
        "fig = plt.figure(\n",
        "                FigureClass=Waffle,\n",
        "                rows=4,\n",
        "                columns=10,\n",
        "                values={'Ministério da Defesa':  14262,\n",
        "                    'Ministério da Educação': 14119,\n",
        "                        'Ministério da Agricultura, Pecuária': 3297, \n",
        "                        'Ministério da Economia': 2614,\n",
        "                        'Ministério da Justiça e Segurança Pública': 2308,\n",
        "                        'Ministério da Saúde': 2214,\n",
        "                        'Ministério das Relações Exteriores':  1232,\n",
        "                        'Ministério de Minas e Energia':  1195\n",
        "                        },\n",
        "                legend={'loc': 'upper left',\n",
        "                        'bbox_to_anchor': (1.1, 1)}\n",
        "                )\n",
        "\n",
        "fig.set_tight_layout(False)\n",
        "plt.show()"
      ],
      "metadata": {
        "colab": {
          "base_uri": "https://localhost:8080/",
          "height": 161
        },
        "id": "i4sODaKEJ4VN",
        "outputId": "025b1973-a4e1-4303-f735-56864e755890"
      },
      "execution_count": null,
      "outputs": [
        {
          "output_type": "display_data",
          "data": {
            "text/plain": [
              "<Waffle size 432x288 with 1 Axes>"
            ],
            "image/png": "[encoded data removed]"
          },
          "metadata": {
            "needs_background": "light"
          }
        }
      ]
    },
    {
      "cell_type": "markdown",
      "source": [
        "**quem são os órgãos que possuem as despesas mais altas?**\n"
      ],
      "metadata": {
        "id": "XnGxvQCSIfqt"
      }
    },
    {
      "cell_type": "code",
      "source": [
        "despesas ['Nome Unidade Orçamentária'].value_counts()"
      ],
      "metadata": {
        "colab": {
          "base_uri": "https://localhost:8080/"
        },
        "id": "xrArK9gPWsMf",
        "outputId": "5f1dcc42-7148-47dc-e88f-e9a6651e6eef"
      },
      "execution_count": null,
      "outputs": [
        {
          "output_type": "execute_result",
          "data": {
            "text/plain": [
              "COMANDO DO EXERCITO                             6134\n",
              "FUNDO DO EXERCITO                               2660\n",
              "FUNDO NACIONAL DE SAUDE                         1768\n",
              "MINISTERIO DA AGRIC.PECUARIA E ABASTECIMENTO    1564\n",
              "FUNDO NAVAL                                     1498\n",
              "                                                ... \n",
              "BANCO CENTRAL DO BRASIL                            1\n",
              "FUNDO NACIONAL SOBRE MUDANCAS DO CLIMA             1\n",
              "CONSELHO NACIONAL DO MINISTERIO PUBLICO-CNMP       1\n",
              "REC. SOB SUP. MINIST. AGRIC. PEC. ABASTEC.         1\n",
              "RECURSOS SOB SUPERVISAO DO FCO-MDR                 1\n",
              "Name: Nome Unidade Orçamentária, Length: 322, dtype: int64"
            ]
          },
          "metadata": {},
          "execution_count": 45
        }
      ]
    },
    {
      "cell_type": "markdown",
      "source": [
        "- onde o ministerio da defesa tem gastado "
      ],
      "metadata": {
        "id": "a5lzz1mxPdt8"
      }
    },
    {
      "cell_type": "code",
      "source": [
        "fig = plt.figure(\n",
        "                FigureClass=Waffle,\n",
        "                rows=4,\n",
        "                columns=10,\n",
        "                values={'Comando do Exército ': 6134,\n",
        "                        'Fundo do Exército': 2660,\n",
        "                        'Fundo Nacional de Saúde ':  1768,\n",
        "                        'Ministério da Agricultura e Pecuária':1564,\n",
        "                        'Fundo Naval':1498 },\n",
        "                legend={'loc': 'upper left',\n",
        "                        'bbox_to_anchor': (1.1, 1)}\n",
        "                )\n",
        "\n",
        "fig.set_tight_layout(False)\n",
        "plt.show()"
      ],
      "metadata": {
        "colab": {
          "base_uri": "https://localhost:8080/",
          "height": 161
        },
        "id": "yA3xCO9277Eh",
        "outputId": "bd8a46df-9136-4c3c-b2bf-085c2e75a185"
      },
      "execution_count": null,
      "outputs": [
        {
          "output_type": "display_data",
          "data": {
            "text/plain": [
              "<Waffle size 432x288 with 1 Axes>"
            ],
            "image/png": "[encoded data removed]"
          },
          "metadata": {
            "needs_background": "light"
          }
        }
      ]
    },
    {
      "cell_type": "code",
      "source": [
        "despesas ['Nome Programa Orçamentário'].value_counts()"
      ],
      "metadata": {
        "colab": {
          "base_uri": "https://localhost:8080/"
        },
        "id": "h9P_G-lBXBTm",
        "outputId": "f01c2d66-240a-4b09-d849-10eb0f9cd29e"
      },
      "execution_count": null,
      "outputs": [
        {
          "output_type": "execute_result",
          "data": {
            "text/plain": [
              "PROGRAMA DE GESTAO E MANUTENCAO DO PODER EXECUTIVO                                 18394\n",
              "EDUCACAO PROFISSIONAL E TECNOLOGICA                                                 5935\n",
              "DEFESA NACIONAL                                                                     5492\n",
              "EDUCACAO SUPERIOR - GRADUACAO, POS-GRADUACAO, ENSINO, PESQUISA E EXTENSAO           3678\n",
              "SEGURANCA PUBLICA, COMBATE A CORRUPCAO, AO CRIME ORGANIZADO E AO CRIME VIOLENTO      907\n",
              "                                                                                   ...  \n",
              "PROMOCAO DO TRABALHO DECENTE E ECONOMIA SOLIDARIA                                      1\n",
              "ATENCAO BASICA EM SAUDE                                                                1\n",
              "PROGRAMA DE GESTAO E MANUTENCAO DO MINISTERIO DE MINAS E ENERGIA                       1\n",
              "ASSISTENCIA AMBULATORIAL E HOSPITALAR ESPECIALIZADA                                    1\n",
              "SIMPLIFICACAO DA VIDA DA EMPRESA E DO CIDADAO: BEM MAISSIMPLES BRASIL                  1\n",
              "Name: Nome Programa Orçamentário, Length: 118, dtype: int64"
            ]
          },
          "metadata": {},
          "execution_count": 47
        }
      ]
    },
    {
      "cell_type": "code",
      "source": [
        "fig = plt.figure(\n",
        "                FigureClass=Waffle,\n",
        "                rows=4,\n",
        "                columns=10,\n",
        "                values={'Gestão e Manutenção do Poder Executivo ': 18394,\n",
        "                        'Educação Profissional e Tecnológica': 5935,\n",
        "                        'Defesa Nacional':  5492},\n",
        "                legend={'loc': 'upper left',\n",
        "                        'bbox_to_anchor': (1.1, 1)}\n",
        "                )\n",
        "\n",
        "fig.set_tight_layout(False)\n",
        "plt.show()"
      ],
      "metadata": {
        "colab": {
          "base_uri": "https://localhost:8080/",
          "height": 161
        },
        "id": "gkSvdoUX8XQW",
        "outputId": "40f09072-90aa-427b-eebd-f9587b2953e6"
      },
      "execution_count": null,
      "outputs": [
        {
          "output_type": "display_data",
          "data": {
            "text/plain": [
              "<Waffle size 432x288 with 1 Axes>"
            ],
            "image/png": "[encoded data removed]"
          },
          "metadata": {
            "needs_background": "light"
          }
        }
      ]
    },
    {
      "cell_type": "code",
      "source": [
        "despesas ['Nome Unidade Gestora'].value_counts()"
      ],
      "metadata": {
        "colab": {
          "base_uri": "https://localhost:8080/"
        },
        "id": "xge4XP40XR-W",
        "outputId": "e2ec065a-040e-4f60-9b36-5737b37093c8"
      },
      "execution_count": null,
      "outputs": [
        {
          "output_type": "execute_result",
          "data": {
            "text/plain": [
              "COMPANHIA DE PESQUISA DE RECURSOS MINERAIS       798\n",
              "DIRETORIA EXECUTIVA DO FUNDO NAC. DE SAUDE       558\n",
              "CIA DE DES.DOS VALES DO S.FRANC.E DO PARNAIBA    532\n",
              "DEPART.NAC.INFRA ESTRUTURA TRANSPORTES.          234\n",
              "FUNDO NACIONAL DE DESENVOLVIMENTO DA EDUCACAO    199\n",
              "                                                ... \n",
              "ICMBIO KFW                                         1\n",
              "CENTRO TECNICO AUDIOVISUAL-CTAV                    1\n",
              "COMISSAO REGIONAL DE OBRAS DA 8ªRM                 1\n",
              "SECRET.DE COORD.E GOVERNANCA DAS EMP.ESTATAIS      1\n",
              "HOSPITAL UNIVERSITARIO DA UNIV. FED. DO AMAPA      1\n",
              "Name: Nome Unidade Gestora, Length: 2630, dtype: int64"
            ]
          },
          "metadata": {},
          "execution_count": 49
        }
      ]
    },
    {
      "cell_type": "code",
      "source": [
        "despesas['Nome Categoria Econômica'].value_counts()"
      ],
      "metadata": {
        "colab": {
          "base_uri": "https://localhost:8080/"
        },
        "id": "H6EIionS_xGs",
        "outputId": "7450280c-1a75-42c1-c88d-9efbe97e69a3"
      },
      "execution_count": null,
      "outputs": [
        {
          "output_type": "execute_result",
          "data": {
            "text/plain": [
              "DESPESAS CORRENTES     41348\n",
              "DESPESAS DE CAPITAL     5301\n",
              "Name: Nome Categoria Econômica, dtype: int64"
            ]
          },
          "metadata": {},
          "execution_count": 50
        }
      ]
    },
    {
      "cell_type": "markdown",
      "source": [
        "**quais são as modalidades de despesa onde é gasto o dinheiro público?**"
      ],
      "metadata": {
        "id": "CenN9dM5DjPK"
      }
    },
    {
      "cell_type": "code",
      "source": [
        "despesas['Modalidade da Despesa'].value_counts()"
      ],
      "metadata": {
        "id": "joAg8zxlCEMr",
        "colab": {
          "base_uri": "https://localhost:8080/"
        },
        "outputId": "1de4ba8d-81a2-47a2-a55d-accb4234d307"
      },
      "execution_count": null,
      "outputs": [
        {
          "output_type": "execute_result",
          "data": {
            "text/plain": [
              "Reserva de Contingência                                       43876\n",
              "APLICACOES DIRETAS - OPER.INTRA-ORCAMENTARIAS                   999\n",
              "Transferências a Municípios                                     587\n",
              "TRANSFERENCIAS A MUNICIPIOS - FUNDO A FUNDO                     409\n",
              "Transferências a Instituições Privadas sem Fins Lucrativos      291\n",
              "TRANSFER. A ESTADOS E AO DF - FUNDO A FUNDO                     200\n",
              "Transferências a Estados e ao Distrito Federal                  191\n",
              "Transferências ao Exterior                                       29\n",
              "TRANSFERENCIAS A MUNICIPIOS ART.24 LC 141/12                     26\n",
              "APLICACOES DIRETAS - OP. INTRA-ORCAMENTARIAS                     21\n",
              "EXECUCAO ORCAMENTARIA DELEGADA AOS ESTADOS/DF                     5\n",
              "EXECUCAO ORCAMENTARIA DELEGADA A MUNICIPIOS                       5\n",
              "TRANSFERENCIAS A ESTADOS E DF - FUNDO A FUNDO                     4\n",
              "TRANSFERENCIAS FUNDO A FUNDO ART.24 LC 141/12                     2\n",
              "TRANSF.CONSORC.PUB.MEDIANTE CONTRATO RATEIO                       1\n",
              "Transferências a Instituições Multigovernamentais                 1\n",
              "APLICACOES DIRETAS - OPERACOES INTERNAS                           1\n",
              "Transferências a Instituições Privadas com Fins Lucrativos        1\n",
              "Name: Modalidade da Despesa, dtype: int64"
            ]
          },
          "metadata": {},
          "execution_count": 51
        }
      ]
    },
    {
      "cell_type": "markdown",
      "source": [
        "**Quais órgaos se destacam por aparecerem mais vezes nas despesas?**"
      ],
      "metadata": {
        "id": "djfKaPUSKuBR"
      }
    },
    {
      "cell_type": "code",
      "source": [
        "despesas['Nome Órgão Subordinado'].value_counts()"
      ],
      "metadata": {
        "id": "ZjSCSEQAiRMS",
        "colab": {
          "base_uri": "https://localhost:8080/"
        },
        "outputId": "200b0c3c-dcbc-42a4-8c2e-ba488466644a"
      },
      "execution_count": null,
      "outputs": [
        {
          "output_type": "execute_result",
          "data": {
            "text/plain": [
              "Comando do Exército                                                                  7313\n",
              "Fundo do Exército                                                                    2694\n",
              "Comando da Marinha                                                                   2556\n",
              "Ministério da Economia - Unidades com vínculo direto                                 1532\n",
              "Ministério da Agricultura, Pecuária e Abastecimento - Unidades com vínculo direto    1449\n",
              "                                                                                     ... \n",
              "Fundo Constitucional de Financiamento do Norte                                          1\n",
              "Fundo de Garantia à Exportação                                                          1\n",
              "Fundo de Terras e da Reforma Agrária                                                    1\n",
              "Fundo de Estabilidade do Seguro Rural                                                   1\n",
              "Fundo Constitucional de Financiamento do Centro-Oeste                                   1\n",
              "Name: Nome Órgão Subordinado, Length: 235, dtype: int64"
            ]
          },
          "metadata": {},
          "execution_count": 52
        }
      ]
    },
    {
      "cell_type": "code",
      "source": [
        "figura = plt.figure()\n",
        "ax = figura.add_axes([0,0,1.5,1.3])\n",
        "series_netflix = [\"Comando do Exército\", \"Fundo do Exército\", \"Comando da Marinha\", \"Ministério da Economia\",\n",
        "                  \"Ministério da Agricultura\"]\n",
        "pontos = [7313, 2694, 2556, 1532, 1449]\n",
        "ax.barh(series_netflix, pontos, color = \"blue\")\n",
        "ax.set_title(\"Despesas de órgãos subordinados 11/2022\", fontsize=16)\n",
        "ax.set_xlabel(\"contagem de item exclusivo\", fontsize=15)\n",
        "ax.set_ylabel(\"órgãos\", fontsize=15)\n",
        "plt.show()"
      ],
      "metadata": {
        "colab": {
          "base_uri": "https://localhost:8080/",
          "height": 460
        },
        "id": "i5OSzf2SLC3A",
        "outputId": "61c13fc5-d75b-48cb-fbf0-015dc083417a"
      },
      "execution_count": null,
      "outputs": [
        {
          "output_type": "display_data",
          "data": {
            "text/plain": [
              "<Figure size 432x288 with 1 Axes>"
            ],
            "image/png": "[encoded data removed]"
          },
          "metadata": {
            "needs_background": "light"
          }
        }
      ]
    },
    {
      "cell_type": "markdown",
      "source": [
        "**Conhecendo os dados de despesas do mês 11/2021:**"
      ],
      "metadata": {
        "id": "ThtaejDOIdF-"
      }
    },
    {
      "cell_type": "markdown",
      "source": [
        "Como estava o cenário há um ano atrás?"
      ],
      "metadata": {
        "id": "G4nIfCkhIShx"
      }
    },
    {
      "cell_type": "code",
      "source": [
        "despesa_nov11 = pd.read_csv ('/content/Despesas_nov11.csv', sep=';', header= 0)"
      ],
      "metadata": {
        "id": "a2pHduxGIR-7"
      },
      "execution_count": null,
      "outputs": []
    },
    {
      "cell_type": "code",
      "source": [
        "despesa_nov11.head()"
      ],
      "metadata": {
        "colab": {
          "base_uri": "https://localhost:8080/",
          "height": 647
        },
        "id": "uA3CbkIjIR73",
        "outputId": "786221d6-5654-4a51-921c-687fb179c139"
      },
      "execution_count": null,
      "outputs": [
        {
          "output_type": "execute_result",
          "data": {
            "text/plain": [
              "  Ano e mês do lançamento  Código Órgão Superior  \\\n",
              "0                 2021/11                  30000   \n",
              "1                 2021/11                  26000   \n",
              "2                 2021/11                  24000   \n",
              "3                 2021/11                  52000   \n",
              "4                 2021/11                  39000   \n",
              "\n",
              "                             Nome Órgão Superior  Código Órgão Subordinado  \\\n",
              "0      Ministério da Justiça e Segurança Pública                     30802   \n",
              "1                         Ministério da Educação                     26404   \n",
              "2  Ministério da Ciência, Tecnologia, Inovações                      20501   \n",
              "3                           Ministério da Defesa                     52121   \n",
              "4                   Ministério da Infraestrutura                     39252   \n",
              "\n",
              "                              Nome Órgão Subordinado  Código Unidade Gestora  \\\n",
              "0         Departamento de Polícia Rodoviária Federal                  200230   \n",
              "1                           Instituto Federal Baiano                  154580   \n",
              "2  Conselho Nacional de Desenvolvimento Científic...                  364102   \n",
              "3                                Comando do Exército                  160015   \n",
              "4  Departamento Nacional de Infraestrutura de Tra...                  393027   \n",
              "\n",
              "                           Nome Unidade Gestora  Código Gestão  \\\n",
              "0    SERVICO DE ORCAMENTO E FINANCAS DE PESSOAL            1.0   \n",
              "1  INSTITUTO FEDERAL BAIANO - CAMPUS ITAPETINGA        26404.0   \n",
              "2    CONSELHO NAC DE DESENV CIENT E TECNOLOGICO        36201.0   \n",
              "3               COMANDO 2 GRUPAMENTO ENGENHARIA            1.0   \n",
              "4     SUPERINTENDENCIA REG. NO ESTADO BA - DNIT        39252.0   \n",
              "\n",
              "                                     Nome Gestão  Código Unidade Orçamentária  \\\n",
              "0                               TESOURO NACIONAL                        30107   \n",
              "1           INST.FED.DE EDUC.,CIENC.E TEC.BAIANO                        26101   \n",
              "2  CONSELHO NAC.DE DESENV.CIENTIFICO TECNOLOGICO                        52101   \n",
              "3                               TESOURO NACIONAL                        39252   \n",
              "4  DEPTO. NAC. DE INFRA±ESTRUTURA DE TRANSPORTES                        39252   \n",
              "\n",
              "   ... Código Elemento de Despesa  \\\n",
              "0  ...                         49   \n",
              "1  ...                         37   \n",
              "2  ...                         18   \n",
              "3  ...                         30   \n",
              "4  ...                         39   \n",
              "\n",
              "                        Nome Elemento de Despesa Código Modalidade da Despesa  \\\n",
              "0                             Auxílio-Transporte                           90   \n",
              "1                         Locação de Mão-de-Obra                           90   \n",
              "2                Auxílio Financeiro a Estudantes                           90   \n",
              "3                            Material de Consumo                           90   \n",
              "4  Outros Serviços de Terceiros - Pessoa Jurídic                           91   \n",
              "\n",
              "                           Modalidade da Despesa Valor Empenhado (R$)  \\\n",
              "0                        Reserva de Contingência                    0   \n",
              "1                        Reserva de Contingência                    0   \n",
              "2                        Reserva de Contingência               835900   \n",
              "3                        Reserva de Contingência              1103,08   \n",
              "4  APLICACOES DIRETAS - OPER.INTRA-ORCAMENTARIAS              -535,65   \n",
              "\n",
              "   Valor Liquidado (R$) Valor Pago (R$) Valor Restos a Pagar Inscritos (R$)  \\\n",
              "0             259012,22       257864,69                                   0   \n",
              "1              32352,45               0                                   0   \n",
              "2                131900          122900                                   0   \n",
              "3               1103,08         1103,08                                   0   \n",
              "4                     0               0                                   0   \n",
              "\n",
              "  Valor Restos a Pagar Cancelado (R$) Valor Restos a Pagar Pagos (R$)  \n",
              "0                                   0                               0  \n",
              "1                                   0                               0  \n",
              "2                                   0                               0  \n",
              "3                                   0                               0  \n",
              "4                                   0                               0  \n",
              "\n",
              "[5 rows x 47 columns]"
            ],
            "text/html": [
              "\n",
              "  <div id=\"df-4594dd9d-61f2-44af-a836-b76d396eeb9e\">\n",
              "    <div class=\"colab-df-container\">\n",
              "      <div>\n",
              "<style scoped>\n",
              "    .dataframe tbody tr th:only-of-type {\n",
              "        vertical-align: middle;\n",
              "    }\n",
              "\n",
              "    .dataframe tbody tr th {\n",
              "        vertical-align: top;\n",
              "    }\n",
              "\n",
              "    .dataframe thead th {\n",
              "        text-align: right;\n",
              "    }\n",
              "</style>\n",
              "<table border=\"1\" class=\"dataframe\">\n",
              "  <thead>\n",
              "    <tr style=\"text-align: right;\">\n",
              "      <th></th>\n",
              "      <th>Ano e mês do lançamento</th>\n",
              "      <th>Código Órgão Superior</th>\n",
              "      <th>Nome Órgão Superior</th>\n",
              "      <th>Código Órgão Subordinado</th>\n",
              "      <th>Nome Órgão Subordinado</th>\n",
              "      <th>Código Unidade Gestora</th>\n",
              "      <th>Nome Unidade Gestora</th>\n",
              "      <th>Código Gestão</th>\n",
              "      <th>Nome Gestão</th>\n",
              "      <th>Código Unidade Orçamentária</th>\n",
              "      <th>...</th>\n",
              "      <th>Código Elemento de Despesa</th>\n",
              "      <th>Nome Elemento de Despesa</th>\n",
              "      <th>Código Modalidade da Despesa</th>\n",
              "      <th>Modalidade da Despesa</th>\n",
              "      <th>Valor Empenhado (R$)</th>\n",
              "      <th>Valor Liquidado (R$)</th>\n",
              "      <th>Valor Pago (R$)</th>\n",
              "      <th>Valor Restos a Pagar Inscritos (R$)</th>\n",
              "      <th>Valor Restos a Pagar Cancelado (R$)</th>\n",
              "      <th>Valor Restos a Pagar Pagos (R$)</th>\n",
              "    </tr>\n",
              "  </thead>\n",
              "  <tbody>\n",
              "    <tr>\n",
              "      <th>0</th>\n",
              "      <td>2021/11</td>\n",
              "      <td>30000</td>\n",
              "      <td>Ministério da Justiça e Segurança Pública</td>\n",
              "      <td>30802</td>\n",
              "      <td>Departamento de Polícia Rodoviária Federal</td>\n",
              "      <td>200230</td>\n",
              "      <td>SERVICO DE ORCAMENTO E FINANCAS DE PESSOAL</td>\n",
              "      <td>1.0</td>\n",
              "      <td>TESOURO NACIONAL</td>\n",
              "      <td>30107</td>\n",
              "      <td>...</td>\n",
              "      <td>49</td>\n",
              "      <td>Auxílio-Transporte</td>\n",
              "      <td>90</td>\n",
              "      <td>Reserva de Contingência</td>\n",
              "      <td>0</td>\n",
              "      <td>259012,22</td>\n",
              "      <td>257864,69</td>\n",
              "      <td>0</td>\n",
              "      <td>0</td>\n",
              "      <td>0</td>\n",
              "    </tr>\n",
              "    <tr>\n",
              "      <th>1</th>\n",
              "      <td>2021/11</td>\n",
              "      <td>26000</td>\n",
              "      <td>Ministério da Educação</td>\n",
              "      <td>26404</td>\n",
              "      <td>Instituto Federal Baiano</td>\n",
              "      <td>154580</td>\n",
              "      <td>INSTITUTO FEDERAL BAIANO - CAMPUS ITAPETINGA</td>\n",
              "      <td>26404.0</td>\n",
              "      <td>INST.FED.DE EDUC.,CIENC.E TEC.BAIANO</td>\n",
              "      <td>26101</td>\n",
              "      <td>...</td>\n",
              "      <td>37</td>\n",
              "      <td>Locação de Mão-de-Obra</td>\n",
              "      <td>90</td>\n",
              "      <td>Reserva de Contingência</td>\n",
              "      <td>0</td>\n",
              "      <td>32352,45</td>\n",
              "      <td>0</td>\n",
              "      <td>0</td>\n",
              "      <td>0</td>\n",
              "      <td>0</td>\n",
              "    </tr>\n",
              "    <tr>\n",
              "      <th>2</th>\n",
              "      <td>2021/11</td>\n",
              "      <td>24000</td>\n",
              "      <td>Ministério da Ciência, Tecnologia, Inovações</td>\n",
              "      <td>20501</td>\n",
              "      <td>Conselho Nacional de Desenvolvimento Científic...</td>\n",
              "      <td>364102</td>\n",
              "      <td>CONSELHO NAC DE DESENV CIENT E TECNOLOGICO</td>\n",
              "      <td>36201.0</td>\n",
              "      <td>CONSELHO NAC.DE DESENV.CIENTIFICO TECNOLOGICO</td>\n",
              "      <td>52101</td>\n",
              "      <td>...</td>\n",
              "      <td>18</td>\n",
              "      <td>Auxílio Financeiro a Estudantes</td>\n",
              "      <td>90</td>\n",
              "      <td>Reserva de Contingência</td>\n",
              "      <td>835900</td>\n",
              "      <td>131900</td>\n",
              "      <td>122900</td>\n",
              "      <td>0</td>\n",
              "      <td>0</td>\n",
              "      <td>0</td>\n",
              "    </tr>\n",
              "    <tr>\n",
              "      <th>3</th>\n",
              "      <td>2021/11</td>\n",
              "      <td>52000</td>\n",
              "      <td>Ministério da Defesa</td>\n",
              "      <td>52121</td>\n",
              "      <td>Comando do Exército</td>\n",
              "      <td>160015</td>\n",
              "      <td>COMANDO 2 GRUPAMENTO ENGENHARIA</td>\n",
              "      <td>1.0</td>\n",
              "      <td>TESOURO NACIONAL</td>\n",
              "      <td>39252</td>\n",
              "      <td>...</td>\n",
              "      <td>30</td>\n",
              "      <td>Material de Consumo</td>\n",
              "      <td>90</td>\n",
              "      <td>Reserva de Contingência</td>\n",
              "      <td>1103,08</td>\n",
              "      <td>1103,08</td>\n",
              "      <td>1103,08</td>\n",
              "      <td>0</td>\n",
              "      <td>0</td>\n",
              "      <td>0</td>\n",
              "    </tr>\n",
              "    <tr>\n",
              "      <th>4</th>\n",
              "      <td>2021/11</td>\n",
              "      <td>39000</td>\n",
              "      <td>Ministério da Infraestrutura</td>\n",
              "      <td>39252</td>\n",
              "      <td>Departamento Nacional de Infraestrutura de Tra...</td>\n",
              "      <td>393027</td>\n",
              "      <td>SUPERINTENDENCIA REG. NO ESTADO BA - DNIT</td>\n",
              "      <td>39252.0</td>\n",
              "      <td>DEPTO. NAC. DE INFRA±ESTRUTURA DE TRANSPORTES</td>\n",
              "      <td>39252</td>\n",
              "      <td>...</td>\n",
              "      <td>39</td>\n",
              "      <td>Outros Serviços de Terceiros - Pessoa Jurídic</td>\n",
              "      <td>91</td>\n",
              "      <td>APLICACOES DIRETAS - OPER.INTRA-ORCAMENTARIAS</td>\n",
              "      <td>-535,65</td>\n",
              "      <td>0</td>\n",
              "      <td>0</td>\n",
              "      <td>0</td>\n",
              "      <td>0</td>\n",
              "      <td>0</td>\n",
              "    </tr>\n",
              "  </tbody>\n",
              "</table>\n",
              "<p>5 rows × 47 columns</p>\n",
              "</div>\n",
              "      <button class=\"colab-df-convert\" onclick=\"convertToInteractive('df-4594dd9d-61f2-44af-a836-b76d396eeb9e')\"\n",
              "              title=\"Convert this dataframe to an interactive table.\"\n",
              "              style=\"display:none;\">\n",
              "        \n",
              "  <svg xmlns=\"http://www.w3.org/2000/svg\" height=\"24px\"viewBox=\"0 0 24 24\"\n",
              "       width=\"24px\">\n",
              "    <path d=\"M0 0h24v24H0V0z\" fill=\"none\"/>\n",
              "    <path d=\"M18.56 5.44l.94 2.06.94-2.06 2.06-.94-2.06-.94-.94-2.06-.94 2.06-2.06.94zm-11 1L8.5 8.5l.94-2.06 2.06-.94-2.06-.94L8.5 2.5l-.94 2.06-2.06.94zm10 10l.94 2.06.94-2.06 2.06-.94-2.06-.94-.94-2.06-.94 2.06-2.06.94z\"/><path d=\"M17.41 7.96l-1.37-1.37c-.4-.4-.92-.59-1.43-.59-.52 0-1.04.2-1.43.59L10.3 9.45l-7.72 7.72c-.78.78-.78 2.05 0 2.83L4 21.41c.39.39.9.59 1.41.59.51 0 1.02-.2 1.41-.59l7.78-7.78 2.81-2.81c.8-.78.8-2.07 0-2.86zM5.41 20L4 18.59l7.72-7.72 1.47 1.35L5.41 20z\"/>\n",
              "  </svg>\n",
              "      </button>\n",
              "      \n",
              "  <style>\n",
              "    .colab-df-container {\n",
              "      display:flex;\n",
              "      flex-wrap:wrap;\n",
              "      gap: 12px;\n",
              "    }\n",
              "\n",
              "    .colab-df-convert {\n",
              "      background-color: #E8F0FE;\n",
              "      border: none;\n",
              "      border-radius: 50%;\n",
              "      cursor: pointer;\n",
              "      display: none;\n",
              "      fill: #1967D2;\n",
              "      height: 32px;\n",
              "      padding: 0 0 0 0;\n",
              "      width: 32px;\n",
              "    }\n",
              "\n",
              "    .colab-df-convert:hover {\n",
              "      background-color: #E2EBFA;\n",
              "      box-shadow: 0px 1px 2px rgba(60, 64, 67, 0.3), 0px 1px 3px 1px rgba(60, 64, 67, 0.15);\n",
              "      fill: #174EA6;\n",
              "    }\n",
              "\n",
              "    [theme=dark] .colab-df-convert {\n",
              "      background-color: #3B4455;\n",
              "      fill: #D2E3FC;\n",
              "    }\n",
              "\n",
              "    [theme=dark] .colab-df-convert:hover {\n",
              "      background-color: #434B5C;\n",
              "      box-shadow: 0px 1px 3px 1px rgba(0, 0, 0, 0.15);\n",
              "      filter: drop-shadow(0px 1px 2px rgba(0, 0, 0, 0.3));\n",
              "      fill: #FFFFFF;\n",
              "    }\n",
              "  </style>\n",
              "\n",
              "      <script>\n",
              "        const buttonEl =\n",
              "          document.querySelector('#df-4594dd9d-61f2-44af-a836-b76d396eeb9e button.colab-df-convert');\n",
              "        buttonEl.style.display =\n",
              "          google.colab.kernel.accessAllowed ? 'block' : 'none';\n",
              "\n",
              "        async function convertToInteractive(key) {\n",
              "          const element = document.querySelector('#df-4594dd9d-61f2-44af-a836-b76d396eeb9e');\n",
              "          const dataTable =\n",
              "            await google.colab.kernel.invokeFunction('convertToInteractive',\n",
              "                                                     [key], {});\n",
              "          if (!dataTable) return;\n",
              "\n",
              "          const docLinkHtml = 'Like what you see? Visit the ' +\n",
              "            '<a target=\"_blank\" href=https://colab.research.google.com/notebooks/data_table.ipynb>data table notebook</a>'\n",
              "            + ' to learn more about interactive tables.';\n",
              "          element.innerHTML = '';\n",
              "          dataTable['output_type'] = 'display_data';\n",
              "          await google.colab.output.renderOutput(dataTable, element);\n",
              "          const docLink = document.createElement('div');\n",
              "          docLink.innerHTML = docLinkHtml;\n",
              "          element.appendChild(docLink);\n",
              "        }\n",
              "      </script>\n",
              "    </div>\n",
              "  </div>\n",
              "  "
            ]
          },
          "metadata": {},
          "execution_count": 56
        }
      ]
    },
    {
      "cell_type": "code",
      "source": [
        "despesa_nov11.columns"
      ],
      "metadata": {
        "colab": {
          "base_uri": "https://localhost:8080/"
        },
        "id": "hX3oPsQGLFvC",
        "outputId": "14837df4-e39a-4803-d2d2-b3b0524114a0"
      },
      "execution_count": null,
      "outputs": [
        {
          "output_type": "execute_result",
          "data": {
            "text/plain": [
              "Index(['Ano e mês do lançamento', 'Código Órgão Superior',\n",
              "       'Nome Órgão Superior', 'Código Órgão Subordinado',\n",
              "       'Nome Órgão Subordinado', 'Código Unidade Gestora',\n",
              "       'Nome Unidade Gestora', 'Código Gestão', 'Nome Gestão',\n",
              "       'Código Unidade Orçamentária', 'Nome Unidade Orçamentária',\n",
              "       'Código Função', 'Nome Função', 'Código Subfução', 'Nome Subfunção',\n",
              "       'Código Programa Orçamentário', 'Nome Programa Orçamentário',\n",
              "       'Código Ação', 'Nome Ação', 'Código Plano Orçamentário',\n",
              "       'Plano Orçamentário', 'Código Programa Governo',\n",
              "       'Nome Programa Governo', 'UF', 'Município', 'Código Subtítulo',\n",
              "       'Nome Subtítulo', 'Código Localizador', 'Nome Localizador',\n",
              "       'Sigla Localizador', 'Descrição Complementar Localizador',\n",
              "       'Código Autor Emenda', 'Nome Autor Emenda',\n",
              "       'Código Categoria Econômica', 'Nome Categoria Econômica',\n",
              "       'Código Grupo de Despesa', 'Nome Grupo de Despesa',\n",
              "       'Código Elemento de Despesa', 'Nome Elemento de Despesa',\n",
              "       'Código Modalidade da Despesa', 'Modalidade da Despesa',\n",
              "       'Valor Empenhado (R$)', 'Valor Liquidado (R$)', 'Valor Pago (R$)',\n",
              "       'Valor Restos a Pagar Inscritos (R$)',\n",
              "       'Valor Restos a Pagar Cancelado (R$)',\n",
              "       'Valor Restos a Pagar Pagos (R$)'],\n",
              "      dtype='object')"
            ]
          },
          "metadata": {},
          "execution_count": 57
        }
      ]
    },
    {
      "cell_type": "code",
      "source": [
        "despesa_nov11.nunique()"
      ],
      "metadata": {
        "colab": {
          "base_uri": "https://localhost:8080/"
        },
        "id": "ieMMULKELFs8",
        "outputId": "d9a63a26-f422-49e8-c35e-0fd7f4a95899"
      },
      "execution_count": null,
      "outputs": [
        {
          "output_type": "execute_result",
          "data": {
            "text/plain": [
              "Ano e mês do lançamento                    1\n",
              "Código Órgão Superior                     22\n",
              "Nome Órgão Superior                       22\n",
              "Código Órgão Subordinado                 240\n",
              "Nome Órgão Subordinado                   239\n",
              "Código Unidade Gestora                  3322\n",
              "Nome Unidade Gestora                    2897\n",
              "Código Gestão                            187\n",
              "Nome Gestão                              187\n",
              "Código Unidade Orçamentária              352\n",
              "Nome Unidade Orçamentária                343\n",
              "Código Função                             28\n",
              "Nome Função                               28\n",
              "Código Subfução                           97\n",
              "Nome Subfunção                            97\n",
              "Código Programa Orçamentário             175\n",
              "Nome Programa Orçamentário               157\n",
              "Código Ação                             1020\n",
              "Nome Ação                               1019\n",
              "Código Plano Orçamentário                218\n",
              "Plano Orçamentário                      2802\n",
              "Código Programa Governo                    9\n",
              "Nome Programa Governo                     10\n",
              "UF                                        27\n",
              "Município                                314\n",
              "Código Subtítulo                        3073\n",
              "Nome Subtítulo                          2776\n",
              "Código Localizador                       490\n",
              "Nome Localizador                          35\n",
              "Sigla Localizador                         34\n",
              "Descrição Complementar Localizador         1\n",
              "Código Autor Emenda                      200\n",
              "Nome Autor Emenda                       3419\n",
              "Código Categoria Econômica                 2\n",
              "Nome Categoria Econômica                   2\n",
              "Código Grupo de Despesa                    6\n",
              "Nome Grupo de Despesa                      6\n",
              "Código Elemento de Despesa                66\n",
              "Nome Elemento de Despesa                  66\n",
              "Código Modalidade da Despesa              13\n",
              "Modalidade da Despesa                     15\n",
              "Valor Empenhado (R$)                   32704\n",
              "Valor Liquidado (R$)                   39905\n",
              "Valor Pago (R$)                        38865\n",
              "Valor Restos a Pagar Inscritos (R$)      685\n",
              "Valor Restos a Pagar Cancelado (R$)     3843\n",
              "Valor Restos a Pagar Pagos (R$)        10084\n",
              "dtype: int64"
            ]
          },
          "metadata": {},
          "execution_count": 58
        }
      ]
    },
    {
      "cell_type": "code",
      "source": [
        "#Olhando para algumas colunas específicas:\n",
        "despesa_nov11 ['Nome Órgão Superior'].value_counts()"
      ],
      "metadata": {
        "colab": {
          "base_uri": "https://localhost:8080/"
        },
        "id": "E_SQuvIvLFql",
        "outputId": "4af93d76-a97a-49d4-eb6a-9001625c53dc"
      },
      "execution_count": null,
      "outputs": [
        {
          "output_type": "execute_result",
          "data": {
            "text/plain": [
              "Ministério da Defesa                             21933\n",
              "Ministério da Educação                           17811\n",
              "Ministério da Agricultura, Pecuária e Abastec     4340\n",
              "Ministério da Saúde                               4027\n",
              "Ministério da Economia                            3781\n",
              "Ministério da Justiça e Segurança Pública         3139\n",
              "Ministério das Relações Exteriores                2958\n",
              "Ministério do Desenvolvimento Regional            1817\n",
              "Ministério de Minas e Energia                     1774\n",
              "Ministério do Trabalho                            1528\n",
              "Ministério da Infraestrutura                      1052\n",
              "Ministério do Turismo                             1033\n",
              "Ministério da Ciência, Tecnologia, Inovações       981\n",
              "Ministério do Meio Ambiente                        829\n",
              "Ministério da Cidadania                            773\n",
              "Sem informação                                     676\n",
              "Ministério das Comunicações                        378\n",
              "Ministério da Mulher, Família e Direitos Huma      235\n",
              "Presidência da República                           223\n",
              "Advocacia-Geral da União                           129\n",
              "Banco Central do Brasil - Orçamento Fiscal e        91\n",
              "Controladoria-Geral da União                        76\n",
              "Name: Nome Órgão Superior, dtype: int64"
            ]
          },
          "metadata": {},
          "execution_count": 61
        }
      ]
    },
    {
      "cell_type": "code",
      "source": [
        "fig = plt.figure(\n",
        "                FigureClass=Waffle,\n",
        "                rows=4,\n",
        "                columns=10,\n",
        "                values={'Ministério da Defesa':  21933,\n",
        "                    'Ministério da Educação': 17811,\n",
        "                        'Ministério da Agricultura, Pecuária': 4340,\n",
        "                        'Ministério da Saúde ': 4027,\n",
        "                        'Ministério da Economia': 3781,\n",
        "                        'Ministério da Justiça e Segurança Pública': 3139,\n",
        "                        'Ministério das Relações Exteriores': 2958\n",
        "                        },\n",
        "                legend={'loc': 'upper left',\n",
        "                        'bbox_to_anchor': (1.1, 1)}\n",
        "                )\n",
        "\n",
        "fig.set_tight_layout(False)\n",
        "plt.show()"
      ],
      "metadata": {
        "colab": {
          "base_uri": "https://localhost:8080/",
          "height": 161
        },
        "id": "Z8A0P3tZLFoB",
        "outputId": "2a7a36e0-a6f1-40f9-a3cf-a0da95ff1f78"
      },
      "execution_count": null,
      "outputs": [
        {
          "output_type": "display_data",
          "data": {
            "text/plain": [
              "<Waffle size 432x288 with 1 Axes>"
            ],
            "image/png": "[encoded data removed]"
          },
          "metadata": {
            "needs_background": "light"
          }
        }
      ]
    },
    {
      "cell_type": "code",
      "source": [
        "despesa_nov11 ['Nome Unidade Orçamentária'].value_counts()"
      ],
      "metadata": {
        "colab": {
          "base_uri": "https://localhost:8080/"
        },
        "id": "Q5BEtVgPLFk7",
        "outputId": "014c3d2d-ded4-425f-d414-5af06f1e39d6"
      },
      "execution_count": null,
      "outputs": [
        {
          "output_type": "execute_result",
          "data": {
            "text/plain": [
              "COMANDO DO EXERCITO                              8654\n",
              "FUNDO DO EXERCITO                                4181\n",
              "FUNDO NACIONAL DE SAUDE                          3659\n",
              "MINISTERIO DAS RELACOES EXTERIORES               2968\n",
              "FUNDO NAVAL                                      2295\n",
              "                                                 ... \n",
              "REC.SOB SUP./FUNDO DA MAR.MERCANTE/FMM-MINFRA       1\n",
              "RECURSOS SOB SUPERVISAO DA ANS                      1\n",
              "TRIBUNAL REGIONAL ELEITORAL DE MATO G. DO SUL       1\n",
              "REC.SOB SUP.CAIXA DE FIN.IMOB.DA AERONAUTICA        1\n",
              "FUNDO DE ESTAB.DO SEG.RURAL-FESR-R.S/SUP.ME         1\n",
              "Name: Nome Unidade Orçamentária, Length: 343, dtype: int64"
            ]
          },
          "metadata": {},
          "execution_count": 62
        }
      ]
    },
    {
      "cell_type": "code",
      "source": [
        "fig = plt.figure(\n",
        "                FigureClass=Waffle,\n",
        "                rows=4,\n",
        "                columns=10,\n",
        "                values={'COMANDO DO EXERCITO  ':  8654,\n",
        "                    'FUNDO DO EXERCITO ': 4181,\n",
        "                        'FUNDO NACIONAL DE SAUDE': 3659,\n",
        "                        'MINISTERIO DAS RELACOES EXTERIORES': 2968,\n",
        "                        'FUNDO NAVAL ': 2295\n",
        "                                               },\n",
        "                legend={'loc': 'upper left',\n",
        "                        'bbox_to_anchor': (1.1, 1)}\n",
        "                )\n",
        "\n",
        "fig.set_tight_layout(False)\n",
        "plt.show()"
      ],
      "metadata": {
        "colab": {
          "base_uri": "https://localhost:8080/",
          "height": 161
        },
        "id": "xFaXQ0X5LFiR",
        "outputId": "87e4d3dd-ad7a-4508-b51a-4170ab3e98a2"
      },
      "execution_count": null,
      "outputs": [
        {
          "output_type": "display_data",
          "data": {
            "text/plain": [
              "<Waffle size 432x288 with 1 Axes>"
            ],
            "image/png": "[encoded data removed]"
          },
          "metadata": {
            "needs_background": "light"
          }
        }
      ]
    },
    {
      "cell_type": "markdown",
      "source": [
        "- As despesas se mantém entre os ministérios em relação à novembro do ano passado.\n",
        "- Há um padrão entre as despesas públicas, estando os gastos distribuidos entre o ministério da defesa (comando exército e fundo do exército) porém apesar de o ministério da saúde aparecer com menor expressão entre os órgãos superiores, o fundo nacional de saúde tem destaque quando se olha para a unidade orçamentária.\n",
        "- O Fundo Nacional de Saúde é o gestor financeiro dos recursos destinados a financiar as despesas correntes e de capital do Ministério da Saúde bem como dos órgãos e entidades da administração direta e indireta, integrantes do Sistema Único de Saúde (SUS)."
      ],
      "metadata": {
        "id": "ubnA8Ld3QSzs"
      }
    },
    {
      "cell_type": "code",
      "source": [
        "despesa_nov11['Modalidade da Despesa'].value_counts()"
      ],
      "metadata": {
        "colab": {
          "base_uri": "https://localhost:8080/"
        },
        "id": "UEvyvMzcMVc1",
        "outputId": "3940ebe3-2ab9-4014-fbc5-e04784441ed7"
      },
      "execution_count": null,
      "outputs": [
        {
          "output_type": "execute_result",
          "data": {
            "text/plain": [
              "Reserva de Contingência                                       63345\n",
              "APLICACOES DIRETAS - OPER.INTRA-ORCAMENTARIAS                  2244\n",
              "TRANSFERENCIAS A MUNICIPIOS - FUNDO A FUNDO                    1136\n",
              "Transferências a Municípios                                    1060\n",
              "Transferências a Instituições Privadas sem Fins Lucrativos      839\n",
              "TRANSFER. A ESTADOS E AO DF - FUNDO A FUNDO                     329\n",
              "Transferências a Estados e ao Distrito Federal                  316\n",
              "Transferências ao Exterior                                      196\n",
              "APLICACOES DIRETAS - OP. INTRA-ORCAMENTARIAS                     36\n",
              "EXECUCAO ORCAMENTARIA DELEGADA A MUNICIPIOS                      32\n",
              "TRANSFERENCIAS A ESTADOS E DF - FUNDO A FUNDO                    24\n",
              "TRANSF.CONSORC.PUB.MEDIANTE CONTRATO RATEIO                      10\n",
              "EXECUCAO ORCAMENTARIA DELEGADA AOS ESTADOS/DF                    10\n",
              "Transferências a Instituições Multigovernamentais                 6\n",
              "Transferências a Instituições Privadas com Fins Lucrativos        1\n",
              "Name: Modalidade da Despesa, dtype: int64"
            ]
          },
          "metadata": {},
          "execution_count": 64
        }
      ]
    },
    {
      "cell_type": "code",
      "source": [
        "despesa_nov11 ['Nome Programa Orçamentário'].value_counts()"
      ],
      "metadata": {
        "id": "ilqJRwt04cyZ",
        "outputId": "6d8f91b2-c0c8-4404-d88b-752b025363d5",
        "colab": {
          "base_uri": "https://localhost:8080/"
        }
      },
      "execution_count": null,
      "outputs": [
        {
          "output_type": "execute_result",
          "data": {
            "text/plain": [
              "PROGRAMA DE GESTAO E MANUTENCAO DO PODER EXECUTIVO                           25030\n",
              "DEFESA NACIONAL                                                               9490\n",
              "EDUCACAO PROFISSIONAL E TECNOLOGICA                                           7001\n",
              "EDUCACAO SUPERIOR - GRADUACAO, POS-GRADUACAO, ENSINO, PESQUISA E EXTENSAO     4490\n",
              "POLITICA EXTERNA                                                              2256\n",
              "                                                                             ...  \n",
              "PROMOCAO DA PESQUISA E DO DESENVOLVIMENTO CIENTIFICO E TECNOLOGICO               1\n",
              "CULTURA VIVA - ARTE, EDUCACAO E CIDADANIA                                        1\n",
              "DESENVOLVIMENTO DA EDUCACAO PROFISSIONAL E TECNOLOGICA                           1\n",
              "PREVIDENCIA SOCIAL                                                               1\n",
              "RESIDUOS SOLIDOS URBANOS                                                         1\n",
              "Name: Nome Programa Orçamentário, Length: 157, dtype: int64"
            ]
          },
          "metadata": {},
          "execution_count": 68
        }
      ]
    },
    {
      "cell_type": "code",
      "source": [
        "despesa_nov11['Nome Órgão Subordinado'].value_counts()"
      ],
      "metadata": {
        "colab": {
          "base_uri": "https://localhost:8080/"
        },
        "id": "SZwMubRDMVZ8",
        "outputId": "cf909244-869b-40e4-a2c7-4708c08fe56a"
      },
      "execution_count": null,
      "outputs": [
        {
          "output_type": "execute_result",
          "data": {
            "text/plain": [
              "Comando do Exército                                                 11026\n",
              "Comando da Marinha                                                   4232\n",
              "Fundo do Exército                                                    3858\n",
              "Ministério das Relações Exteriores - Unidades com vínculo direto     2931\n",
              "Ministério da Saúde - Unidades com vínculo direto                    2767\n",
              "                                                                    ...  \n",
              "Fundo Constitucional de Financiamento do Centro-Oeste                   1\n",
              "Secretaria Nacional do Consumidor Fundo                                 1\n",
              "Fundo Geral de Turismo                                                  1\n",
              "Fundo Nacional do Meio Ambiente                                         1\n",
              "Fundo de Estabilidade do Seguro Rural                                   1\n",
              "Name: Nome Órgão Subordinado, Length: 239, dtype: int64"
            ]
          },
          "metadata": {},
          "execution_count": 65
        }
      ]
    },
    {
      "cell_type": "code",
      "source": [
        "figura = plt.figure()\n",
        "ax = figura.add_axes([0,0,1.5,1.3])\n",
        "series_netflix = [\"Comando do Exército\", \"Comando da Marinha\", \"Fundo do Exército \", \"Ministério das Relações Exteriores\",\n",
        "                  \"Ministério da Saúde\"]\n",
        "pontos = [11026, 4232, 3858, 2931, 2767]\n",
        "ax.barh(series_netflix, pontos, color = \"blue\")\n",
        "ax.set_title(\"Despesas de órgãos subordinados 11/2021\", fontsize=16)\n",
        "ax.set_xlabel(\"contagem de item exclusivo\", fontsize=15)\n",
        "ax.set_ylabel(\"órgãos\", fontsize=15)\n",
        "plt.show()"
      ],
      "metadata": {
        "colab": {
          "base_uri": "https://localhost:8080/",
          "height": 460
        },
        "id": "z95wMB3bMVXP",
        "outputId": "45565593-a623-48c4-eba3-49aa848ab0a9"
      },
      "execution_count": null,
      "outputs": [
        {
          "output_type": "display_data",
          "data": {
            "text/plain": [
              "<Figure size 432x288 with 1 Axes>"
            ],
            "image/png": "[encoded data removed]"
          },
          "metadata": {
            "needs_background": "light"
          }
        }
      ]
    },
    {
      "cell_type": "code",
      "source": [],
      "metadata": {
        "id": "xQlKBSBLR_bJ"
      },
      "execution_count": null,
      "outputs": []
    },
    {
      "cell_type": "code",
      "source": [],
      "metadata": {
        "id": "OC0ntIK0R_Ya"
      },
      "execution_count": null,
      "outputs": []
    },
    {
      "cell_type": "code",
      "source": [],
      "metadata": {
        "id": "k2uKmdH4R_Vo"
      },
      "execution_count": null,
      "outputs": []
    },
    {
      "cell_type": "code",
      "source": [
        "<iframe src=\"https://portaldatransparencia.gov.br/graficos/embed/visualizacaoGraficaTabela/barras/barras-verticais?titulo=Receita%20realizada%20(valor%20arrecadado)%20de%20receitas%20por%20%C3%93rg%C3%A3o%20superior&funcionalidade=%2Freceitas%2Fconsulta&colunaOrdenacao=valorRealizado&colunasSelecionadas=orgaoSuperior%2CvalorRealizado&de=2022&ate=2022&orgaos=OS26000\" width=\"100%\" height=\"100%\" frameborder=\"0\" style=\"border:0\" allowfullscreen></iframe>"
      ],
      "metadata": {
        "id": "Kzy7kb90R_S6",
        "colab": {
          "base_uri": "https://localhost:8080/",
          "height": 185
        },
        "outputId": "d749358d-de87-4c70-9008-33461835c54f"
      },
      "execution_count": null,
      "outputs": [
        {
          "output_type": "error",
          "ename": "SyntaxError",
          "evalue": "ignored",
          "traceback": [
            "\u001b[0;36m  File \u001b[0;32m\"<ipython-input-87-f7ade7af0795>\"\u001b[0;36m, line \u001b[0;32m1\u001b[0m\n\u001b[0;31m    <iframe src=\"https://portaldatransparencia.gov.br/graficos/embed/visualizacaoGraficaTabela/barras/barras-verticais?titulo=Receita%20realizada%20(valor%20arrecadado)%20de%20receitas%20por%20%C3%93rg%C3%A3o%20superior&funcionalidade=%2Freceitas%2Fconsulta&colunaOrdenacao=valorRealizado&colunasSelecionadas=orgaoSuperior%2CvalorRealizado&de=2022&ate=2022&orgaos=OS26000\" width=\"100%\" height=\"100%\" frameborder=\"0\" style=\"border:0\" allowfullscreen></iframe>\u001b[0m\n\u001b[0m    ^\u001b[0m\n\u001b[0;31mSyntaxError\u001b[0m\u001b[0;31m:\u001b[0m invalid syntax\n"
          ]
        }
      ]
    },
    {
      "cell_type": "markdown",
      "source": [
        "**Dados para agregar à análise:**\n",
        "\n",
        "Dados da Execução da Despesa por Órgão - Ministério da Defesa de janeiro a novembro de 2022\n"
      ],
      "metadata": {
        "id": "Q-rpFJkGNYuS"
      }
    },
    {
      "cell_type": "markdown",
      "source": [
        "- Onde estão as despesas do ministério da defesa? \n",
        "- Quais entidades ou órgãos públicos aparecem nas despesas públicas?"
      ],
      "metadata": {
        "id": "mgJvLyyYSqxD"
      }
    },
    {
      "cell_type": "code",
      "source": [
        "despesa_defesa = pd.read_csv ('/content/despesasPorOrgao .csv', sep=';', header= 0)"
      ],
      "metadata": {
        "id": "hCHsUIdZQzgq"
      },
      "execution_count": null,
      "outputs": []
    },
    {
      "cell_type": "code",
      "source": [
        "despesa_defesa.head()"
      ],
      "metadata": {
        "id": "5GwQPR9wRnXM",
        "colab": {
          "base_uri": "https://localhost:8080/",
          "height": 206
        },
        "outputId": "6b84d4bd-1cba-48da-f0f9-0223245dbaac"
      },
      "execution_count": null,
      "outputs": [
        {
          "output_type": "execute_result",
          "data": {
            "text/plain": [
              "  Mês Ano                Órgão Superior  \\\n",
              "0  abr/22  52000 - Ministério da Defesa   \n",
              "1  fev/22  52000 - Ministério da Defesa   \n",
              "2  mar/22  52000 - Ministério da Defesa   \n",
              "3  jul/22  52000 - Ministério da Defesa   \n",
              "4  jun/22  52000 - Ministério da Defesa   \n",
              "\n",
              "                          Órgão/Entidade Vinculada Valor Empenhado  \\\n",
              "0  52233 - Amazônia Azul Tecnologia de Defesa S.A.    1.065.760,15   \n",
              "1  52233 - Amazônia Azul Tecnologia de Defesa S.A.      248.866,63   \n",
              "2  52233 - Amazônia Azul Tecnologia de Defesa S.A.   12.015.574,89   \n",
              "3  52233 - Amazônia Azul Tecnologia de Defesa S.A.      299.052,78   \n",
              "4  52233 - Amazônia Azul Tecnologia de Defesa S.A.   68.497.200,20   \n",
              "\n",
              "  Valor Liquidado     Valor Pago Valor Restos a Pagar Pagos  \n",
              "0   27.436.447,92  44.299.195,78               1.006.176,05  \n",
              "1   24.316.618,53  22.947.476,47               6.141.535,40  \n",
              "2   41.950.875,33  24.861.248,38               6.604.103,54  \n",
              "3   34.834.666,27  37.106.206,86                 121.077,06  \n",
              "4   35.837.130,03  82.200.977,49               9.533.840,16  "
            ],
            "text/html": [
              "\n",
              "  <div id=\"df-e6a61d00-7433-44c6-9903-1d73effcd234\">\n",
              "    <div class=\"colab-df-container\">\n",
              "      <div>\n",
              "<style scoped>\n",
              "    .dataframe tbody tr th:only-of-type {\n",
              "        vertical-align: middle;\n",
              "    }\n",
              "\n",
              "    .dataframe tbody tr th {\n",
              "        vertical-align: top;\n",
              "    }\n",
              "\n",
              "    .dataframe thead th {\n",
              "        text-align: right;\n",
              "    }\n",
              "</style>\n",
              "<table border=\"1\" class=\"dataframe\">\n",
              "  <thead>\n",
              "    <tr style=\"text-align: right;\">\n",
              "      <th></th>\n",
              "      <th>Mês Ano</th>\n",
              "      <th>Órgão Superior</th>\n",
              "      <th>Órgão/Entidade Vinculada</th>\n",
              "      <th>Valor Empenhado</th>\n",
              "      <th>Valor Liquidado</th>\n",
              "      <th>Valor Pago</th>\n",
              "      <th>Valor Restos a Pagar Pagos</th>\n",
              "    </tr>\n",
              "  </thead>\n",
              "  <tbody>\n",
              "    <tr>\n",
              "      <th>0</th>\n",
              "      <td>abr/22</td>\n",
              "      <td>52000 - Ministério da Defesa</td>\n",
              "      <td>52233 - Amazônia Azul Tecnologia de Defesa S.A.</td>\n",
              "      <td>1.065.760,15</td>\n",
              "      <td>27.436.447,92</td>\n",
              "      <td>44.299.195,78</td>\n",
              "      <td>1.006.176,05</td>\n",
              "    </tr>\n",
              "    <tr>\n",
              "      <th>1</th>\n",
              "      <td>fev/22</td>\n",
              "      <td>52000 - Ministério da Defesa</td>\n",
              "      <td>52233 - Amazônia Azul Tecnologia de Defesa S.A.</td>\n",
              "      <td>248.866,63</td>\n",
              "      <td>24.316.618,53</td>\n",
              "      <td>22.947.476,47</td>\n",
              "      <td>6.141.535,40</td>\n",
              "    </tr>\n",
              "    <tr>\n",
              "      <th>2</th>\n",
              "      <td>mar/22</td>\n",
              "      <td>52000 - Ministério da Defesa</td>\n",
              "      <td>52233 - Amazônia Azul Tecnologia de Defesa S.A.</td>\n",
              "      <td>12.015.574,89</td>\n",
              "      <td>41.950.875,33</td>\n",
              "      <td>24.861.248,38</td>\n",
              "      <td>6.604.103,54</td>\n",
              "    </tr>\n",
              "    <tr>\n",
              "      <th>3</th>\n",
              "      <td>jul/22</td>\n",
              "      <td>52000 - Ministério da Defesa</td>\n",
              "      <td>52233 - Amazônia Azul Tecnologia de Defesa S.A.</td>\n",
              "      <td>299.052,78</td>\n",
              "      <td>34.834.666,27</td>\n",
              "      <td>37.106.206,86</td>\n",
              "      <td>121.077,06</td>\n",
              "    </tr>\n",
              "    <tr>\n",
              "      <th>4</th>\n",
              "      <td>jun/22</td>\n",
              "      <td>52000 - Ministério da Defesa</td>\n",
              "      <td>52233 - Amazônia Azul Tecnologia de Defesa S.A.</td>\n",
              "      <td>68.497.200,20</td>\n",
              "      <td>35.837.130,03</td>\n",
              "      <td>82.200.977,49</td>\n",
              "      <td>9.533.840,16</td>\n",
              "    </tr>\n",
              "  </tbody>\n",
              "</table>\n",
              "</div>\n",
              "      <button class=\"colab-df-convert\" onclick=\"convertToInteractive('df-e6a61d00-7433-44c6-9903-1d73effcd234')\"\n",
              "              title=\"Convert this dataframe to an interactive table.\"\n",
              "              style=\"display:none;\">\n",
              "        \n",
              "  <svg xmlns=\"http://www.w3.org/2000/svg\" height=\"24px\"viewBox=\"0 0 24 24\"\n",
              "       width=\"24px\">\n",
              "    <path d=\"M0 0h24v24H0V0z\" fill=\"none\"/>\n",
              "    <path d=\"M18.56 5.44l.94 2.06.94-2.06 2.06-.94-2.06-.94-.94-2.06-.94 2.06-2.06.94zm-11 1L8.5 8.5l.94-2.06 2.06-.94-2.06-.94L8.5 2.5l-.94 2.06-2.06.94zm10 10l.94 2.06.94-2.06 2.06-.94-2.06-.94-.94-2.06-.94 2.06-2.06.94z\"/><path d=\"M17.41 7.96l-1.37-1.37c-.4-.4-.92-.59-1.43-.59-.52 0-1.04.2-1.43.59L10.3 9.45l-7.72 7.72c-.78.78-.78 2.05 0 2.83L4 21.41c.39.39.9.59 1.41.59.51 0 1.02-.2 1.41-.59l7.78-7.78 2.81-2.81c.8-.78.8-2.07 0-2.86zM5.41 20L4 18.59l7.72-7.72 1.47 1.35L5.41 20z\"/>\n",
              "  </svg>\n",
              "      </button>\n",
              "      \n",
              "  <style>\n",
              "    .colab-df-container {\n",
              "      display:flex;\n",
              "      flex-wrap:wrap;\n",
              "      gap: 12px;\n",
              "    }\n",
              "\n",
              "    .colab-df-convert {\n",
              "      background-color: #E8F0FE;\n",
              "      border: none;\n",
              "      border-radius: 50%;\n",
              "      cursor: pointer;\n",
              "      display: none;\n",
              "      fill: #1967D2;\n",
              "      height: 32px;\n",
              "      padding: 0 0 0 0;\n",
              "      width: 32px;\n",
              "    }\n",
              "\n",
              "    .colab-df-convert:hover {\n",
              "      background-color: #E2EBFA;\n",
              "      box-shadow: 0px 1px 2px rgba(60, 64, 67, 0.3), 0px 1px 3px 1px rgba(60, 64, 67, 0.15);\n",
              "      fill: #174EA6;\n",
              "    }\n",
              "\n",
              "    [theme=dark] .colab-df-convert {\n",
              "      background-color: #3B4455;\n",
              "      fill: #D2E3FC;\n",
              "    }\n",
              "\n",
              "    [theme=dark] .colab-df-convert:hover {\n",
              "      background-color: #434B5C;\n",
              "      box-shadow: 0px 1px 3px 1px rgba(0, 0, 0, 0.15);\n",
              "      filter: drop-shadow(0px 1px 2px rgba(0, 0, 0, 0.3));\n",
              "      fill: #FFFFFF;\n",
              "    }\n",
              "  </style>\n",
              "\n",
              "      <script>\n",
              "        const buttonEl =\n",
              "          document.querySelector('#df-e6a61d00-7433-44c6-9903-1d73effcd234 button.colab-df-convert');\n",
              "        buttonEl.style.display =\n",
              "          google.colab.kernel.accessAllowed ? 'block' : 'none';\n",
              "\n",
              "        async function convertToInteractive(key) {\n",
              "          const element = document.querySelector('#df-e6a61d00-7433-44c6-9903-1d73effcd234');\n",
              "          const dataTable =\n",
              "            await google.colab.kernel.invokeFunction('convertToInteractive',\n",
              "                                                     [key], {});\n",
              "          if (!dataTable) return;\n",
              "\n",
              "          const docLinkHtml = 'Like what you see? Visit the ' +\n",
              "            '<a target=\"_blank\" href=https://colab.research.google.com/notebooks/data_table.ipynb>data table notebook</a>'\n",
              "            + ' to learn more about interactive tables.';\n",
              "          element.innerHTML = '';\n",
              "          dataTable['output_type'] = 'display_data';\n",
              "          await google.colab.output.renderOutput(dataTable, element);\n",
              "          const docLink = document.createElement('div');\n",
              "          docLink.innerHTML = docLinkHtml;\n",
              "          element.appendChild(docLink);\n",
              "        }\n",
              "      </script>\n",
              "    </div>\n",
              "  </div>\n",
              "  "
            ]
          },
          "metadata": {},
          "execution_count": 80
        }
      ]
    },
    {
      "cell_type": "markdown",
      "source": [
        "- Valor pago ao ministerio da defesa: 88.209.936.056,26\n",
        "- Comando do Exército: 40.432.021.626,93\n",
        "- Amazônia Azul Tecnologia de Defesa S.A. R$358.220.713,80"
      ],
      "metadata": {
        "id": "GwZPpvhcFXHD"
      }
    },
    {
      "cell_type": "code",
      "source": [
        "despesa_defesa.columns"
      ],
      "metadata": {
        "id": "huvzCJik6u02",
        "colab": {
          "base_uri": "https://localhost:8080/"
        },
        "outputId": "ea4f4f0e-2ec2-47e7-a9ce-9e746044f4ea"
      },
      "execution_count": null,
      "outputs": [
        {
          "output_type": "execute_result",
          "data": {
            "text/plain": [
              "Index(['Mês Ano', 'Órgão Superior', 'Órgão/Entidade Vinculada',\n",
              "       'Valor Empenhado', 'Valor Liquidado', 'Valor Pago',\n",
              "       'Valor Restos a Pagar Pagos'],\n",
              "      dtype='object')"
            ]
          },
          "metadata": {},
          "execution_count": 81
        }
      ]
    },
    {
      "cell_type": "code",
      "source": [
        "despesa_defesa.columns = despesa_defesa.columns.str.replace(' ', '')"
      ],
      "metadata": {
        "id": "dvurBUD9FDtI"
      },
      "execution_count": null,
      "outputs": []
    },
    {
      "cell_type": "code",
      "source": [
        "#quantidade de registros únicos em cada coluna\n",
        "despesa_defesa.nunique()"
      ],
      "metadata": {
        "id": "_CKqmjEhRzsx",
        "colab": {
          "base_uri": "https://localhost:8080/"
        },
        "outputId": "e382ad49-915c-4b78-cb6c-bb6fe111226f"
      },
      "execution_count": null,
      "outputs": [
        {
          "output_type": "execute_result",
          "data": {
            "text/plain": [
              "Mês Ano                        11\n",
              "Órgão Superior                  1\n",
              "Órgão/Entidade Vinculada       10\n",
              "Valor Empenhado               110\n",
              "Valor Liquidado               110\n",
              "Valor Pago                    110\n",
              "Valor Restos a Pagar Pagos     98\n",
              "dtype: int64"
            ]
          },
          "metadata": {},
          "execution_count": 82
        }
      ]
    },
    {
      "cell_type": "code",
      "source": [
        "despesa_defesa ['ÓrgãoSuperior'].value_counts()"
      ],
      "metadata": {
        "id": "qqg12F4uR_oQ",
        "colab": {
          "base_uri": "https://localhost:8080/"
        },
        "outputId": "52237412-4182-4309-9e74-161b25438640"
      },
      "execution_count": null,
      "outputs": [
        {
          "output_type": "execute_result",
          "data": {
            "text/plain": [
              "52000 - Ministério da Defesa    110\n",
              "Name: ÓrgãoSuperior, dtype: int64"
            ]
          },
          "metadata": {},
          "execution_count": 84
        }
      ]
    },
    {
      "cell_type": "code",
      "source": [
        "despesa_defesa ['Órgão/EntidadeVinculada'].value_counts()"
      ],
      "metadata": {
        "id": "-A5blRPLFjK3",
        "colab": {
          "base_uri": "https://localhost:8080/"
        },
        "outputId": "667d7896-8e5d-4a41-c082-732a4bc76dce"
      },
      "execution_count": null,
      "outputs": [
        {
          "output_type": "execute_result",
          "data": {
            "text/plain": [
              "52233 - Amazônia Azul Tecnologia de Defesa S.A.                              11\n",
              "31280 - Caixa de Construções de Casas para o Pessoal da Marinha do Brasil    11\n",
              "52211 - Caixa de Financiamento Imobiliário da Aeronáutica                    11\n",
              "52111 - Comando da Aeronáutica                                               11\n",
              "52131 - Comando da Marinha                                                   11\n",
              "52121 - Comando do Exército                                                  11\n",
              "52222 - Fundação Osório                                                      11\n",
              "52904 - Fundo do Exército                                                    11\n",
              "52221 - Indústria de Material Bélico do Brasil                               11\n",
              "52000 - Ministério da Defesa - Unidades com vínculo direto                   11\n",
              "Name: Órgão/EntidadeVinculada, dtype: int64"
            ]
          },
          "metadata": {},
          "execution_count": 86
        }
      ]
    },
    {
      "cell_type": "markdown",
      "source": [
        "- Amazônia Azul Tecnologias de Defesa S.A. ou simplesmente Amazul é a uma empresa pública criada pelo governo brasileiro com a atribuição de desenvolver tecnologias ao Programa Nuclear Brasileiro e ao setor nuclear da marinha nacional."
      ],
      "metadata": {
        "id": "cWeiZUX4SUFP"
      }
    }
  ]
}